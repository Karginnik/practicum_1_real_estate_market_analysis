{
 "cells": [
  {
   "cell_type": "markdown",
   "metadata": {},
   "source": [
    "# Исследование объявлений о продаже квартир\n",
    "\n",
    "В вашем распоряжении данные сервиса Яндекс.Недвижимость — архив объявлений о продаже квартир в Санкт-Петербурге и соседних населённых пунктов за несколько лет. Нужно научиться определять рыночную стоимость объектов недвижимости. Ваша задача — установить параметры. Это позволит построить автоматизированную систему: она отследит аномалии и мошенническую деятельность. \n",
    "\n",
    "По каждой квартире на продажу доступны два вида данных. Первые вписаны пользователем, вторые — получены автоматически на основе картографических данных. Например, расстояние до центра, аэропорта, ближайшего парка и водоёма. "
   ]
  },
  {
   "cell_type": "markdown",
   "metadata": {},
   "source": [
    "### Откройте файл с данными и изучите общую информацию. "
   ]
  },
  {
   "cell_type": "markdown",
   "metadata": {},
   "source": [
    "Импортируем необходимые библиотеки"
   ]
  },
  {
   "cell_type": "code",
   "execution_count": 1,
   "metadata": {},
   "outputs": [],
   "source": [
    "import matplotlib.pyplot as plt\n",
    "import pandas as pd"
   ]
  },
  {
   "cell_type": "markdown",
   "metadata": {},
   "source": [
    "Загрузим датафрейм и выведем его первые 5 строк"
   ]
  },
  {
   "cell_type": "code",
   "execution_count": 2,
   "metadata": {
    "scrolled": true
   },
   "outputs": [
    {
     "data": {
      "text/html": [
       "<div>\n",
       "<style scoped>\n",
       "    .dataframe tbody tr th:only-of-type {\n",
       "        vertical-align: middle;\n",
       "    }\n",
       "\n",
       "    .dataframe tbody tr th {\n",
       "        vertical-align: top;\n",
       "    }\n",
       "\n",
       "    .dataframe thead th {\n",
       "        text-align: right;\n",
       "    }\n",
       "</style>\n",
       "<table border=\"1\" class=\"dataframe\">\n",
       "  <thead>\n",
       "    <tr style=\"text-align: right;\">\n",
       "      <th></th>\n",
       "      <th>total_images</th>\n",
       "      <th>last_price</th>\n",
       "      <th>total_area</th>\n",
       "      <th>first_day_exposition</th>\n",
       "      <th>rooms</th>\n",
       "      <th>ceiling_height</th>\n",
       "      <th>floors_total</th>\n",
       "      <th>living_area</th>\n",
       "      <th>floor</th>\n",
       "      <th>is_apartment</th>\n",
       "      <th>studio</th>\n",
       "      <th>open_plan</th>\n",
       "      <th>kitchen_area</th>\n",
       "      <th>balcony</th>\n",
       "      <th>locality_name</th>\n",
       "      <th>airports_nearest</th>\n",
       "      <th>cityCenters_nearest</th>\n",
       "      <th>parks_around3000</th>\n",
       "      <th>parks_nearest</th>\n",
       "      <th>ponds_around3000</th>\n",
       "      <th>ponds_nearest</th>\n",
       "      <th>days_exposition</th>\n",
       "    </tr>\n",
       "  </thead>\n",
       "  <tbody>\n",
       "    <tr>\n",
       "      <th>0</th>\n",
       "      <td>20</td>\n",
       "      <td>13000000.0</td>\n",
       "      <td>108.0</td>\n",
       "      <td>2019-03-07T00:00:00</td>\n",
       "      <td>3</td>\n",
       "      <td>2.70</td>\n",
       "      <td>16.0</td>\n",
       "      <td>51.0</td>\n",
       "      <td>8</td>\n",
       "      <td>NaN</td>\n",
       "      <td>False</td>\n",
       "      <td>False</td>\n",
       "      <td>25.0</td>\n",
       "      <td>NaN</td>\n",
       "      <td>Санкт-Петербург</td>\n",
       "      <td>18863.0</td>\n",
       "      <td>16028.0</td>\n",
       "      <td>1.0</td>\n",
       "      <td>482.0</td>\n",
       "      <td>2.0</td>\n",
       "      <td>755.0</td>\n",
       "      <td>NaN</td>\n",
       "    </tr>\n",
       "    <tr>\n",
       "      <th>1</th>\n",
       "      <td>7</td>\n",
       "      <td>3350000.0</td>\n",
       "      <td>40.4</td>\n",
       "      <td>2018-12-04T00:00:00</td>\n",
       "      <td>1</td>\n",
       "      <td>NaN</td>\n",
       "      <td>11.0</td>\n",
       "      <td>18.6</td>\n",
       "      <td>1</td>\n",
       "      <td>NaN</td>\n",
       "      <td>False</td>\n",
       "      <td>False</td>\n",
       "      <td>11.0</td>\n",
       "      <td>2.0</td>\n",
       "      <td>посёлок Шушары</td>\n",
       "      <td>12817.0</td>\n",
       "      <td>18603.0</td>\n",
       "      <td>0.0</td>\n",
       "      <td>NaN</td>\n",
       "      <td>0.0</td>\n",
       "      <td>NaN</td>\n",
       "      <td>81.0</td>\n",
       "    </tr>\n",
       "    <tr>\n",
       "      <th>2</th>\n",
       "      <td>10</td>\n",
       "      <td>5196000.0</td>\n",
       "      <td>56.0</td>\n",
       "      <td>2015-08-20T00:00:00</td>\n",
       "      <td>2</td>\n",
       "      <td>NaN</td>\n",
       "      <td>5.0</td>\n",
       "      <td>34.3</td>\n",
       "      <td>4</td>\n",
       "      <td>NaN</td>\n",
       "      <td>False</td>\n",
       "      <td>False</td>\n",
       "      <td>8.3</td>\n",
       "      <td>0.0</td>\n",
       "      <td>Санкт-Петербург</td>\n",
       "      <td>21741.0</td>\n",
       "      <td>13933.0</td>\n",
       "      <td>1.0</td>\n",
       "      <td>90.0</td>\n",
       "      <td>2.0</td>\n",
       "      <td>574.0</td>\n",
       "      <td>558.0</td>\n",
       "    </tr>\n",
       "    <tr>\n",
       "      <th>3</th>\n",
       "      <td>0</td>\n",
       "      <td>64900000.0</td>\n",
       "      <td>159.0</td>\n",
       "      <td>2015-07-24T00:00:00</td>\n",
       "      <td>3</td>\n",
       "      <td>NaN</td>\n",
       "      <td>14.0</td>\n",
       "      <td>NaN</td>\n",
       "      <td>9</td>\n",
       "      <td>NaN</td>\n",
       "      <td>False</td>\n",
       "      <td>False</td>\n",
       "      <td>NaN</td>\n",
       "      <td>0.0</td>\n",
       "      <td>Санкт-Петербург</td>\n",
       "      <td>28098.0</td>\n",
       "      <td>6800.0</td>\n",
       "      <td>2.0</td>\n",
       "      <td>84.0</td>\n",
       "      <td>3.0</td>\n",
       "      <td>234.0</td>\n",
       "      <td>424.0</td>\n",
       "    </tr>\n",
       "    <tr>\n",
       "      <th>4</th>\n",
       "      <td>2</td>\n",
       "      <td>10000000.0</td>\n",
       "      <td>100.0</td>\n",
       "      <td>2018-06-19T00:00:00</td>\n",
       "      <td>2</td>\n",
       "      <td>3.03</td>\n",
       "      <td>14.0</td>\n",
       "      <td>32.0</td>\n",
       "      <td>13</td>\n",
       "      <td>NaN</td>\n",
       "      <td>False</td>\n",
       "      <td>False</td>\n",
       "      <td>41.0</td>\n",
       "      <td>NaN</td>\n",
       "      <td>Санкт-Петербург</td>\n",
       "      <td>31856.0</td>\n",
       "      <td>8098.0</td>\n",
       "      <td>2.0</td>\n",
       "      <td>112.0</td>\n",
       "      <td>1.0</td>\n",
       "      <td>48.0</td>\n",
       "      <td>121.0</td>\n",
       "    </tr>\n",
       "  </tbody>\n",
       "</table>\n",
       "</div>"
      ],
      "text/plain": [
       "   total_images  last_price  total_area first_day_exposition  rooms  \\\n",
       "0            20  13000000.0       108.0  2019-03-07T00:00:00      3   \n",
       "1             7   3350000.0        40.4  2018-12-04T00:00:00      1   \n",
       "2            10   5196000.0        56.0  2015-08-20T00:00:00      2   \n",
       "3             0  64900000.0       159.0  2015-07-24T00:00:00      3   \n",
       "4             2  10000000.0       100.0  2018-06-19T00:00:00      2   \n",
       "\n",
       "   ceiling_height  floors_total  living_area  floor is_apartment  studio  \\\n",
       "0            2.70          16.0         51.0      8          NaN   False   \n",
       "1             NaN          11.0         18.6      1          NaN   False   \n",
       "2             NaN           5.0         34.3      4          NaN   False   \n",
       "3             NaN          14.0          NaN      9          NaN   False   \n",
       "4            3.03          14.0         32.0     13          NaN   False   \n",
       "\n",
       "   open_plan  kitchen_area  balcony    locality_name  airports_nearest  \\\n",
       "0      False          25.0      NaN  Санкт-Петербург           18863.0   \n",
       "1      False          11.0      2.0   посёлок Шушары           12817.0   \n",
       "2      False           8.3      0.0  Санкт-Петербург           21741.0   \n",
       "3      False           NaN      0.0  Санкт-Петербург           28098.0   \n",
       "4      False          41.0      NaN  Санкт-Петербург           31856.0   \n",
       "\n",
       "   cityCenters_nearest  parks_around3000  parks_nearest  ponds_around3000  \\\n",
       "0              16028.0               1.0          482.0               2.0   \n",
       "1              18603.0               0.0            NaN               0.0   \n",
       "2              13933.0               1.0           90.0               2.0   \n",
       "3               6800.0               2.0           84.0               3.0   \n",
       "4               8098.0               2.0          112.0               1.0   \n",
       "\n",
       "   ponds_nearest  days_exposition  \n",
       "0          755.0              NaN  \n",
       "1            NaN             81.0  \n",
       "2          574.0            558.0  \n",
       "3          234.0            424.0  \n",
       "4           48.0            121.0  "
      ]
     },
     "execution_count": 2,
     "metadata": {},
     "output_type": "execute_result"
    }
   ],
   "source": [
    "data = pd.read_csv('/datasets/real_estate_data.csv', sep='\\t')\n",
    "pd.set_option('display.max_columns', None)\n",
    "data.head()"
   ]
  },
  {
   "cell_type": "markdown",
   "metadata": {},
   "source": [
    "Узнаем общую информацию про полученный датафрейм"
   ]
  },
  {
   "cell_type": "code",
   "execution_count": 3,
   "metadata": {
    "scrolled": false
   },
   "outputs": [
    {
     "name": "stdout",
     "output_type": "stream",
     "text": [
      "<class 'pandas.core.frame.DataFrame'>\n",
      "RangeIndex: 23699 entries, 0 to 23698\n",
      "Data columns (total 22 columns):\n",
      " #   Column                Non-Null Count  Dtype  \n",
      "---  ------                --------------  -----  \n",
      " 0   total_images          23699 non-null  int64  \n",
      " 1   last_price            23699 non-null  float64\n",
      " 2   total_area            23699 non-null  float64\n",
      " 3   first_day_exposition  23699 non-null  object \n",
      " 4   rooms                 23699 non-null  int64  \n",
      " 5   ceiling_height        14504 non-null  float64\n",
      " 6   floors_total          23613 non-null  float64\n",
      " 7   living_area           21796 non-null  float64\n",
      " 8   floor                 23699 non-null  int64  \n",
      " 9   is_apartment          2775 non-null   object \n",
      " 10  studio                23699 non-null  bool   \n",
      " 11  open_plan             23699 non-null  bool   \n",
      " 12  kitchen_area          21421 non-null  float64\n",
      " 13  balcony               12180 non-null  float64\n",
      " 14  locality_name         23650 non-null  object \n",
      " 15  airports_nearest      18157 non-null  float64\n",
      " 16  cityCenters_nearest   18180 non-null  float64\n",
      " 17  parks_around3000      18181 non-null  float64\n",
      " 18  parks_nearest         8079 non-null   float64\n",
      " 19  ponds_around3000      18181 non-null  float64\n",
      " 20  ponds_nearest         9110 non-null   float64\n",
      " 21  days_exposition       20518 non-null  float64\n",
      "dtypes: bool(2), float64(14), int64(3), object(3)\n",
      "memory usage: 3.7+ MB\n"
     ]
    }
   ],
   "source": [
    "data.info()"
   ]
  },
  {
   "cell_type": "markdown",
   "metadata": {},
   "source": [
    "Построим общую гистограмму для всех стролбцов датафрейма"
   ]
  },
  {
   "cell_type": "code",
   "execution_count": 4,
   "metadata": {},
   "outputs": [
    {
     "data": {
      "image/png": "[encoded data removed]",
      "text/plain": [
       "<Figure size 1080x1440 with 20 Axes>"
      ]
     },
     "metadata": {
      "needs_background": "light"
     },
     "output_type": "display_data"
    }
   ],
   "source": [
    "data.hist(figsize=(15,20));"
   ]
  },
  {
   "cell_type": "markdown",
   "metadata": {},
   "source": [
    "**Вывод: Изучив полученный датафрейм можно сказать, что в нем присутствует большое количество пропусков и некоторые столбцы не соответствуют типам данных, которые лучше всего подходят для них. Построенные гистограммы явно смещены влево, возможно это из-за пропусков в нашем датафрейме.**"
   ]
  },
  {
   "cell_type": "markdown",
   "metadata": {},
   "source": [
    "### Предобработка данных"
   ]
  },
  {
   "cell_type": "markdown",
   "metadata": {},
   "source": [
    "#### Обработка пропусков"
   ]
  },
  {
   "cell_type": "markdown",
   "metadata": {},
   "source": [
    "Проверим, все ли колонки соотвествуют змеиному регистру"
   ]
  },
  {
   "cell_type": "code",
   "execution_count": 5,
   "metadata": {
    "scrolled": true
   },
   "outputs": [
    {
     "data": {
      "text/plain": [
       "Index(['total_images', 'last_price', 'total_area', 'first_day_exposition',\n",
       "       'rooms', 'ceiling_height', 'floors_total', 'living_area', 'floor',\n",
       "       'is_apartment', 'studio', 'open_plan', 'kitchen_area', 'balcony',\n",
       "       'locality_name', 'airports_nearest', 'cityCenters_nearest',\n",
       "       'parks_around3000', 'parks_nearest', 'ponds_around3000',\n",
       "       'ponds_nearest', 'days_exposition'],\n",
       "      dtype='object')"
      ]
     },
     "execution_count": 5,
     "metadata": {},
     "output_type": "execute_result"
    }
   ],
   "source": [
    "data.columns"
   ]
  },
  {
   "cell_type": "markdown",
   "metadata": {},
   "source": [
    "Переменуем колонку, которая не соотвествует змеиному регистру"
   ]
  },
  {
   "cell_type": "code",
   "execution_count": 6,
   "metadata": {},
   "outputs": [],
   "source": [
    "data = data.rename(columns={'cityCenters_nearest': 'city_centers_nearest'})"
   ]
  },
  {
   "cell_type": "markdown",
   "metadata": {},
   "source": [
    "Найдем количество пропусков в датафрейме"
   ]
  },
  {
   "cell_type": "code",
   "execution_count": 7,
   "metadata": {
    "scrolled": true
   },
   "outputs": [
    {
     "data": {
      "text/plain": [
       "total_images                0\n",
       "last_price                  0\n",
       "total_area                  0\n",
       "first_day_exposition        0\n",
       "rooms                       0\n",
       "ceiling_height           9195\n",
       "floors_total               86\n",
       "living_area              1903\n",
       "floor                       0\n",
       "is_apartment            20924\n",
       "studio                      0\n",
       "open_plan                   0\n",
       "kitchen_area             2278\n",
       "balcony                 11519\n",
       "locality_name              49\n",
       "airports_nearest         5542\n",
       "city_centers_nearest     5519\n",
       "parks_around3000         5518\n",
       "parks_nearest           15620\n",
       "ponds_around3000         5518\n",
       "ponds_nearest           14589\n",
       "days_exposition          3181\n",
       "dtype: int64"
      ]
     },
     "execution_count": 7,
     "metadata": {},
     "output_type": "execute_result"
    }
   ],
   "source": [
    "data.isna().sum()"
   ]
  },
  {
   "cell_type": "markdown",
   "metadata": {},
   "source": [
    "**Пропуск в столбце balcony скорее всего связан с отсутствием балкона в квартире, поэтому пропуски можно заменить нулем.**\n",
    "\n",
    "**Пропуск в столбце is_apartment скорее всего связан с тем, что квартиры не является апартаментами, поэтому заменим все пропуски значением False.**\n"
   ]
  },
  {
   "cell_type": "code",
   "execution_count": 8,
   "metadata": {},
   "outputs": [],
   "source": [
    "data['balcony'] = data['balcony'].fillna(0)\n",
    "data['is_apartment'] = data['is_apartment'].fillna(False)"
   ]
  },
  {
   "cell_type": "markdown",
   "metadata": {},
   "source": [
    "Проверим, есть ли такие квартиры, у которых указано расстояние до ближайшего парка, но стоит пропуск в столбце с количеством парков в радиусе 3 км."
   ]
  },
  {
   "cell_type": "code",
   "execution_count": 9,
   "metadata": {},
   "outputs": [
    {
     "data": {
      "text/plain": [
       "0"
      ]
     },
     "execution_count": 9,
     "metadata": {},
     "output_type": "execute_result"
    }
   ],
   "source": [
    "len(data.loc[(~data['parks_nearest'].isna()) & (data['parks_around3000'].isna())])"
   ]
  },
  {
   "cell_type": "markdown",
   "metadata": {},
   "source": [
    "Таких квартир нет, значит пропуск означает отсутствие парка в радиусе 3 км"
   ]
  },
  {
   "cell_type": "code",
   "execution_count": 10,
   "metadata": {},
   "outputs": [],
   "source": [
    "data['parks_around3000'] = data['parks_around3000'].fillna(0)"
   ]
  },
  {
   "cell_type": "markdown",
   "metadata": {},
   "source": [
    "Проверим количество пропусков в столбце parks_nearest, если количество парков в радиусе 3 км равно нулю. "
   ]
  },
  {
   "cell_type": "code",
   "execution_count": 11,
   "metadata": {},
   "outputs": [
    {
     "data": {
      "text/plain": [
       "15620"
      ]
     },
     "execution_count": 11,
     "metadata": {},
     "output_type": "execute_result"
    }
   ],
   "source": [
    "len(data.loc[(data['parks_around3000'] == 0) & (data['parks_nearest'].isna())])"
   ]
  },
  {
   "cell_type": "markdown",
   "metadata": {},
   "source": [
    "**Количество ячеек с пропусками соответствует общему количеству пропусков по столбцу parks_nearest, значит люди просто не указывали расстояние до парка, если их нет в радиусе 3 км.**"
   ]
  },
  {
   "cell_type": "markdown",
   "metadata": {},
   "source": [
    "Проделаем тоже самое, только для водоемов"
   ]
  },
  {
   "cell_type": "code",
   "execution_count": 12,
   "metadata": {
    "scrolled": true
   },
   "outputs": [
    {
     "data": {
      "text/plain": [
       "0"
      ]
     },
     "execution_count": 12,
     "metadata": {},
     "output_type": "execute_result"
    }
   ],
   "source": [
    "len(data.loc[(~data['ponds_nearest'].isna()) & (data['ponds_around3000'].isna())])"
   ]
  },
  {
   "cell_type": "code",
   "execution_count": 13,
   "metadata": {},
   "outputs": [],
   "source": [
    "data['ponds_around3000'] = data['ponds_around3000'].fillna(0)"
   ]
  },
  {
   "cell_type": "code",
   "execution_count": 14,
   "metadata": {
    "scrolled": true
   },
   "outputs": [
    {
     "data": {
      "text/plain": [
       "14589"
      ]
     },
     "execution_count": 14,
     "metadata": {},
     "output_type": "execute_result"
    }
   ],
   "source": [
    "len(data.loc[(data['ponds_around3000'] == 0) & (data['ponds_nearest'].isna())])"
   ]
  },
  {
   "cell_type": "markdown",
   "metadata": {},
   "source": [
    "**Количество ячеек с пропусками соответствует общему количеству пропусков по столбцу ponds_nearest, значит люди просто не указывали расстояние до водоема, если их нет в радиусе 3 км.**"
   ]
  },
  {
   "cell_type": "markdown",
   "metadata": {},
   "source": [
    "Так как скорее всего параметры квартиры зависят от количества комнат, то запеним пропуски в параметрах медианой, по параметру rooms"
   ]
  },
  {
   "cell_type": "code",
   "execution_count": 15,
   "metadata": {},
   "outputs": [],
   "source": [
    "characteristics = ['ceiling_height', 'living_area', 'kitchen_area']\n",
    "\n",
    "for room in data['rooms'].unique():\n",
    "    for characteristic in characteristics:\n",
    "        if characteristic == 'ceiling_height' and len(data.loc[data['rooms'] == room]) == 1:\n",
    "            continue\n",
    "        elif characteristic == 'kitchen_area' and room == 0:\n",
    "            continue\n",
    "        else:\n",
    "            data.loc[(data['rooms'] == room) & (data[characteristic].isna()), characteristic] = \\\n",
    "            data.loc[data['rooms'] == room, characteristic].median()\n"
   ]
  },
  {
   "cell_type": "markdown",
   "metadata": {},
   "source": [
    "В некоторых столбцах невозможно посчитать медиану, в таких столбцах пропуски остались на месте."
   ]
  },
  {
   "cell_type": "markdown",
   "metadata": {},
   "source": [
    "Посмотрим на оставшиеся пропуски в таблице"
   ]
  },
  {
   "cell_type": "code",
   "execution_count": 16,
   "metadata": {
    "scrolled": true
   },
   "outputs": [
    {
     "data": {
      "text/plain": [
       "total_images                0\n",
       "last_price                  0\n",
       "total_area                  0\n",
       "first_day_exposition        0\n",
       "rooms                       0\n",
       "ceiling_height              1\n",
       "floors_total               86\n",
       "living_area                 0\n",
       "floor                       0\n",
       "is_apartment                0\n",
       "studio                      0\n",
       "open_plan                   0\n",
       "kitchen_area              197\n",
       "balcony                     0\n",
       "locality_name              49\n",
       "airports_nearest         5542\n",
       "city_centers_nearest     5519\n",
       "parks_around3000            0\n",
       "parks_nearest           15620\n",
       "ponds_around3000            0\n",
       "ponds_nearest           14589\n",
       "days_exposition          3181\n",
       "dtype: int64"
      ]
     },
     "execution_count": 16,
     "metadata": {},
     "output_type": "execute_result"
    }
   ],
   "source": [
    "data.isna().sum()"
   ]
  },
  {
   "cell_type": "markdown",
   "metadata": {},
   "source": [
    "**C чем могут быть связаны оставшиеся пропуски:**\n",
    "\n",
    "    - ceiling_height - единственная квартира, у которой остался пропуск, это квартира с 19ю комнатами. Возможно, это полноценный дом, где величина потолков может различаться \n",
    "    - floors_total - возможно это отдельны строения, либо продавец просто не указал этот параметр\n",
    "    - kitchen_area - пропуски остались только у тех квартир, где количество комнат равно нулю. Это квартиры со свободной планировкой, где не было еще разграничений по комнатам\n",
    "    - locality_name - ошибка при выгрузке, либо продавец просто не указал этот параметр\n",
    "    - airports_nearest - скорее всего аэропорт слишком далеко, либо продавец просто не указал этот параметр\n",
    "    - city_centers_nearest - скорее всего центр города слишком далеко, либо продавец просто не указал этот параметр\n",
    "    - parks_nearest - ближайших парков в радиусе 3 км нет, поэтому продавец не стал указывать до них расстояние\n",
    "    - ponds_nearest - ближайших водоемов в радиусе 3 км нет, поэтому продавец не стал указывать до них расстояние\n",
    "    - days_exposition - либо объявление не было снято на момент выгрузки, либо объявление было очень быстро снято для дозаполнения каких-либо параметров\n"
   ]
  },
  {
   "cell_type": "markdown",
   "metadata": {},
   "source": [
    "#### Обработка типов данных"
   ]
  },
  {
   "cell_type": "markdown",
   "metadata": {},
   "source": [
    "Выведем еще раз общую информацию про наш датафрейм"
   ]
  },
  {
   "cell_type": "code",
   "execution_count": 17,
   "metadata": {
    "scrolled": true
   },
   "outputs": [
    {
     "name": "stdout",
     "output_type": "stream",
     "text": [
      "<class 'pandas.core.frame.DataFrame'>\n",
      "RangeIndex: 23699 entries, 0 to 23698\n",
      "Data columns (total 22 columns):\n",
      " #   Column                Non-Null Count  Dtype  \n",
      "---  ------                --------------  -----  \n",
      " 0   total_images          23699 non-null  int64  \n",
      " 1   last_price            23699 non-null  float64\n",
      " 2   total_area            23699 non-null  float64\n",
      " 3   first_day_exposition  23699 non-null  object \n",
      " 4   rooms                 23699 non-null  int64  \n",
      " 5   ceiling_height        23698 non-null  float64\n",
      " 6   floors_total          23613 non-null  float64\n",
      " 7   living_area           23699 non-null  float64\n",
      " 8   floor                 23699 non-null  int64  \n",
      " 9   is_apartment          23699 non-null  bool   \n",
      " 10  studio                23699 non-null  bool   \n",
      " 11  open_plan             23699 non-null  bool   \n",
      " 12  kitchen_area          23502 non-null  float64\n",
      " 13  balcony               23699 non-null  float64\n",
      " 14  locality_name         23650 non-null  object \n",
      " 15  airports_nearest      18157 non-null  float64\n",
      " 16  city_centers_nearest  18180 non-null  float64\n",
      " 17  parks_around3000      23699 non-null  float64\n",
      " 18  parks_nearest         8079 non-null   float64\n",
      " 19  ponds_around3000      23699 non-null  float64\n",
      " 20  ponds_nearest         9110 non-null   float64\n",
      " 21  days_exposition       20518 non-null  float64\n",
      "dtypes: bool(3), float64(14), int64(3), object(2)\n",
      "memory usage: 3.5+ MB\n"
     ]
    }
   ],
   "source": [
    "data.info()"
   ]
  },
  {
   "cell_type": "markdown",
   "metadata": {},
   "source": [
    "**Взглянув на еще раз на общую информацию нашего датафрейма, можно сделать выво о том, в каких столбцах лучше поменять тип данных:**\n",
    "* last_price - меняем на int, вряд ли цена по продаже квартиры будет указана с копейками\n",
    "* balcony - меняем на int, балконов всегда целое число\n",
    "* parks_around3000 - меняем на int, количество парков всегда целое число\n",
    "* ponds_around3000 - меняем на int, количество водоемов всегда целое число\n",
    "\n",
    "В других столбцах, где можно было бы поменять тип данных, присутствуют пропуски в данных"
   ]
  },
  {
   "cell_type": "code",
   "execution_count": 18,
   "metadata": {},
   "outputs": [],
   "source": [
    "columns = ['last_price', 'balcony', 'parks_around3000', 'ponds_around3000']\n",
    "\n",
    "for column in columns:\n",
    "    data[column] = data[column].astype('int')"
   ]
  },
  {
   "cell_type": "markdown",
   "metadata": {},
   "source": [
    "#### Поиск дубликатов"
   ]
  },
  {
   "cell_type": "markdown",
   "metadata": {},
   "source": [
    "Рассмотрим названия населенных пунктов"
   ]
  },
  {
   "cell_type": "code",
   "execution_count": 19,
   "metadata": {
    "scrolled": false
   },
   "outputs": [
    {
     "data": {
      "text/plain": [
       "array(['Санкт-Петербург', 'посёлок Шушары', 'городской посёлок Янино-1',\n",
       "       'посёлок Парголово', 'посёлок Мурино', 'Ломоносов', 'Сертолово',\n",
       "       'Петергоф', 'Пушкин', 'деревня Кудрово', 'Коммунар', 'Колпино',\n",
       "       'поселок городского типа Красный Бор', 'Гатчина', 'поселок Мурино',\n",
       "       'деревня Фёдоровское', 'Выборг', 'Кронштадт', 'Кировск',\n",
       "       'деревня Новое Девяткино', 'посёлок Металлострой',\n",
       "       'посёлок городского типа Лебяжье',\n",
       "       'посёлок городского типа Сиверский', 'поселок Молодцово',\n",
       "       'поселок городского типа Кузьмоловский',\n",
       "       'садовое товарищество Новая Ропша', 'Павловск',\n",
       "       'деревня Пикколово', 'Всеволожск', 'Волхов', 'Кингисепп',\n",
       "       'Приозерск', 'Сестрорецк', 'деревня Куттузи', 'посёлок Аннино',\n",
       "       'поселок городского типа Ефимовский', 'посёлок Плодовое',\n",
       "       'деревня Заклинье', 'поселок Торковичи', 'поселок Первомайское',\n",
       "       'Красное Село', 'посёлок Понтонный', 'Сясьстрой', 'деревня Старая',\n",
       "       'деревня Лесколово', 'посёлок Новый Свет', 'Сланцы',\n",
       "       'село Путилово', 'Ивангород', 'Мурино', 'Шлиссельбург',\n",
       "       'Никольское', 'Зеленогорск', 'Сосновый Бор', 'поселок Новый Свет',\n",
       "       'деревня Оржицы', 'деревня Кальтино', 'Кудрово',\n",
       "       'поселок Романовка', 'посёлок Бугры', 'поселок Бугры',\n",
       "       'поселок городского типа Рощино', 'Кириши', 'Луга', 'Волосово',\n",
       "       'Отрадное', 'село Павлово', 'поселок Оредеж', 'село Копорье',\n",
       "       'посёлок городского типа Красный Бор', 'посёлок Молодёжное',\n",
       "       'Тихвин', 'посёлок Победа', 'деревня Нурма',\n",
       "       'поселок городского типа Синявино', 'Тосно',\n",
       "       'посёлок городского типа Кузьмоловский', 'посёлок Стрельна',\n",
       "       'Бокситогорск', 'посёлок Александровская', 'деревня Лопухинка',\n",
       "       'Пикалёво', 'поселок Терволово',\n",
       "       'поселок городского типа Советский', 'Подпорожье',\n",
       "       'посёлок Петровское', 'посёлок городского типа Токсово',\n",
       "       'поселок Сельцо', 'посёлок городского типа Вырица',\n",
       "       'деревня Кипень', 'деревня Келози', 'деревня Вартемяги',\n",
       "       'посёлок Тельмана', 'поселок Севастьяново',\n",
       "       'городской поселок Большая Ижора', nan,\n",
       "       'городской посёлок Павлово', 'деревня Агалатово',\n",
       "       'посёлок Новогорелово', 'городской посёлок Лесогорский',\n",
       "       'деревня Лаголово', 'поселок Цвелодубово',\n",
       "       'поселок городского типа Рахья', 'поселок городского типа Вырица',\n",
       "       'деревня Белогорка', 'поселок Заводской',\n",
       "       'городской посёлок Новоселье', 'деревня Большие Колпаны',\n",
       "       'деревня Горбунки', 'деревня Батово', 'деревня Заневка',\n",
       "       'деревня Иссад', 'Приморск', 'городской посёлок Фёдоровское',\n",
       "       'деревня Мистолово', 'Новая Ладога', 'поселок Зимитицы',\n",
       "       'поселок Барышево', 'деревня Разметелево',\n",
       "       'поселок городского типа имени Свердлова', 'деревня Пеники',\n",
       "       'поселок Рябово', 'деревня Пудомяги', 'поселок станции Корнево',\n",
       "       'деревня Низино', 'деревня Бегуницы', 'посёлок Поляны',\n",
       "       'городской посёлок Мга', 'поселок Елизаветино',\n",
       "       'посёлок городского типа Кузнечное', 'деревня Колтуши',\n",
       "       'поселок Запорожское', 'посёлок городского типа Рощино',\n",
       "       'деревня Гостилицы', 'деревня Малое Карлино',\n",
       "       'посёлок Мичуринское', 'посёлок городского типа имени Морозова',\n",
       "       'посёлок Песочный', 'посёлок Сосново', 'деревня Аро',\n",
       "       'поселок Ильичёво', 'посёлок городского типа Тайцы',\n",
       "       'деревня Малое Верево', 'деревня Извара', 'поселок станции Вещево',\n",
       "       'село Паша', 'деревня Калитино',\n",
       "       'посёлок городского типа Ульяновка', 'деревня Чудской Бор',\n",
       "       'поселок городского типа Дубровка', 'деревня Мины',\n",
       "       'поселок Войсковицы', 'посёлок городского типа имени Свердлова',\n",
       "       'деревня Коркино', 'посёлок Ропша',\n",
       "       'поселок городского типа Приладожский', 'посёлок Щеглово',\n",
       "       'посёлок Гаврилово', 'Лодейное Поле', 'деревня Рабитицы',\n",
       "       'поселок городского типа Никольский', 'деревня Кузьмолово',\n",
       "       'деревня Малые Колпаны', 'поселок Тельмана',\n",
       "       'посёлок Петро-Славянка', 'городской посёлок Назия',\n",
       "       'посёлок Репино', 'посёлок Ильичёво', 'поселок Углово',\n",
       "       'поселок Старая Малукса', 'садовое товарищество Рахья',\n",
       "       'поселок Аннино', 'поселок Победа', 'деревня Меньково',\n",
       "       'деревня Старые Бегуницы', 'посёлок Сапёрный', 'поселок Семрино',\n",
       "       'поселок Гаврилово', 'поселок Глажево', 'поселок Кобринское',\n",
       "       'деревня Гарболово', 'деревня Юкки',\n",
       "       'поселок станции Приветнинское', 'деревня Мануйлово',\n",
       "       'деревня Пчева', 'поселок Поляны', 'поселок Цвылёво',\n",
       "       'поселок Мельниково', 'посёлок Пудость', 'посёлок Усть-Луга',\n",
       "       'Светогорск', 'Любань', 'поселок Селезнёво',\n",
       "       'поселок городского типа Рябово', 'Каменногорск', 'деревня Кривко',\n",
       "       'поселок Глебычево', 'деревня Парицы', 'поселок Жилпосёлок',\n",
       "       'посёлок городского типа Мга', 'городской поселок Янино-1',\n",
       "       'посёлок Войскорово', 'село Никольское', 'посёлок Терволово',\n",
       "       'поселок Стеклянный', 'посёлок городского типа Важины',\n",
       "       'посёлок Мыза-Ивановка', 'село Русско-Высоцкое',\n",
       "       'поселок городского типа Лебяжье',\n",
       "       'поселок городского типа Форносово', 'село Старая Ладога',\n",
       "       'поселок Житково', 'городской посёлок Виллози', 'деревня Лампово',\n",
       "       'деревня Шпаньково', 'деревня Лаврики', 'посёлок Сумино',\n",
       "       'посёлок Возрождение', 'деревня Старосиверская',\n",
       "       'посёлок Кикерино', 'поселок Возрождение',\n",
       "       'деревня Старое Хинколово', 'посёлок Пригородный',\n",
       "       'посёлок Торфяное', 'городской посёлок Будогощь',\n",
       "       'поселок Суходолье', 'поселок Красная Долина', 'деревня Хапо-Ое',\n",
       "       'поселок городского типа Дружная Горка', 'поселок Лисий Нос',\n",
       "       'деревня Яльгелево', 'посёлок Стеклянный', 'село Рождествено',\n",
       "       'деревня Старополье', 'посёлок Левашово', 'деревня Сяськелево',\n",
       "       'деревня Камышовка',\n",
       "       'садоводческое некоммерческое товарищество Лесная Поляна',\n",
       "       'деревня Хязельки', 'поселок Жилгородок',\n",
       "       'посёлок городского типа Павлово', 'деревня Ялгино',\n",
       "       'поселок Новый Учхоз', 'городской посёлок Рощино',\n",
       "       'поселок Гончарово', 'поселок Почап', 'посёлок Сапёрное',\n",
       "       'посёлок Платформа 69-й километр', 'поселок Каложицы',\n",
       "       'деревня Фалилеево', 'деревня Пельгора',\n",
       "       'поселок городского типа Лесогорский', 'деревня Торошковичи',\n",
       "       'посёлок Белоостров', 'посёлок Алексеевка', 'поселок Серебрянский',\n",
       "       'поселок Лукаши', 'поселок Петровское', 'деревня Щеглово',\n",
       "       'поселок Мичуринское', 'деревня Тарасово', 'поселок Кингисеппский',\n",
       "       'посёлок при железнодорожной станции Вещево', 'поселок Ушаки',\n",
       "       'деревня Котлы', 'деревня Сижно', 'деревня Торосово',\n",
       "       'посёлок Форт Красная Горка', 'поселок городского типа Токсово',\n",
       "       'деревня Новолисино', 'посёлок станции Громово', 'деревня Глинка',\n",
       "       'посёлок Мельниково', 'поселок городского типа Назия',\n",
       "       'деревня Старая Пустошь', 'поселок Коммунары', 'поселок Починок',\n",
       "       'посёлок городского типа Вознесенье', 'деревня Разбегаево',\n",
       "       'посёлок городского типа Рябово', 'поселок Гладкое',\n",
       "       'посёлок при железнодорожной станции Приветнинское',\n",
       "       'поселок Тёсово-4', 'посёлок Жилгородок', 'деревня Бор',\n",
       "       'посёлок Коробицыно', 'деревня Большая Вруда', 'деревня Курковицы',\n",
       "       'посёлок Лисий Нос', 'городской посёлок Советский',\n",
       "       'посёлок Кобралово', 'деревня Суоранда', 'поселок Кобралово',\n",
       "       'поселок городского типа Кондратьево',\n",
       "       'коттеджный поселок Счастье', 'поселок Любань', 'деревня Реброво',\n",
       "       'деревня Зимитицы', 'деревня Тойворово', 'поселок Семиозерье',\n",
       "       'поселок Лесное', 'поселок Совхозный', 'поселок Усть-Луга',\n",
       "       'посёлок Ленинское', 'посёлок Суйда',\n",
       "       'посёлок городского типа Форносово', 'деревня Нижние Осельки',\n",
       "       'посёлок станции Свирь', 'поселок Перово', 'Высоцк',\n",
       "       'поселок Гарболово', 'село Шум', 'поселок Котельский',\n",
       "       'поселок станции Лужайка', 'деревня Большая Пустомержа',\n",
       "       'поселок Красносельское', 'деревня Вахнова Кара', 'деревня Пижма',\n",
       "       'коттеджный поселок Кивеннапа Север', 'поселок Коробицыно',\n",
       "       'поселок Ромашки', 'посёлок Перово', 'деревня Каськово',\n",
       "       'деревня Куровицы', 'посёлок Плоское', 'поселок Сумино',\n",
       "       'поселок городского типа Большая Ижора', 'поселок Кирпичное',\n",
       "       'деревня Ям-Тесово', 'деревня Раздолье', 'деревня Терпилицы',\n",
       "       'посёлок Шугозеро', 'деревня Ваганово', 'поселок Пушное',\n",
       "       'садовое товарищество Садко', 'посёлок Усть-Ижора',\n",
       "       'деревня Выскатка', 'городской посёлок Свирьстрой',\n",
       "       'поселок Громово', 'деревня Кисельня', 'посёлок Старая Малукса',\n",
       "       'деревня Трубников Бор', 'поселок Калитино',\n",
       "       'посёлок Высокоключевой', 'садовое товарищество Приладожский',\n",
       "       'посёлок Пансионат Зелёный Бор', 'деревня Ненимяки',\n",
       "       'поселок Пансионат Зелёный Бор', 'деревня Снегирёвка',\n",
       "       'деревня Рапполово', 'деревня Пустынка', 'поселок Рабитицы',\n",
       "       'деревня Большой Сабск', 'деревня Русско', 'деревня Лупполово',\n",
       "       'деревня Большое Рейзино', 'деревня Малая Романовка',\n",
       "       'поселок Дружноселье', 'поселок Пчевжа', 'поселок Володарское',\n",
       "       'деревня Нижняя', 'коттеджный посёлок Лесное', 'деревня Тихковицы',\n",
       "       'деревня Борисова Грива', 'посёлок Дзержинского'], dtype=object)"
      ]
     },
     "execution_count": 19,
     "metadata": {},
     "output_type": "execute_result"
    }
   ],
   "source": [
    "data['locality_name'].unique()"
   ]
  },
  {
   "cell_type": "markdown",
   "metadata": {},
   "source": [
    "Удалим из названия населенных пунктов классификацию населенных пунктов"
   ]
  },
  {
   "cell_type": "code",
   "execution_count": 20,
   "metadata": {},
   "outputs": [],
   "source": [
    "duplicates = [\n",
    "    'посёлок ', 'городской ', 'поселок ', 'городского типа ', 'село ', \n",
    "    'деревня ', 'поселок городского типа ','садовое товарищество ',\n",
    "    'при железнодорожной станции ','станции ', 'садоводческое некоммерческое товарищество ',\n",
    "    'коттеджный '\n",
    "]\n",
    "data['locality_name'] = data['locality_name'].replace(duplicates, '', regex=True)"
   ]
  },
  {
   "cell_type": "markdown",
   "metadata": {},
   "source": [
    "Рассмотрим еще раз названия населенных пунктов"
   ]
  },
  {
   "cell_type": "code",
   "execution_count": 21,
   "metadata": {
    "scrolled": false
   },
   "outputs": [
    {
     "data": {
      "text/plain": [
       "array(['Санкт-Петербург', 'Шушары', 'Янино-1', 'Парголово', 'Мурино',\n",
       "       'Ломоносов', 'Сертолово', 'Петергоф', 'Пушкин', 'Кудрово',\n",
       "       'Коммунар', 'Колпино', 'Красный Бор', 'Гатчина', 'Фёдоровское',\n",
       "       'Выборг', 'Кронштадт', 'Кировск', 'Новое Девяткино',\n",
       "       'Металлострой', 'Лебяжье', 'Сиверский', 'Молодцово',\n",
       "       'Кузьмоловский', 'Новая Ропша', 'Павловск', 'Пикколово',\n",
       "       'Всеволожск', 'Волхов', 'Кингисепп', 'Приозерск', 'Сестрорецк',\n",
       "       'Куттузи', 'Аннино', 'Ефимовский', 'Плодовое', 'Заклинье',\n",
       "       'Торковичи', 'Первомайское', 'Красное Село', 'Понтонный',\n",
       "       'Сясьстрой', 'Старая', 'Лесколово', 'Новый Свет', 'Сланцы',\n",
       "       'Путилово', 'Ивангород', 'Шлиссельбург', 'Никольское',\n",
       "       'Зеленогорск', 'Сосновый Бор', 'Оржицы', 'Кальтино', 'Романовка',\n",
       "       'Бугры', 'Рощино', 'Кириши', 'Луга', 'Волосово', 'Отрадное',\n",
       "       'Павлово', 'Оредеж', 'Копорье', 'Молодёжное', 'Тихвин', 'Победа',\n",
       "       'Нурма', 'Синявино', 'Тосно', 'Стрельна', 'Бокситогорск',\n",
       "       'Александровская', 'Лопухинка', 'Пикалёво', 'Терволово',\n",
       "       'Советский', 'Подпорожье', 'Петровское', 'Токсово', 'Сельцо',\n",
       "       'Вырица', 'Кипень', 'Келози', 'Вартемяги', 'Тельмана',\n",
       "       'Севастьяново', 'Большая Ижора', nan, 'Агалатово', 'Новогорелово',\n",
       "       'Лесогорский', 'Лаголово', 'Цвелодубово', 'Рахья', 'Белогорка',\n",
       "       'Заводской', 'Новоселье', 'Большие Колпаны', 'Горбунки', 'Батово',\n",
       "       'Заневка', 'Иссад', 'Приморск', 'Мистолово', 'Новая Ладога',\n",
       "       'Зимитицы', 'Барышево', 'Разметелево', 'имени Свердлова', 'Пеники',\n",
       "       'Рябово', 'Пудомяги', 'Корнево', 'Низино', 'Бегуницы', 'Поляны',\n",
       "       'Мга', 'Елизаветино', 'Кузнечное', 'Колтуши', 'Запорожское',\n",
       "       'Гостилицы', 'Малое Карлино', 'Мичуринское', 'имени Морозова',\n",
       "       'Песочный', 'Сосново', 'Аро', 'Ильичёво', 'Тайцы', 'Малое Верево',\n",
       "       'Извара', 'Вещево', 'Паша', 'Калитино', 'Ульяновка', 'Чудской Бор',\n",
       "       'Дубровка', 'Мины', 'Войсковицы', 'Коркино', 'Ропша',\n",
       "       'Приладожский', 'Щеглово', 'Гаврилово', 'Лодейное Поле',\n",
       "       'Рабитицы', 'Никольский', 'Кузьмолово', 'Малые Колпаны',\n",
       "       'Петро-Славянка', 'Назия', 'Репино', 'Углово', 'Старая Малукса',\n",
       "       'Меньково', 'Старые Бегуницы', 'Сапёрный', 'Семрино', 'Глажево',\n",
       "       'Кобринское', 'Гарболово', 'Юкки', 'Приветнинское', 'Мануйлово',\n",
       "       'Пчева', 'Цвылёво', 'Мельниково', 'Пудость', 'Усть-Луга',\n",
       "       'Светогорск', 'Любань', 'Селезнёво', 'Каменногорск', 'Кривко',\n",
       "       'Глебычево', 'Парицы', 'Жилпосёлок', 'Войскорово', 'Стеклянный',\n",
       "       'Важины', 'Мыза-Ивановка', 'Русско-Высоцкое', 'Форносово',\n",
       "       'Старая Ладога', 'Житково', 'Виллози', 'Лампово', 'Шпаньково',\n",
       "       'Лаврики', 'Сумино', 'Возрождение', 'Старосиверская', 'Кикерино',\n",
       "       'Старое Хинколово', 'Пригородный', 'Торфяное', 'Будогощь',\n",
       "       'Суходолье', 'Красная Долина', 'Хапо-Ое', 'Дружная Горка',\n",
       "       'Лисий Нос', 'Яльгелево', 'Рождествено', 'Старополье', 'Левашово',\n",
       "       'Сяськелево', 'Камышовка', 'Лесная Поляна', 'Хязельки',\n",
       "       'Жилгородок', 'Ялгино', 'Новый Учхоз', 'Гончарово', 'Почап',\n",
       "       'Сапёрное', 'Платформа 69-й километр', 'Каложицы', 'Фалилеево',\n",
       "       'Пельгора', 'Торошковичи', 'Белоостров', 'Алексеевка',\n",
       "       'Серебрянский', 'Лукаши', 'Тарасово', 'Кингисеппский', 'Ушаки',\n",
       "       'Котлы', 'Сижно', 'Торосово', 'Форт Красная Горка', 'Новолисино',\n",
       "       'Громово', 'Глинка', 'Старая Пустошь', 'Коммунары', 'Починок',\n",
       "       'Вознесенье', 'Разбегаево', 'Гладкое', 'Тёсово-4', 'Бор',\n",
       "       'Коробицыно', 'Большая Вруда', 'Курковицы', 'Кобралово',\n",
       "       'Суоранда', 'Кондратьево', 'Счастье', 'Реброво', 'Тойворово',\n",
       "       'Семиозерье', 'Лесное', 'Совхозный', 'Ленинское', 'Суйда',\n",
       "       'Нижние Осельки', 'Свирь', 'Перово', 'Высоцк', 'Шум', 'Котельский',\n",
       "       'Лужайка', 'Большая Пустомержа', 'Красносельское', 'Вахнова Кара',\n",
       "       'Пижма', 'Кивеннапа Север', 'Ромашки', 'Каськово', 'Куровицы',\n",
       "       'Плоское', 'Кирпичное', 'Ям-Тесово', 'Раздолье', 'Терпилицы',\n",
       "       'Шугозеро', 'Ваганово', 'Пушное', 'Садко', 'Усть-Ижора',\n",
       "       'Выскатка', 'Свирьстрой', 'Кисельня', 'Трубников Бор',\n",
       "       'Высокоключевой', 'Пансионат Зелёный Бор', 'Ненимяки',\n",
       "       'Снегирёвка', 'Рапполово', 'Пустынка', 'Большой Сабск', 'Русско',\n",
       "       'Лупполово', 'Большое Рейзино', 'Малая Романовка', 'Дружноселье',\n",
       "       'Пчевжа', 'Володарское', 'Нижняя', 'Тихковицы', 'Борисова Грива',\n",
       "       'Дзержинского'], dtype=object)"
      ]
     },
     "execution_count": 21,
     "metadata": {},
     "output_type": "execute_result"
    }
   ],
   "source": [
    "data['locality_name'].unique()"
   ]
  },
  {
   "cell_type": "markdown",
   "metadata": {},
   "source": [
    "Теперь узнаем количество дубликатов"
   ]
  },
  {
   "cell_type": "code",
   "execution_count": 22,
   "metadata": {
    "scrolled": true
   },
   "outputs": [
    {
     "data": {
      "text/plain": [
       "0"
      ]
     },
     "execution_count": 22,
     "metadata": {},
     "output_type": "execute_result"
    }
   ],
   "source": [
    "data.duplicated().sum()"
   ]
  },
  {
   "cell_type": "markdown",
   "metadata": {},
   "source": [
    "#### Поиск анамальных значений"
   ]
  },
  {
   "cell_type": "markdown",
   "metadata": {},
   "source": [
    "Перед восстановлением и удалением выбивающихся значений создадим переменную с количеством строк в датафрейме, чтобы узнать, какое количество выбивающихся значений мы удалим.  "
   ]
  },
  {
   "cell_type": "code",
   "execution_count": 23,
   "metadata": {},
   "outputs": [
    {
     "data": {
      "text/plain": [
       "23699"
      ]
     },
     "execution_count": 23,
     "metadata": {},
     "output_type": "execute_result"
    }
   ],
   "source": [
    "old_data = data.shape[0]\n",
    "old_data"
   ]
  },
  {
   "cell_type": "markdown",
   "metadata": {},
   "source": [
    "Восстановим искаженные значения"
   ]
  },
  {
   "cell_type": "code",
   "execution_count": 24,
   "metadata": {
    "scrolled": false
   },
   "outputs": [
    {
     "data": {
      "text/html": [
       "<div>\n",
       "<style scoped>\n",
       "    .dataframe tbody tr th:only-of-type {\n",
       "        vertical-align: middle;\n",
       "    }\n",
       "\n",
       "    .dataframe tbody tr th {\n",
       "        vertical-align: top;\n",
       "    }\n",
       "\n",
       "    .dataframe thead th {\n",
       "        text-align: right;\n",
       "    }\n",
       "</style>\n",
       "<table border=\"1\" class=\"dataframe\">\n",
       "  <thead>\n",
       "    <tr style=\"text-align: right;\">\n",
       "      <th></th>\n",
       "      <th>total_images</th>\n",
       "      <th>last_price</th>\n",
       "      <th>total_area</th>\n",
       "      <th>first_day_exposition</th>\n",
       "      <th>rooms</th>\n",
       "      <th>ceiling_height</th>\n",
       "      <th>floors_total</th>\n",
       "      <th>living_area</th>\n",
       "      <th>floor</th>\n",
       "      <th>is_apartment</th>\n",
       "      <th>studio</th>\n",
       "      <th>open_plan</th>\n",
       "      <th>kitchen_area</th>\n",
       "      <th>balcony</th>\n",
       "      <th>locality_name</th>\n",
       "      <th>airports_nearest</th>\n",
       "      <th>city_centers_nearest</th>\n",
       "      <th>parks_around3000</th>\n",
       "      <th>parks_nearest</th>\n",
       "      <th>ponds_around3000</th>\n",
       "      <th>ponds_nearest</th>\n",
       "      <th>days_exposition</th>\n",
       "    </tr>\n",
       "  </thead>\n",
       "  <tbody>\n",
       "    <tr>\n",
       "      <th>355</th>\n",
       "      <td>17</td>\n",
       "      <td>3600000</td>\n",
       "      <td>55.2</td>\n",
       "      <td>2018-07-12T00:00:00</td>\n",
       "      <td>2</td>\n",
       "      <td>25.0</td>\n",
       "      <td>5.0</td>\n",
       "      <td>32.0</td>\n",
       "      <td>2</td>\n",
       "      <td>False</td>\n",
       "      <td>False</td>\n",
       "      <td>False</td>\n",
       "      <td>8.8</td>\n",
       "      <td>2</td>\n",
       "      <td>Гатчина</td>\n",
       "      <td>NaN</td>\n",
       "      <td>NaN</td>\n",
       "      <td>0</td>\n",
       "      <td>NaN</td>\n",
       "      <td>0</td>\n",
       "      <td>NaN</td>\n",
       "      <td>259.0</td>\n",
       "    </tr>\n",
       "    <tr>\n",
       "      <th>3148</th>\n",
       "      <td>14</td>\n",
       "      <td>2900000</td>\n",
       "      <td>75.0</td>\n",
       "      <td>2018-11-12T00:00:00</td>\n",
       "      <td>3</td>\n",
       "      <td>32.0</td>\n",
       "      <td>3.0</td>\n",
       "      <td>53.0</td>\n",
       "      <td>2</td>\n",
       "      <td>False</td>\n",
       "      <td>False</td>\n",
       "      <td>False</td>\n",
       "      <td>8.0</td>\n",
       "      <td>0</td>\n",
       "      <td>Волхов</td>\n",
       "      <td>NaN</td>\n",
       "      <td>NaN</td>\n",
       "      <td>0</td>\n",
       "      <td>NaN</td>\n",
       "      <td>0</td>\n",
       "      <td>NaN</td>\n",
       "      <td>NaN</td>\n",
       "    </tr>\n",
       "    <tr>\n",
       "      <th>4643</th>\n",
       "      <td>0</td>\n",
       "      <td>4300000</td>\n",
       "      <td>45.0</td>\n",
       "      <td>2018-02-01T00:00:00</td>\n",
       "      <td>2</td>\n",
       "      <td>25.0</td>\n",
       "      <td>9.0</td>\n",
       "      <td>30.0</td>\n",
       "      <td>2</td>\n",
       "      <td>False</td>\n",
       "      <td>False</td>\n",
       "      <td>False</td>\n",
       "      <td>7.0</td>\n",
       "      <td>1</td>\n",
       "      <td>Санкт-Петербург</td>\n",
       "      <td>12016.0</td>\n",
       "      <td>13256.0</td>\n",
       "      <td>1</td>\n",
       "      <td>658.0</td>\n",
       "      <td>1</td>\n",
       "      <td>331.0</td>\n",
       "      <td>181.0</td>\n",
       "    </tr>\n",
       "    <tr>\n",
       "      <th>4876</th>\n",
       "      <td>7</td>\n",
       "      <td>3000000</td>\n",
       "      <td>25.0</td>\n",
       "      <td>2017-09-27T00:00:00</td>\n",
       "      <td>0</td>\n",
       "      <td>27.0</td>\n",
       "      <td>25.0</td>\n",
       "      <td>17.0</td>\n",
       "      <td>17</td>\n",
       "      <td>False</td>\n",
       "      <td>False</td>\n",
       "      <td>True</td>\n",
       "      <td>NaN</td>\n",
       "      <td>2</td>\n",
       "      <td>Мурино</td>\n",
       "      <td>NaN</td>\n",
       "      <td>NaN</td>\n",
       "      <td>0</td>\n",
       "      <td>NaN</td>\n",
       "      <td>0</td>\n",
       "      <td>NaN</td>\n",
       "      <td>28.0</td>\n",
       "    </tr>\n",
       "    <tr>\n",
       "      <th>5076</th>\n",
       "      <td>0</td>\n",
       "      <td>3850000</td>\n",
       "      <td>30.5</td>\n",
       "      <td>2018-10-03T00:00:00</td>\n",
       "      <td>1</td>\n",
       "      <td>24.0</td>\n",
       "      <td>5.0</td>\n",
       "      <td>19.5</td>\n",
       "      <td>1</td>\n",
       "      <td>True</td>\n",
       "      <td>False</td>\n",
       "      <td>False</td>\n",
       "      <td>5.5</td>\n",
       "      <td>0</td>\n",
       "      <td>Санкт-Петербург</td>\n",
       "      <td>29686.0</td>\n",
       "      <td>8389.0</td>\n",
       "      <td>3</td>\n",
       "      <td>397.0</td>\n",
       "      <td>1</td>\n",
       "      <td>578.0</td>\n",
       "      <td>7.0</td>\n",
       "    </tr>\n",
       "    <tr>\n",
       "      <th>5246</th>\n",
       "      <td>0</td>\n",
       "      <td>2500000</td>\n",
       "      <td>54.0</td>\n",
       "      <td>2017-10-13T00:00:00</td>\n",
       "      <td>2</td>\n",
       "      <td>27.0</td>\n",
       "      <td>5.0</td>\n",
       "      <td>30.0</td>\n",
       "      <td>3</td>\n",
       "      <td>False</td>\n",
       "      <td>False</td>\n",
       "      <td>False</td>\n",
       "      <td>9.0</td>\n",
       "      <td>2</td>\n",
       "      <td>Мины</td>\n",
       "      <td>NaN</td>\n",
       "      <td>NaN</td>\n",
       "      <td>0</td>\n",
       "      <td>NaN</td>\n",
       "      <td>0</td>\n",
       "      <td>NaN</td>\n",
       "      <td>540.0</td>\n",
       "    </tr>\n",
       "    <tr>\n",
       "      <th>5669</th>\n",
       "      <td>4</td>\n",
       "      <td>4400000</td>\n",
       "      <td>50.0</td>\n",
       "      <td>2017-08-08T00:00:00</td>\n",
       "      <td>2</td>\n",
       "      <td>26.0</td>\n",
       "      <td>9.0</td>\n",
       "      <td>21.3</td>\n",
       "      <td>3</td>\n",
       "      <td>False</td>\n",
       "      <td>False</td>\n",
       "      <td>False</td>\n",
       "      <td>7.0</td>\n",
       "      <td>2</td>\n",
       "      <td>Санкт-Петербург</td>\n",
       "      <td>28981.0</td>\n",
       "      <td>10912.0</td>\n",
       "      <td>1</td>\n",
       "      <td>305.0</td>\n",
       "      <td>0</td>\n",
       "      <td>NaN</td>\n",
       "      <td>267.0</td>\n",
       "    </tr>\n",
       "    <tr>\n",
       "      <th>5807</th>\n",
       "      <td>17</td>\n",
       "      <td>8150000</td>\n",
       "      <td>80.0</td>\n",
       "      <td>2019-01-09T00:00:00</td>\n",
       "      <td>2</td>\n",
       "      <td>27.0</td>\n",
       "      <td>36.0</td>\n",
       "      <td>41.0</td>\n",
       "      <td>13</td>\n",
       "      <td>False</td>\n",
       "      <td>False</td>\n",
       "      <td>False</td>\n",
       "      <td>12.0</td>\n",
       "      <td>5</td>\n",
       "      <td>Санкт-Петербург</td>\n",
       "      <td>18732.0</td>\n",
       "      <td>20444.0</td>\n",
       "      <td>0</td>\n",
       "      <td>NaN</td>\n",
       "      <td>3</td>\n",
       "      <td>80.0</td>\n",
       "      <td>38.0</td>\n",
       "    </tr>\n",
       "    <tr>\n",
       "      <th>6246</th>\n",
       "      <td>6</td>\n",
       "      <td>3300000</td>\n",
       "      <td>44.4</td>\n",
       "      <td>2019-03-25T00:00:00</td>\n",
       "      <td>2</td>\n",
       "      <td>25.0</td>\n",
       "      <td>5.0</td>\n",
       "      <td>31.3</td>\n",
       "      <td>5</td>\n",
       "      <td>False</td>\n",
       "      <td>False</td>\n",
       "      <td>False</td>\n",
       "      <td>5.7</td>\n",
       "      <td>0</td>\n",
       "      <td>Кронштадт</td>\n",
       "      <td>68923.0</td>\n",
       "      <td>50649.0</td>\n",
       "      <td>1</td>\n",
       "      <td>417.0</td>\n",
       "      <td>2</td>\n",
       "      <td>73.0</td>\n",
       "      <td>NaN</td>\n",
       "    </tr>\n",
       "    <tr>\n",
       "      <th>9379</th>\n",
       "      <td>5</td>\n",
       "      <td>3950000</td>\n",
       "      <td>42.0</td>\n",
       "      <td>2017-03-26T00:00:00</td>\n",
       "      <td>3</td>\n",
       "      <td>25.0</td>\n",
       "      <td>5.0</td>\n",
       "      <td>30.0</td>\n",
       "      <td>2</td>\n",
       "      <td>False</td>\n",
       "      <td>False</td>\n",
       "      <td>False</td>\n",
       "      <td>5.2</td>\n",
       "      <td>0</td>\n",
       "      <td>Санкт-Петербург</td>\n",
       "      <td>11647.0</td>\n",
       "      <td>13581.0</td>\n",
       "      <td>0</td>\n",
       "      <td>NaN</td>\n",
       "      <td>0</td>\n",
       "      <td>NaN</td>\n",
       "      <td>NaN</td>\n",
       "    </tr>\n",
       "    <tr>\n",
       "      <th>10773</th>\n",
       "      <td>8</td>\n",
       "      <td>3800000</td>\n",
       "      <td>58.0</td>\n",
       "      <td>2017-10-13T00:00:00</td>\n",
       "      <td>2</td>\n",
       "      <td>27.0</td>\n",
       "      <td>10.0</td>\n",
       "      <td>30.1</td>\n",
       "      <td>3</td>\n",
       "      <td>False</td>\n",
       "      <td>False</td>\n",
       "      <td>False</td>\n",
       "      <td>8.1</td>\n",
       "      <td>2</td>\n",
       "      <td>Мурино</td>\n",
       "      <td>NaN</td>\n",
       "      <td>NaN</td>\n",
       "      <td>0</td>\n",
       "      <td>NaN</td>\n",
       "      <td>0</td>\n",
       "      <td>NaN</td>\n",
       "      <td>71.0</td>\n",
       "    </tr>\n",
       "    <tr>\n",
       "      <th>11285</th>\n",
       "      <td>0</td>\n",
       "      <td>1950000</td>\n",
       "      <td>37.0</td>\n",
       "      <td>2019-03-20T00:00:00</td>\n",
       "      <td>1</td>\n",
       "      <td>25.0</td>\n",
       "      <td>5.0</td>\n",
       "      <td>17.0</td>\n",
       "      <td>4</td>\n",
       "      <td>False</td>\n",
       "      <td>False</td>\n",
       "      <td>False</td>\n",
       "      <td>9.0</td>\n",
       "      <td>2</td>\n",
       "      <td>Луга</td>\n",
       "      <td>NaN</td>\n",
       "      <td>NaN</td>\n",
       "      <td>0</td>\n",
       "      <td>NaN</td>\n",
       "      <td>0</td>\n",
       "      <td>NaN</td>\n",
       "      <td>18.0</td>\n",
       "    </tr>\n",
       "    <tr>\n",
       "      <th>14382</th>\n",
       "      <td>9</td>\n",
       "      <td>1700000</td>\n",
       "      <td>35.0</td>\n",
       "      <td>2015-12-04T00:00:00</td>\n",
       "      <td>1</td>\n",
       "      <td>25.0</td>\n",
       "      <td>5.0</td>\n",
       "      <td>20.0</td>\n",
       "      <td>2</td>\n",
       "      <td>False</td>\n",
       "      <td>False</td>\n",
       "      <td>False</td>\n",
       "      <td>8.0</td>\n",
       "      <td>1</td>\n",
       "      <td>Новый Свет</td>\n",
       "      <td>NaN</td>\n",
       "      <td>NaN</td>\n",
       "      <td>0</td>\n",
       "      <td>NaN</td>\n",
       "      <td>0</td>\n",
       "      <td>NaN</td>\n",
       "      <td>206.0</td>\n",
       "    </tr>\n",
       "    <tr>\n",
       "      <th>17857</th>\n",
       "      <td>1</td>\n",
       "      <td>3900000</td>\n",
       "      <td>56.0</td>\n",
       "      <td>2017-12-22T00:00:00</td>\n",
       "      <td>3</td>\n",
       "      <td>27.0</td>\n",
       "      <td>5.0</td>\n",
       "      <td>33.0</td>\n",
       "      <td>4</td>\n",
       "      <td>False</td>\n",
       "      <td>False</td>\n",
       "      <td>False</td>\n",
       "      <td>9.5</td>\n",
       "      <td>0</td>\n",
       "      <td>Санкт-Петербург</td>\n",
       "      <td>41030.0</td>\n",
       "      <td>15543.0</td>\n",
       "      <td>0</td>\n",
       "      <td>NaN</td>\n",
       "      <td>0</td>\n",
       "      <td>NaN</td>\n",
       "      <td>73.0</td>\n",
       "    </tr>\n",
       "    <tr>\n",
       "      <th>18545</th>\n",
       "      <td>6</td>\n",
       "      <td>3750000</td>\n",
       "      <td>43.0</td>\n",
       "      <td>2019-03-18T00:00:00</td>\n",
       "      <td>2</td>\n",
       "      <td>25.0</td>\n",
       "      <td>5.0</td>\n",
       "      <td>29.0</td>\n",
       "      <td>3</td>\n",
       "      <td>False</td>\n",
       "      <td>False</td>\n",
       "      <td>False</td>\n",
       "      <td>8.8</td>\n",
       "      <td>0</td>\n",
       "      <td>Санкт-Петербург</td>\n",
       "      <td>27054.0</td>\n",
       "      <td>8033.0</td>\n",
       "      <td>1</td>\n",
       "      <td>540.0</td>\n",
       "      <td>0</td>\n",
       "      <td>NaN</td>\n",
       "      <td>12.0</td>\n",
       "    </tr>\n",
       "    <tr>\n",
       "      <th>20478</th>\n",
       "      <td>11</td>\n",
       "      <td>8000000</td>\n",
       "      <td>45.0</td>\n",
       "      <td>2017-07-18T00:00:00</td>\n",
       "      <td>1</td>\n",
       "      <td>27.0</td>\n",
       "      <td>4.0</td>\n",
       "      <td>22.0</td>\n",
       "      <td>2</td>\n",
       "      <td>False</td>\n",
       "      <td>False</td>\n",
       "      <td>False</td>\n",
       "      <td>10.0</td>\n",
       "      <td>1</td>\n",
       "      <td>Санкт-Петербург</td>\n",
       "      <td>18975.0</td>\n",
       "      <td>3246.0</td>\n",
       "      <td>0</td>\n",
       "      <td>NaN</td>\n",
       "      <td>3</td>\n",
       "      <td>449.0</td>\n",
       "      <td>429.0</td>\n",
       "    </tr>\n",
       "    <tr>\n",
       "      <th>20507</th>\n",
       "      <td>12</td>\n",
       "      <td>5950000</td>\n",
       "      <td>60.0</td>\n",
       "      <td>2018-02-19T00:00:00</td>\n",
       "      <td>2</td>\n",
       "      <td>22.6</td>\n",
       "      <td>14.0</td>\n",
       "      <td>35.0</td>\n",
       "      <td>11</td>\n",
       "      <td>False</td>\n",
       "      <td>False</td>\n",
       "      <td>False</td>\n",
       "      <td>13.0</td>\n",
       "      <td>1</td>\n",
       "      <td>Санкт-Петербург</td>\n",
       "      <td>27028.0</td>\n",
       "      <td>12570.0</td>\n",
       "      <td>0</td>\n",
       "      <td>NaN</td>\n",
       "      <td>0</td>\n",
       "      <td>NaN</td>\n",
       "      <td>40.0</td>\n",
       "    </tr>\n",
       "    <tr>\n",
       "      <th>21377</th>\n",
       "      <td>19</td>\n",
       "      <td>4900000</td>\n",
       "      <td>42.0</td>\n",
       "      <td>2017-04-18T00:00:00</td>\n",
       "      <td>1</td>\n",
       "      <td>27.5</td>\n",
       "      <td>24.0</td>\n",
       "      <td>37.7</td>\n",
       "      <td>19</td>\n",
       "      <td>False</td>\n",
       "      <td>False</td>\n",
       "      <td>False</td>\n",
       "      <td>11.0</td>\n",
       "      <td>2</td>\n",
       "      <td>Санкт-Петербург</td>\n",
       "      <td>42742.0</td>\n",
       "      <td>9760.0</td>\n",
       "      <td>0</td>\n",
       "      <td>NaN</td>\n",
       "      <td>0</td>\n",
       "      <td>NaN</td>\n",
       "      <td>61.0</td>\n",
       "    </tr>\n",
       "    <tr>\n",
       "      <th>21824</th>\n",
       "      <td>20</td>\n",
       "      <td>2450000</td>\n",
       "      <td>44.0</td>\n",
       "      <td>2019-02-12T00:00:00</td>\n",
       "      <td>2</td>\n",
       "      <td>27.0</td>\n",
       "      <td>2.0</td>\n",
       "      <td>38.0</td>\n",
       "      <td>2</td>\n",
       "      <td>False</td>\n",
       "      <td>False</td>\n",
       "      <td>False</td>\n",
       "      <td>8.6</td>\n",
       "      <td>2</td>\n",
       "      <td>Большая Ижора</td>\n",
       "      <td>NaN</td>\n",
       "      <td>NaN</td>\n",
       "      <td>0</td>\n",
       "      <td>NaN</td>\n",
       "      <td>0</td>\n",
       "      <td>NaN</td>\n",
       "      <td>NaN</td>\n",
       "    </tr>\n",
       "    <tr>\n",
       "      <th>22336</th>\n",
       "      <td>19</td>\n",
       "      <td>9999000</td>\n",
       "      <td>92.4</td>\n",
       "      <td>2019-04-05T00:00:00</td>\n",
       "      <td>2</td>\n",
       "      <td>32.0</td>\n",
       "      <td>6.0</td>\n",
       "      <td>55.5</td>\n",
       "      <td>5</td>\n",
       "      <td>False</td>\n",
       "      <td>False</td>\n",
       "      <td>False</td>\n",
       "      <td>16.5</td>\n",
       "      <td>4</td>\n",
       "      <td>Санкт-Петербург</td>\n",
       "      <td>18838.0</td>\n",
       "      <td>3506.0</td>\n",
       "      <td>0</td>\n",
       "      <td>NaN</td>\n",
       "      <td>3</td>\n",
       "      <td>511.0</td>\n",
       "      <td>NaN</td>\n",
       "    </tr>\n",
       "    <tr>\n",
       "      <th>22869</th>\n",
       "      <td>0</td>\n",
       "      <td>15000000</td>\n",
       "      <td>25.0</td>\n",
       "      <td>2018-07-25T00:00:00</td>\n",
       "      <td>1</td>\n",
       "      <td>100.0</td>\n",
       "      <td>5.0</td>\n",
       "      <td>14.0</td>\n",
       "      <td>5</td>\n",
       "      <td>True</td>\n",
       "      <td>False</td>\n",
       "      <td>False</td>\n",
       "      <td>11.0</td>\n",
       "      <td>5</td>\n",
       "      <td>Санкт-Петербург</td>\n",
       "      <td>34963.0</td>\n",
       "      <td>8283.0</td>\n",
       "      <td>1</td>\n",
       "      <td>223.0</td>\n",
       "      <td>3</td>\n",
       "      <td>30.0</td>\n",
       "      <td>19.0</td>\n",
       "    </tr>\n",
       "    <tr>\n",
       "      <th>22938</th>\n",
       "      <td>14</td>\n",
       "      <td>4000000</td>\n",
       "      <td>98.0</td>\n",
       "      <td>2018-03-15T00:00:00</td>\n",
       "      <td>4</td>\n",
       "      <td>27.0</td>\n",
       "      <td>2.0</td>\n",
       "      <td>73.0</td>\n",
       "      <td>2</td>\n",
       "      <td>True</td>\n",
       "      <td>False</td>\n",
       "      <td>False</td>\n",
       "      <td>9.0</td>\n",
       "      <td>1</td>\n",
       "      <td>Нижняя</td>\n",
       "      <td>NaN</td>\n",
       "      <td>NaN</td>\n",
       "      <td>0</td>\n",
       "      <td>NaN</td>\n",
       "      <td>0</td>\n",
       "      <td>NaN</td>\n",
       "      <td>27.0</td>\n",
       "    </tr>\n",
       "  </tbody>\n",
       "</table>\n",
       "</div>"
      ],
      "text/plain": [
       "       total_images  last_price  total_area first_day_exposition  rooms  \\\n",
       "355              17     3600000        55.2  2018-07-12T00:00:00      2   \n",
       "3148             14     2900000        75.0  2018-11-12T00:00:00      3   \n",
       "4643              0     4300000        45.0  2018-02-01T00:00:00      2   \n",
       "4876              7     3000000        25.0  2017-09-27T00:00:00      0   \n",
       "5076              0     3850000        30.5  2018-10-03T00:00:00      1   \n",
       "5246              0     2500000        54.0  2017-10-13T00:00:00      2   \n",
       "5669              4     4400000        50.0  2017-08-08T00:00:00      2   \n",
       "5807             17     8150000        80.0  2019-01-09T00:00:00      2   \n",
       "6246              6     3300000        44.4  2019-03-25T00:00:00      2   \n",
       "9379              5     3950000        42.0  2017-03-26T00:00:00      3   \n",
       "10773             8     3800000        58.0  2017-10-13T00:00:00      2   \n",
       "11285             0     1950000        37.0  2019-03-20T00:00:00      1   \n",
       "14382             9     1700000        35.0  2015-12-04T00:00:00      1   \n",
       "17857             1     3900000        56.0  2017-12-22T00:00:00      3   \n",
       "18545             6     3750000        43.0  2019-03-18T00:00:00      2   \n",
       "20478            11     8000000        45.0  2017-07-18T00:00:00      1   \n",
       "20507            12     5950000        60.0  2018-02-19T00:00:00      2   \n",
       "21377            19     4900000        42.0  2017-04-18T00:00:00      1   \n",
       "21824            20     2450000        44.0  2019-02-12T00:00:00      2   \n",
       "22336            19     9999000        92.4  2019-04-05T00:00:00      2   \n",
       "22869             0    15000000        25.0  2018-07-25T00:00:00      1   \n",
       "22938            14     4000000        98.0  2018-03-15T00:00:00      4   \n",
       "\n",
       "       ceiling_height  floors_total  living_area  floor  is_apartment  studio  \\\n",
       "355              25.0           5.0         32.0      2         False   False   \n",
       "3148             32.0           3.0         53.0      2         False   False   \n",
       "4643             25.0           9.0         30.0      2         False   False   \n",
       "4876             27.0          25.0         17.0     17         False   False   \n",
       "5076             24.0           5.0         19.5      1          True   False   \n",
       "5246             27.0           5.0         30.0      3         False   False   \n",
       "5669             26.0           9.0         21.3      3         False   False   \n",
       "5807             27.0          36.0         41.0     13         False   False   \n",
       "6246             25.0           5.0         31.3      5         False   False   \n",
       "9379             25.0           5.0         30.0      2         False   False   \n",
       "10773            27.0          10.0         30.1      3         False   False   \n",
       "11285            25.0           5.0         17.0      4         False   False   \n",
       "14382            25.0           5.0         20.0      2         False   False   \n",
       "17857            27.0           5.0         33.0      4         False   False   \n",
       "18545            25.0           5.0         29.0      3         False   False   \n",
       "20478            27.0           4.0         22.0      2         False   False   \n",
       "20507            22.6          14.0         35.0     11         False   False   \n",
       "21377            27.5          24.0         37.7     19         False   False   \n",
       "21824            27.0           2.0         38.0      2         False   False   \n",
       "22336            32.0           6.0         55.5      5         False   False   \n",
       "22869           100.0           5.0         14.0      5          True   False   \n",
       "22938            27.0           2.0         73.0      2          True   False   \n",
       "\n",
       "       open_plan  kitchen_area  balcony    locality_name  airports_nearest  \\\n",
       "355        False           8.8        2          Гатчина               NaN   \n",
       "3148       False           8.0        0           Волхов               NaN   \n",
       "4643       False           7.0        1  Санкт-Петербург           12016.0   \n",
       "4876        True           NaN        2           Мурино               NaN   \n",
       "5076       False           5.5        0  Санкт-Петербург           29686.0   \n",
       "5246       False           9.0        2             Мины               NaN   \n",
       "5669       False           7.0        2  Санкт-Петербург           28981.0   \n",
       "5807       False          12.0        5  Санкт-Петербург           18732.0   \n",
       "6246       False           5.7        0        Кронштадт           68923.0   \n",
       "9379       False           5.2        0  Санкт-Петербург           11647.0   \n",
       "10773      False           8.1        2           Мурино               NaN   \n",
       "11285      False           9.0        2             Луга               NaN   \n",
       "14382      False           8.0        1       Новый Свет               NaN   \n",
       "17857      False           9.5        0  Санкт-Петербург           41030.0   \n",
       "18545      False           8.8        0  Санкт-Петербург           27054.0   \n",
       "20478      False          10.0        1  Санкт-Петербург           18975.0   \n",
       "20507      False          13.0        1  Санкт-Петербург           27028.0   \n",
       "21377      False          11.0        2  Санкт-Петербург           42742.0   \n",
       "21824      False           8.6        2    Большая Ижора               NaN   \n",
       "22336      False          16.5        4  Санкт-Петербург           18838.0   \n",
       "22869      False          11.0        5  Санкт-Петербург           34963.0   \n",
       "22938      False           9.0        1           Нижняя               NaN   \n",
       "\n",
       "       city_centers_nearest  parks_around3000  parks_nearest  \\\n",
       "355                     NaN                 0            NaN   \n",
       "3148                    NaN                 0            NaN   \n",
       "4643                13256.0                 1          658.0   \n",
       "4876                    NaN                 0            NaN   \n",
       "5076                 8389.0                 3          397.0   \n",
       "5246                    NaN                 0            NaN   \n",
       "5669                10912.0                 1          305.0   \n",
       "5807                20444.0                 0            NaN   \n",
       "6246                50649.0                 1          417.0   \n",
       "9379                13581.0                 0            NaN   \n",
       "10773                   NaN                 0            NaN   \n",
       "11285                   NaN                 0            NaN   \n",
       "14382                   NaN                 0            NaN   \n",
       "17857               15543.0                 0            NaN   \n",
       "18545                8033.0                 1          540.0   \n",
       "20478                3246.0                 0            NaN   \n",
       "20507               12570.0                 0            NaN   \n",
       "21377                9760.0                 0            NaN   \n",
       "21824                   NaN                 0            NaN   \n",
       "22336                3506.0                 0            NaN   \n",
       "22869                8283.0                 1          223.0   \n",
       "22938                   NaN                 0            NaN   \n",
       "\n",
       "       ponds_around3000  ponds_nearest  days_exposition  \n",
       "355                   0            NaN            259.0  \n",
       "3148                  0            NaN              NaN  \n",
       "4643                  1          331.0            181.0  \n",
       "4876                  0            NaN             28.0  \n",
       "5076                  1          578.0              7.0  \n",
       "5246                  0            NaN            540.0  \n",
       "5669                  0            NaN            267.0  \n",
       "5807                  3           80.0             38.0  \n",
       "6246                  2           73.0              NaN  \n",
       "9379                  0            NaN              NaN  \n",
       "10773                 0            NaN             71.0  \n",
       "11285                 0            NaN             18.0  \n",
       "14382                 0            NaN            206.0  \n",
       "17857                 0            NaN             73.0  \n",
       "18545                 0            NaN             12.0  \n",
       "20478                 3          449.0            429.0  \n",
       "20507                 0            NaN             40.0  \n",
       "21377                 0            NaN             61.0  \n",
       "21824                 0            NaN              NaN  \n",
       "22336                 3          511.0              NaN  \n",
       "22869                 3           30.0             19.0  \n",
       "22938                 0            NaN             27.0  "
      ]
     },
     "execution_count": 24,
     "metadata": {},
     "output_type": "execute_result"
    }
   ],
   "source": [
    "data[data['ceiling_height'] > 20]"
   ]
  },
  {
   "cell_type": "code",
   "execution_count": 25,
   "metadata": {},
   "outputs": [],
   "source": [
    "data['ceiling_height'] = data['ceiling_height'].replace(27, 2.7, regex=True)\n",
    "data['ceiling_height'] = data['ceiling_height'].replace(25, 2.5, regex=True)\n",
    "data['ceiling_height'] = data['ceiling_height'].replace(24, 2.4, regex=True)\n",
    "data['ceiling_height'] = data['ceiling_height'].replace(32, 3.2, regex=True)\n",
    "data['ceiling_height'] = data['ceiling_height'].replace(27.5, 2.75, regex=True)\n",
    "data['ceiling_height'] = data['ceiling_height'].replace(26, 2.6, regex=True)\n",
    "data['ceiling_height'] = data['ceiling_height'].replace(22.6, 2.26, regex=True)"
   ]
  },
  {
   "cell_type": "markdown",
   "metadata": {},
   "source": [
    "Значение, где указано что высота потолков равно 100 м удалим"
   ]
  },
  {
   "cell_type": "code",
   "execution_count": 26,
   "metadata": {},
   "outputs": [],
   "source": [
    "data = data.drop(22869).reset_index(drop=True)"
   ]
  },
  {
   "cell_type": "markdown",
   "metadata": {},
   "source": [
    "Проверим выбивающиеся значения для стоимости квартир"
   ]
  },
  {
   "cell_type": "markdown",
   "metadata": {},
   "source": [
    "Построим диаграмму размаха для визуального определения выбивающихся значений   "
   ]
  },
  {
   "cell_type": "code",
   "execution_count": 27,
   "metadata": {
    "scrolled": false
   },
   "outputs": [
    {
     "data": {
      "image/png": "[encoded data removed]",
      "text/plain": [
       "<Figure size 432x288 with 1 Axes>"
      ]
     },
     "metadata": {
      "needs_background": "light"
     },
     "output_type": "display_data"
    }
   ],
   "source": [
    "data.boxplot('last_price');"
   ]
  },
  {
   "cell_type": "code",
   "execution_count": 28,
   "metadata": {},
   "outputs": [
    {
     "data": {
      "image/png": "[encoded data removed]",
      "text/plain": [
       "<Figure size 432x288 with 1 Axes>"
      ]
     },
     "metadata": {
      "needs_background": "light"
     },
     "output_type": "display_data"
    }
   ],
   "source": [
    "ax = data.boxplot('last_price')\n",
    "ax.set_ylim(0,20000000)\n",
    "ax;"
   ]
  },
  {
   "cell_type": "code",
   "execution_count": 29,
   "metadata": {},
   "outputs": [
    {
     "data": {
      "text/plain": [
       "1940"
      ]
     },
     "execution_count": 29,
     "metadata": {},
     "output_type": "execute_result"
    }
   ],
   "source": [
    "len(data[data['last_price']>12000000])"
   ]
  },
  {
   "cell_type": "markdown",
   "metadata": {},
   "source": [
    "На диаграмме большое количество значений, которые лежат за границей “усов” графика. Удалять все значения, которые лежат за границей не будем, удалим значения выше 200000000 руб.   "
   ]
  },
  {
   "cell_type": "code",
   "execution_count": 30,
   "metadata": {
    "scrolled": true
   },
   "outputs": [],
   "source": [
    "data = data.query('last_price <= 200000000')"
   ]
  },
  {
   "cell_type": "markdown",
   "metadata": {},
   "source": [
    "Проверим выбивающиеся значения для количества комнат в квартире "
   ]
  },
  {
   "cell_type": "markdown",
   "metadata": {},
   "source": [
    "Построим диаграмму размаха для визуального определения выбивающихся значений   "
   ]
  },
  {
   "cell_type": "code",
   "execution_count": 31,
   "metadata": {
    "scrolled": false
   },
   "outputs": [
    {
     "data": {
      "image/png": "[encoded data removed]",
      "text/plain": [
       "<Figure size 432x288 with 1 Axes>"
      ]
     },
     "metadata": {
      "needs_background": "light"
     },
     "output_type": "display_data"
    }
   ],
   "source": [
    "data.boxplot('rooms');"
   ]
  },
  {
   "cell_type": "code",
   "execution_count": 32,
   "metadata": {},
   "outputs": [
    {
     "data": {
      "text/plain": [
       "87"
      ]
     },
     "execution_count": 32,
     "metadata": {},
     "output_type": "execute_result"
    }
   ],
   "source": [
    "len(data[data['rooms']>6])"
   ]
  },
  {
   "cell_type": "markdown",
   "metadata": {},
   "source": [
    "На диаграмме не большое количество значений, которые лежат за границей “усов” графика. Можно признать их выбросами и удалить из датафрейма."
   ]
  },
  {
   "cell_type": "code",
   "execution_count": 33,
   "metadata": {},
   "outputs": [],
   "source": [
    "data = data.query('rooms <= 6')"
   ]
  },
  {
   "cell_type": "markdown",
   "metadata": {},
   "source": [
    "Проверим выбивающиеся значения для общей площади квартиры  "
   ]
  },
  {
   "cell_type": "markdown",
   "metadata": {},
   "source": [
    "Построим диаграмму размаха для визуального определения выбивающихся значений   "
   ]
  },
  {
   "cell_type": "code",
   "execution_count": 34,
   "metadata": {
    "scrolled": true
   },
   "outputs": [
    {
     "data": {
      "image/png": "[encoded data removed]",
      "text/plain": [
       "<Figure size 432x288 with 1 Axes>"
      ]
     },
     "metadata": {
      "needs_background": "light"
     },
     "output_type": "display_data"
    }
   ],
   "source": [
    "data.boxplot('total_area');"
   ]
  },
  {
   "cell_type": "code",
   "execution_count": 35,
   "metadata": {},
   "outputs": [
    {
     "data": {
      "text/plain": [
       "1280"
      ]
     },
     "execution_count": 35,
     "metadata": {},
     "output_type": "execute_result"
    }
   ],
   "source": [
    "len(data[data['total_area']>110])"
   ]
  },
  {
   "cell_type": "markdown",
   "metadata": {},
   "source": [
    "На диаграмме большое количество значений, которые лежат за границей “усов” графика. Удалять все значения, которые лежат за границей не будем, удалим значения выше 300 м   "
   ]
  },
  {
   "cell_type": "code",
   "execution_count": 36,
   "metadata": {},
   "outputs": [],
   "source": [
    "data = data.query('total_area <= 300')"
   ]
  },
  {
   "cell_type": "markdown",
   "metadata": {},
   "source": [
    "Узнаем какой процент строк мы отбросили в результате исследования датафрейма"
   ]
  },
  {
   "cell_type": "code",
   "execution_count": 37,
   "metadata": {},
   "outputs": [
    {
     "data": {
      "text/plain": [
       "0.5358875901936813"
      ]
     },
     "execution_count": 37,
     "metadata": {},
     "output_type": "execute_result"
    }
   ],
   "source": [
    "new_data = data.shape[0]\n",
    "percent_delete = 100 - new_data / old_data * 100\n",
    "percent_delete"
   ]
  },
  {
   "cell_type": "markdown",
   "metadata": {},
   "source": [
    "0.5% - процент строк, которые мы удалили. 0.5% меньше позволенных 10%, корректировка не нужна "
   ]
  },
  {
   "cell_type": "markdown",
   "metadata": {},
   "source": [
    "**Вывод: в результате предобработки, были заполнены некоторые пропуски с числовыми данными медианой, не числовые пропуски чья природа была ясна тоже были заполнены. Значения, которые сильно выбивались на фоне остальных были удалены. Проведен поиск дубликатов при помощи отброса классификации населенных пунктов, но дубликатов после проведенных манипуляций не оказалось** "
   ]
  },
  {
   "cell_type": "markdown",
   "metadata": {},
   "source": [
    "### Посчитайте и добавьте в таблицу новые столбцы"
   ]
  },
  {
   "cell_type": "markdown",
   "metadata": {},
   "source": [
    "Добавим столбец с ценой за квадратный метр"
   ]
  },
  {
   "cell_type": "code",
   "execution_count": 38,
   "metadata": {},
   "outputs": [],
   "source": [
    "data['price_per_meter'] = data['last_price'] / data['total_area']"
   ]
  },
  {
   "cell_type": "markdown",
   "metadata": {},
   "source": [
    "Добавим столбец с днем недели публикации объявления"
   ]
  },
  {
   "cell_type": "code",
   "execution_count": 39,
   "metadata": {},
   "outputs": [],
   "source": [
    "data['first_day_exposition'] = pd.to_datetime(data['first_day_exposition'], format=\"%Y-%m-%dT%H:%M:%S\")\n",
    "data['week_day'] = data['first_day_exposition'].dt.weekday"
   ]
  },
  {
   "cell_type": "markdown",
   "metadata": {},
   "source": [
    "Добавим столбец с месяцем публикации объявления"
   ]
  },
  {
   "cell_type": "code",
   "execution_count": 40,
   "metadata": {},
   "outputs": [],
   "source": [
    "data['month'] = data['first_day_exposition'].dt.month"
   ]
  },
  {
   "cell_type": "markdown",
   "metadata": {},
   "source": [
    "Добавим столбец с годом публикации объявления"
   ]
  },
  {
   "cell_type": "code",
   "execution_count": 41,
   "metadata": {},
   "outputs": [],
   "source": [
    "data['year'] = data['first_day_exposition'].dt.year"
   ]
  },
  {
   "cell_type": "markdown",
   "metadata": {},
   "source": [
    "Добавим столбец с типом этажа квартиры"
   ]
  },
  {
   "cell_type": "code",
   "execution_count": 42,
   "metadata": {},
   "outputs": [],
   "source": [
    "def categorize_foor(row):\n",
    "    if row['floors_total'] == row['floor']:\n",
    "        return 'Последний'\n",
    "    elif row['floor'] == 1:\n",
    "        return 'Первый'\n",
    "    else:\n",
    "        return 'Другой'\n",
    "    \n",
    "data['type_floor'] = data.apply(categorize_foor, axis=1)"
   ]
  },
  {
   "cell_type": "markdown",
   "metadata": {},
   "source": [
    "Добавим столбец с расстоянием до центра в км"
   ]
  },
  {
   "cell_type": "code",
   "execution_count": 43,
   "metadata": {},
   "outputs": [],
   "source": [
    "data['city_centers_nearest_km'] = round(data['city_centers_nearest'] / 1000)"
   ]
  },
  {
   "cell_type": "markdown",
   "metadata": {},
   "source": [
    "**Вывод: После проведенных расчетов, добавлены дополнительные столбцы для исследований данных**"
   ]
  },
  {
   "cell_type": "markdown",
   "metadata": {},
   "source": [
    "### Проведите исследовательский анализ данных"
   ]
  },
  {
   "cell_type": "markdown",
   "metadata": {},
   "source": [
    "Построим гистограмму для:\n",
    "   * общая площадь;\n",
    "   * жилая площадь;\n",
    "   * площадь кухни;\n",
    "   * цена объекта;\n",
    "   * количество комнат;\n",
    "   * высота потолков;\n",
    "   * этаж квартиры;\n",
    "   * тип этажа квартиры («первый», «последний», «другой»);\n",
    "   * общее количество этажей в доме;\n",
    "   * расстояние до центра города в метрах;\n",
    "   * расстояние до ближайшего аэропорта;\n",
    "   * расстояние до ближайшего парка;\n",
    "   * день и месяц публикации объявления."
   ]
  },
  {
   "cell_type": "code",
   "execution_count": 44,
   "metadata": {},
   "outputs": [
    {
     "data": {
      "image/png": "[encoded data removed]",
      "text/plain": [
       "<Figure size 432x288 with 1 Axes>"
      ]
     },
     "metadata": {
      "needs_background": "light"
     },
     "output_type": "display_data"
    }
   ],
   "source": [
    "data['total_area'].hist(bins=30, range=(0,300))\n",
    "plt.title('Общая площадь')\n",
    "plt.show;"
   ]
  },
  {
   "cell_type": "markdown",
   "metadata": {},
   "source": [
    "Больше всего объявлений было выставлено  для квартир с общей площадью близкой к 50 м"
   ]
  },
  {
   "cell_type": "code",
   "execution_count": 45,
   "metadata": {},
   "outputs": [
    {
     "data": {
      "image/png": "[encoded data removed]",
      "text/plain": [
       "<Figure size 432x288 with 1 Axes>"
      ]
     },
     "metadata": {
      "needs_background": "light"
     },
     "output_type": "display_data"
    }
   ],
   "source": [
    "data['living_area'].hist(bins=20, range=(0,250))\n",
    "plt.title('Жилая площадь')\n",
    "plt.show;"
   ]
  },
  {
   "cell_type": "markdown",
   "metadata": {},
   "source": [
    "Больше всего объявлений было выставлено для квартир с жилой площадью 20-40 м"
   ]
  },
  {
   "cell_type": "code",
   "execution_count": 46,
   "metadata": {},
   "outputs": [
    {
     "data": {
      "image/png": "[encoded data removed]",
      "text/plain": [
       "<Figure size 432x288 with 1 Axes>"
      ]
     },
     "metadata": {
      "needs_background": "light"
     },
     "output_type": "display_data"
    }
   ],
   "source": [
    "data['kitchen_area'].hist(bins=30, range=(0,60))\n",
    "plt.title('Площадь кухни')\n",
    "plt.show;"
   ]
  },
  {
   "cell_type": "markdown",
   "metadata": {},
   "source": [
    "Больше всего объявлений было выставлено для квартир площадью кухни 8-10 м"
   ]
  },
  {
   "cell_type": "code",
   "execution_count": 47,
   "metadata": {},
   "outputs": [
    {
     "data": {
      "image/png": "[encoded data removed]",
      "text/plain": [
       "<Figure size 432x288 with 1 Axes>"
      ]
     },
     "metadata": {
      "needs_background": "light"
     },
     "output_type": "display_data"
    }
   ],
   "source": [
    "last_price_divided_one_mln = data['last_price'] / 1000000\n",
    "last_price_divided_one_mln.hist(bins=30, range=(0,40))\n",
    "plt.title('Цена объекта')\n",
    "plt.show;"
   ]
  },
  {
   "cell_type": "markdown",
   "metadata": {},
   "source": [
    "Больше всего объявлений было выставлено с ценой 2.5 – 3.75 млн.руб"
   ]
  },
  {
   "cell_type": "code",
   "execution_count": 48,
   "metadata": {},
   "outputs": [
    {
     "data": {
      "image/png": "[encoded data removed]",
      "text/plain": [
       "<Figure size 432x288 with 1 Axes>"
      ]
     },
     "metadata": {
      "needs_background": "light"
     },
     "output_type": "display_data"
    }
   ],
   "source": [
    "data['rooms'].hist(bins=6,range=(0,6))\n",
    "plt.title('Количество комнат')\n",
    "plt.show;"
   ]
  },
  {
   "cell_type": "markdown",
   "metadata": {},
   "source": [
    "Больше всего объявлений было выставлено для квартир с 1 и 2мя комнатами"
   ]
  },
  {
   "cell_type": "code",
   "execution_count": 49,
   "metadata": {},
   "outputs": [
    {
     "data": {
      "image/png": "[encoded data removed]",
      "text/plain": [
       "<Figure size 432x288 with 1 Axes>"
      ]
     },
     "metadata": {
      "needs_background": "light"
     },
     "output_type": "display_data"
    }
   ],
   "source": [
    "data['ceiling_height'].hist(bins=20, range=(2,6));\n",
    "plt.title('Высота потолков')\n",
    "plt.show;"
   ]
  },
  {
   "cell_type": "markdown",
   "metadata": {},
   "source": [
    "Больше всего объявлений было выставлено для квартир высотой потолка близкой к 2.7 м"
   ]
  },
  {
   "cell_type": "code",
   "execution_count": 50,
   "metadata": {},
   "outputs": [
    {
     "data": {
      "image/png": "[encoded data removed]",
      "text/plain": [
       "<Figure size 432x288 with 1 Axes>"
      ]
     },
     "metadata": {
      "needs_background": "light"
     },
     "output_type": "display_data"
    }
   ],
   "source": [
    "data['floor'].hist(bins=20);\n",
    "plt.title('Этаж квартиры')\n",
    "plt.show;"
   ]
  },
  {
   "cell_type": "markdown",
   "metadata": {},
   "source": [
    "Больше всего объявлений было выставлено для квартир находящихся на 1-2 этаже"
   ]
  },
  {
   "cell_type": "code",
   "execution_count": 51,
   "metadata": {},
   "outputs": [
    {
     "data": {
      "image/png": "[encoded data removed]",
      "text/plain": [
       "<Figure size 432x288 with 1 Axes>"
      ]
     },
     "metadata": {
      "needs_background": "light"
     },
     "output_type": "display_data"
    }
   ],
   "source": [
    "data['type_floor'].hist(bins=3);\n",
    "plt.title('Тип этажа квартиры')\n",
    "plt.show;"
   ]
  },
  {
   "cell_type": "markdown",
   "metadata": {},
   "source": [
    "Больше всего объявлений было выставлено для квартир, находящихся не на первом и не на последнем этаже"
   ]
  },
  {
   "cell_type": "code",
   "execution_count": 52,
   "metadata": {
    "scrolled": true
   },
   "outputs": [
    {
     "data": {
      "image/png": "[encoded data removed]",
      "text/plain": [
       "<Figure size 432x288 with 1 Axes>"
      ]
     },
     "metadata": {
      "needs_background": "light"
     },
     "output_type": "display_data"
    }
   ],
   "source": [
    "data['floors_total'].hist();\n",
    "plt.title('Общее количество этажей в доме')\n",
    "plt.show;"
   ]
  },
  {
   "cell_type": "markdown",
   "metadata": {},
   "source": [
    "Больше всего объявлений было выставлено для квартир в домах ниже 8 этажа"
   ]
  },
  {
   "cell_type": "code",
   "execution_count": 53,
   "metadata": {},
   "outputs": [
    {
     "data": {
      "image/png": "[encoded data removed]",
      "text/plain": [
       "<Figure size 432x288 with 1 Axes>"
      ]
     },
     "metadata": {
      "needs_background": "light"
     },
     "output_type": "display_data"
    }
   ],
   "source": [
    "data['city_centers_nearest'].hist(bins=25);\n",
    "plt.title('Расстояние до центра города в метрах')\n",
    "plt.show;"
   ]
  },
  {
   "cell_type": "markdown",
   "metadata": {},
   "source": [
    "Больше всего объявлений было выставлено для квартир, которые находятся на расстоянии 10000-15000 м от центра"
   ]
  },
  {
   "cell_type": "code",
   "execution_count": 54,
   "metadata": {},
   "outputs": [
    {
     "data": {
      "image/png": "[encoded data removed]",
      "text/plain": [
       "<Figure size 432x288 with 1 Axes>"
      ]
     },
     "metadata": {
      "needs_background": "light"
     },
     "output_type": "display_data"
    }
   ],
   "source": [
    "data['airports_nearest'].hist(bins=30);\n",
    "plt.title('Расстояние до ближайшего аэропорта')\n",
    "plt.show;"
   ]
  },
  {
   "cell_type": "markdown",
   "metadata": {},
   "source": [
    "Больше всего объявлений было выставлено для квартир, которые находятся на расстоянии 23000-25000 м от аэропорта"
   ]
  },
  {
   "cell_type": "code",
   "execution_count": 55,
   "metadata": {},
   "outputs": [
    {
     "data": {
      "image/png": "[encoded data removed]",
      "text/plain": [
       "<Figure size 432x288 with 1 Axes>"
      ]
     },
     "metadata": {
      "needs_background": "light"
     },
     "output_type": "display_data"
    }
   ],
   "source": [
    "data['parks_nearest'].hist(bins=20);\n",
    "plt.title('Расстояние до ближайшего парка')\n",
    "plt.show;"
   ]
  },
  {
   "cell_type": "code",
   "execution_count": 56,
   "metadata": {},
   "outputs": [
    {
     "data": {
      "image/png": "[encoded data removed]",
      "text/plain": [
       "<Figure size 432x288 with 1 Axes>"
      ]
     },
     "metadata": {
      "needs_background": "light"
     },
     "output_type": "display_data"
    }
   ],
   "source": [
    "data['week_day'].hist(bins=7);\n",
    "plt.title('День недели публикации объявления')\n",
    "plt.show;"
   ]
  },
  {
   "cell_type": "markdown",
   "metadata": {},
   "source": [
    "Чаще всего объявления выставляют в будние дни "
   ]
  },
  {
   "cell_type": "code",
   "execution_count": 57,
   "metadata": {
    "scrolled": false
   },
   "outputs": [
    {
     "data": {
      "image/png": "[encoded data removed]",
      "text/plain": [
       "<Figure size 432x288 with 1 Axes>"
      ]
     },
     "metadata": {
      "needs_background": "light"
     },
     "output_type": "display_data"
    }
   ],
   "source": [
    "data['month'].hist(bins=12);\n",
    "plt.title('Месяц публикации объявления')\n",
    "plt.show;"
   ]
  },
  {
   "cell_type": "markdown",
   "metadata": {},
   "source": [
    "Чаще всего объявления выставляют весной и в октябре "
   ]
  },
  {
   "cell_type": "markdown",
   "metadata": {},
   "source": [
    "Изучим, как быстро продавались квартиры"
   ]
  },
  {
   "cell_type": "markdown",
   "metadata": {},
   "source": [
    "Построим гистограмму"
   ]
  },
  {
   "cell_type": "code",
   "execution_count": 58,
   "metadata": {},
   "outputs": [
    {
     "data": {
      "image/png": "[encoded data removed]",
      "text/plain": [
       "<Figure size 432x288 with 1 Axes>"
      ]
     },
     "metadata": {
      "needs_background": "light"
     },
     "output_type": "display_data"
    }
   ],
   "source": [
    "data['days_exposition'].hist();\n",
    "plt.title('Количество дней сколько было размещено объявление')\n",
    "plt.show;"
   ]
  },
  {
   "cell_type": "markdown",
   "metadata": {},
   "source": [
    "Посчитаем среднее значение и медиану"
   ]
  },
  {
   "cell_type": "code",
   "execution_count": 59,
   "metadata": {},
   "outputs": [
    {
     "data": {
      "text/plain": [
       "180.44286693429942"
      ]
     },
     "execution_count": 59,
     "metadata": {},
     "output_type": "execute_result"
    }
   ],
   "source": [
    "data['days_exposition'].mean()"
   ]
  },
  {
   "cell_type": "code",
   "execution_count": 60,
   "metadata": {},
   "outputs": [
    {
     "data": {
      "text/plain": [
       "95.0"
      ]
     },
     "execution_count": 60,
     "metadata": {},
     "output_type": "execute_result"
    }
   ],
   "source": [
    "data['days_exposition'].median()"
   ]
  },
  {
   "cell_type": "markdown",
   "metadata": {},
   "source": [
    "В среднем продажа занимает 180 дней. Продажу в течении 95 дней можно назвать быстрой, потому что она была совершена быстрее 50% всех объявлений "
   ]
  },
  {
   "cell_type": "markdown",
   "metadata": {},
   "source": [
    "Рассмотрим какие факторы больше всего влияют на общую (полную) стоимость объекта"
   ]
  },
  {
   "cell_type": "markdown",
   "metadata": {},
   "source": [
    "Построим диаграмму рассеяния и вычислим коэффициент корреляции Пирсона для каждого фактора"
   ]
  },
  {
   "cell_type": "code",
   "execution_count": 61,
   "metadata": {},
   "outputs": [
    {
     "data": {
      "image/png": "[encoded data removed]",
      "text/plain": [
       "<Figure size 432x288 with 1 Axes>"
      ]
     },
     "metadata": {
      "needs_background": "light"
     },
     "output_type": "display_data"
    }
   ],
   "source": [
    "data.plot(x='last_price', y='total_area', kind='scatter',xlim=(0,200000000));\n",
    "plt.title('Зависимость цены от общей площади')\n",
    "plt.show;"
   ]
  },
  {
   "cell_type": "code",
   "execution_count": 62,
   "metadata": {},
   "outputs": [
    {
     "data": {
      "text/plain": [
       "0.7189894333198642"
      ]
     },
     "execution_count": 62,
     "metadata": {},
     "output_type": "execute_result"
    }
   ],
   "source": [
    "data['total_area'].corr(data['last_price'])"
   ]
  },
  {
   "cell_type": "markdown",
   "metadata": {},
   "source": [
    "Общая площадь квартиры сильно влияет на цену"
   ]
  },
  {
   "cell_type": "code",
   "execution_count": 63,
   "metadata": {
    "scrolled": true
   },
   "outputs": [
    {
     "data": {
      "image/png": "[encoded data removed]",
      "text/plain": [
       "<Figure size 432x288 with 1 Axes>"
      ]
     },
     "metadata": {
      "needs_background": "light"
     },
     "output_type": "display_data"
    }
   ],
   "source": [
    "data.plot(x='last_price', y='living_area', kind='scatter',xlim=(0,200000000));\n",
    "plt.title('Зависимость цены от жилой площади')\n",
    "plt.show;"
   ]
  },
  {
   "cell_type": "code",
   "execution_count": 64,
   "metadata": {},
   "outputs": [
    {
     "data": {
      "text/plain": [
       "0.606237956520632"
      ]
     },
     "execution_count": 64,
     "metadata": {},
     "output_type": "execute_result"
    }
   ],
   "source": [
    "data['living_area'].corr(data['last_price'])"
   ]
  },
  {
   "cell_type": "markdown",
   "metadata": {},
   "source": [
    "Жилая площадь квартиры сильно влияет на цену, но меньше, чем общая площадь "
   ]
  },
  {
   "cell_type": "code",
   "execution_count": 65,
   "metadata": {},
   "outputs": [
    {
     "data": {
      "image/png": "[encoded data removed]",
      "text/plain": [
       "<Figure size 432x288 with 1 Axes>"
      ]
     },
     "metadata": {
      "needs_background": "light"
     },
     "output_type": "display_data"
    }
   ],
   "source": [
    "data.plot(x='last_price', y='kitchen_area', kind='scatter',xlim=(0,200000000));\n",
    "plt.title('Зависимость цены от площади кухни')\n",
    "plt.show;"
   ]
  },
  {
   "cell_type": "code",
   "execution_count": 66,
   "metadata": {},
   "outputs": [
    {
     "data": {
      "text/plain": [
       "0.5240664294480575"
      ]
     },
     "execution_count": 66,
     "metadata": {},
     "output_type": "execute_result"
    }
   ],
   "source": [
    "data['kitchen_area'].corr(data['last_price'])"
   ]
  },
  {
   "cell_type": "markdown",
   "metadata": {},
   "source": [
    "Площадь кухни сильно влияет на цену, но меньше, чем общая площадь квартиры и жилая площадь квартиры "
   ]
  },
  {
   "cell_type": "code",
   "execution_count": 67,
   "metadata": {},
   "outputs": [
    {
     "data": {
      "image/png": "[encoded data removed]",
      "text/plain": [
       "<Figure size 432x288 with 1 Axes>"
      ]
     },
     "metadata": {
      "needs_background": "light"
     },
     "output_type": "display_data"
    }
   ],
   "source": [
    "table_rooms = data.pivot_table(index='rooms', values='last_price', aggfunc='median')\n",
    "table_rooms.plot.bar(y='last_price');\n",
    "plt.title('Зависимость цены количества комнат')\n",
    "plt.show;"
   ]
  },
  {
   "cell_type": "markdown",
   "metadata": {},
   "source": [
    "Количество комнат влияет на цену, с увеличением количества комнат, увеличивается и цена"
   ]
  },
  {
   "cell_type": "code",
   "execution_count": 68,
   "metadata": {},
   "outputs": [
    {
     "data": {
      "image/png": "[encoded data removed]",
      "text/plain": [
       "<Figure size 432x288 with 1 Axes>"
      ]
     },
     "metadata": {
      "needs_background": "light"
     },
     "output_type": "display_data"
    }
   ],
   "source": [
    "table_floor = data.pivot_table(index='type_floor', values='last_price', aggfunc='median')\n",
    "table_floor.plot.bar();\n",
    "plt.title('Зависимость цены от типа этажа')\n",
    "plt.show;"
   ]
  },
  {
   "cell_type": "markdown",
   "metadata": {},
   "source": [
    "Тип этажа влияет на цену квартиры. Квартиры, которые находятся на первом этаже заметнее дешевле чем квартиры, которые находятся на других этажах "
   ]
  },
  {
   "cell_type": "code",
   "execution_count": 69,
   "metadata": {},
   "outputs": [
    {
     "data": {
      "image/png": "[encoded data removed]",
      "text/plain": [
       "<Figure size 432x288 with 1 Axes>"
      ]
     },
     "metadata": {
      "needs_background": "light"
     },
     "output_type": "display_data"
    }
   ],
   "source": [
    "table_week_day = data.pivot_table(index='week_day', values='last_price', aggfunc='median')\n",
    "table_week_day.plot.bar()\n",
    "plt.ylim(4000000)\n",
    "plt.axhline(y=4750000);\n",
    "plt.title('Зависимость цены от дня недели публикации объявления', pad = 20)\n",
    "plt.show;"
   ]
  },
  {
   "cell_type": "markdown",
   "metadata": {},
   "source": [
    "День недели влияет на цену, цены которые выставляют во вторник и среду выше чем цены выставленные в другой день"
   ]
  },
  {
   "cell_type": "code",
   "execution_count": 70,
   "metadata": {},
   "outputs": [
    {
     "data": {
      "image/png": "[encoded data removed]",
      "text/plain": [
       "<Figure size 432x288 with 1 Axes>"
      ]
     },
     "metadata": {
      "needs_background": "light"
     },
     "output_type": "display_data"
    }
   ],
   "source": [
    "table_month = data.pivot_table(index='month', values='last_price', aggfunc='median')\n",
    "table_month.plot.bar()\n",
    "plt.ylim(3500000)\n",
    "plt.axhline(y=4800000);\n",
    "plt.title('Зависимость цены от месяца публикации объявления', pad = 20)\n",
    "plt.show;"
   ]
  },
  {
   "cell_type": "markdown",
   "metadata": {},
   "source": [
    "Месяц выставления объявления влияет на цену, цены которые выставляют в апреле выше чем цены выставленные в другой любой месяц"
   ]
  },
  {
   "cell_type": "code",
   "execution_count": 71,
   "metadata": {
    "scrolled": true
   },
   "outputs": [
    {
     "data": {
      "image/png": "[encoded data removed]",
      "text/plain": [
       "<Figure size 432x288 with 1 Axes>"
      ]
     },
     "metadata": {
      "needs_background": "light"
     },
     "output_type": "display_data"
    }
   ],
   "source": [
    "table_year = data.pivot_table(index='year', values='last_price', aggfunc='median')\n",
    "table_year.plot.bar()\n",
    "plt.ylim(3500000);\n",
    "plt.title('Зависимость цены от года публикации объявления', pad = 20)\n",
    "plt.show;"
   ]
  },
  {
   "cell_type": "markdown",
   "metadata": {},
   "source": [
    "Год выставления объявления влияет на цену, цены которые указывали в 2014 году в 2 и более раз превышают цены других лет"
   ]
  },
  {
   "cell_type": "markdown",
   "metadata": {},
   "source": [
    "Посчитаем среднюю цену одного квадратного метра в 10 населённых пунктах с наибольшим числом объявлений."
   ]
  },
  {
   "cell_type": "code",
   "execution_count": 72,
   "metadata": {
    "scrolled": true
   },
   "outputs": [
    {
     "data": {
      "text/html": [
       "<div>\n",
       "<style scoped>\n",
       "    .dataframe tbody tr th:only-of-type {\n",
       "        vertical-align: middle;\n",
       "    }\n",
       "\n",
       "    .dataframe tbody tr th {\n",
       "        vertical-align: top;\n",
       "    }\n",
       "\n",
       "    .dataframe thead th {\n",
       "        text-align: right;\n",
       "    }\n",
       "</style>\n",
       "<table border=\"1\" class=\"dataframe\">\n",
       "  <thead>\n",
       "    <tr style=\"text-align: right;\">\n",
       "      <th></th>\n",
       "      <th>count</th>\n",
       "      <th>mean</th>\n",
       "    </tr>\n",
       "    <tr>\n",
       "      <th>locality_name</th>\n",
       "      <th></th>\n",
       "      <th></th>\n",
       "    </tr>\n",
       "  </thead>\n",
       "  <tbody>\n",
       "    <tr>\n",
       "      <th>Санкт-Петербург</th>\n",
       "      <td>15599</td>\n",
       "      <td>114067.249358</td>\n",
       "    </tr>\n",
       "    <tr>\n",
       "      <th>Мурино</th>\n",
       "      <td>590</td>\n",
       "      <td>86087.512050</td>\n",
       "    </tr>\n",
       "    <tr>\n",
       "      <th>Кудрово</th>\n",
       "      <td>472</td>\n",
       "      <td>95324.930544</td>\n",
       "    </tr>\n",
       "    <tr>\n",
       "      <th>Шушары</th>\n",
       "      <td>440</td>\n",
       "      <td>78677.364217</td>\n",
       "    </tr>\n",
       "    <tr>\n",
       "      <th>Всеволожск</th>\n",
       "      <td>398</td>\n",
       "      <td>68654.473986</td>\n",
       "    </tr>\n",
       "    <tr>\n",
       "      <th>Пушкин</th>\n",
       "      <td>367</td>\n",
       "      <td>103130.851744</td>\n",
       "    </tr>\n",
       "    <tr>\n",
       "      <th>Колпино</th>\n",
       "      <td>337</td>\n",
       "      <td>75333.295801</td>\n",
       "    </tr>\n",
       "    <tr>\n",
       "      <th>Парголово</th>\n",
       "      <td>326</td>\n",
       "      <td>90332.263023</td>\n",
       "    </tr>\n",
       "    <tr>\n",
       "      <th>Гатчина</th>\n",
       "      <td>307</td>\n",
       "      <td>68746.146763</td>\n",
       "    </tr>\n",
       "    <tr>\n",
       "      <th>Выборг</th>\n",
       "      <td>237</td>\n",
       "      <td>58141.909153</td>\n",
       "    </tr>\n",
       "  </tbody>\n",
       "</table>\n",
       "</div>"
      ],
      "text/plain": [
       "                 count           mean\n",
       "locality_name                        \n",
       "Санкт-Петербург  15599  114067.249358\n",
       "Мурино             590   86087.512050\n",
       "Кудрово            472   95324.930544\n",
       "Шушары             440   78677.364217\n",
       "Всеволожск         398   68654.473986\n",
       "Пушкин             367  103130.851744\n",
       "Колпино            337   75333.295801\n",
       "Парголово          326   90332.263023\n",
       "Гатчина            307   68746.146763\n",
       "Выборг             237   58141.909153"
      ]
     },
     "execution_count": 72,
     "metadata": {},
     "output_type": "execute_result"
    }
   ],
   "source": [
    "data_top_10 = data.pivot_table(index='locality_name', values='price_per_meter', aggfunc=['count','mean'])\n",
    "data_top_10.columns = ['count','mean']\n",
    "data_top_10 = data_top_10.sort_values(by='count',ascending=False).query('count >= 237')\n",
    "data_top_10"
   ]
  },
  {
   "cell_type": "markdown",
   "metadata": {},
   "source": [
    "Выделим населённые пункты с самой высокой и низкой стоимостью квадратного метра"
   ]
  },
  {
   "cell_type": "code",
   "execution_count": 73,
   "metadata": {
    "scrolled": true
   },
   "outputs": [
    {
     "data": {
      "text/html": [
       "<div>\n",
       "<style scoped>\n",
       "    .dataframe tbody tr th:only-of-type {\n",
       "        vertical-align: middle;\n",
       "    }\n",
       "\n",
       "    .dataframe tbody tr th {\n",
       "        vertical-align: top;\n",
       "    }\n",
       "\n",
       "    .dataframe thead th {\n",
       "        text-align: right;\n",
       "    }\n",
       "</style>\n",
       "<table border=\"1\" class=\"dataframe\">\n",
       "  <thead>\n",
       "    <tr style=\"text-align: right;\">\n",
       "      <th></th>\n",
       "      <th>count</th>\n",
       "      <th>mean</th>\n",
       "    </tr>\n",
       "    <tr>\n",
       "      <th>locality_name</th>\n",
       "      <th></th>\n",
       "      <th></th>\n",
       "    </tr>\n",
       "  </thead>\n",
       "  <tbody>\n",
       "    <tr>\n",
       "      <th>Выборг</th>\n",
       "      <td>237</td>\n",
       "      <td>58141.909153</td>\n",
       "    </tr>\n",
       "  </tbody>\n",
       "</table>\n",
       "</div>"
      ],
      "text/plain": [
       "               count          mean\n",
       "locality_name                     \n",
       "Выборг           237  58141.909153"
      ]
     },
     "execution_count": 73,
     "metadata": {},
     "output_type": "execute_result"
    }
   ],
   "source": [
    "data_top_10[data_top_10['mean'] == data_top_10['mean'].min()]"
   ]
  },
  {
   "cell_type": "markdown",
   "metadata": {},
   "source": [
    "Объявления, с минимальной стоимостью квадратного метра находятся в Выборге "
   ]
  },
  {
   "cell_type": "code",
   "execution_count": 74,
   "metadata": {},
   "outputs": [
    {
     "data": {
      "text/html": [
       "<div>\n",
       "<style scoped>\n",
       "    .dataframe tbody tr th:only-of-type {\n",
       "        vertical-align: middle;\n",
       "    }\n",
       "\n",
       "    .dataframe tbody tr th {\n",
       "        vertical-align: top;\n",
       "    }\n",
       "\n",
       "    .dataframe thead th {\n",
       "        text-align: right;\n",
       "    }\n",
       "</style>\n",
       "<table border=\"1\" class=\"dataframe\">\n",
       "  <thead>\n",
       "    <tr style=\"text-align: right;\">\n",
       "      <th></th>\n",
       "      <th>count</th>\n",
       "      <th>mean</th>\n",
       "    </tr>\n",
       "    <tr>\n",
       "      <th>locality_name</th>\n",
       "      <th></th>\n",
       "      <th></th>\n",
       "    </tr>\n",
       "  </thead>\n",
       "  <tbody>\n",
       "    <tr>\n",
       "      <th>Санкт-Петербург</th>\n",
       "      <td>15599</td>\n",
       "      <td>114067.249358</td>\n",
       "    </tr>\n",
       "  </tbody>\n",
       "</table>\n",
       "</div>"
      ],
      "text/plain": [
       "                 count           mean\n",
       "locality_name                        \n",
       "Санкт-Петербург  15599  114067.249358"
      ]
     },
     "execution_count": 74,
     "metadata": {},
     "output_type": "execute_result"
    }
   ],
   "source": [
    "data_top_10[data_top_10['mean'] == data_top_10['mean'].max()]"
   ]
  },
  {
   "cell_type": "markdown",
   "metadata": {},
   "source": [
    "Объявления, с максимальной стоимостью квадратного метра находятся в Санкт-Петербурге  "
   ]
  },
  {
   "cell_type": "code",
   "execution_count": 75,
   "metadata": {},
   "outputs": [
    {
     "data": {
      "image/png": "[encoded data removed]",
      "text/plain": [
       "<Figure size 432x288 with 1 Axes>"
      ]
     },
     "metadata": {
      "needs_background": "light"
     },
     "output_type": "display_data"
    }
   ],
   "source": [
    "data_top_10 = data_top_10.sort_values(by='mean')\n",
    "data_top_10.plot.bar(y='mean');\n",
    "plt.title('Стоимость квадратного метра для 10 самых популярных городов')\n",
    "plt.show;"
   ]
  },
  {
   "cell_type": "markdown",
   "metadata": {},
   "source": [
    "Вычислим среднюю цену каждого километра в Санкт-Перербурге"
   ]
  },
  {
   "cell_type": "code",
   "execution_count": 76,
   "metadata": {},
   "outputs": [
    {
     "data": {
      "image/png": "[encoded data removed]",
      "text/plain": [
       "<Figure size 1080x576 with 1 Axes>"
      ]
     },
     "metadata": {
      "needs_background": "light"
     },
     "output_type": "display_data"
    },
    {
     "data": {
      "image/png": "[encoded data removed]",
      "text/plain": [
       "<Figure size 1080x576 with 1 Axes>"
      ]
     },
     "metadata": {
      "needs_background": "light"
     },
     "output_type": "display_data"
    }
   ],
   "source": [
    "data_piter = data.query('locality_name == \"Санкт-Петербург\"')\n",
    "data_piter = data_piter.pivot_table(index='city_centers_nearest_km', values='price_per_meter', aggfunc=['median','mean'])\n",
    "data_piter.plot.bar(y=('median','price_per_meter'), figsize=(15,8));\n",
    "plt.title('Цена квадратного метра по медиане от расстояния от центра Санкт-Петербурга')\n",
    "plt.show;\n",
    "data_piter.plot.bar(y=('mean','price_per_meter'), figsize=(15,8));\n",
    "plt.title('Средняя цена квадратного метра от расстояния от центра Санкт-Петербурга')\n",
    "plt.show;"
   ]
  },
  {
   "cell_type": "markdown",
   "metadata": {},
   "source": [
    "Самые дорогие квартиры находятся в центре Санкт-Петербурга, удаляясь от центра города, стоимость квартиры будет снижаться, но за редким исключением, под влиянием других факторов, цена квадратного метра локально возрастает на отрезках с 3 до 7 км , с 19 до 20 км, с 24 до 25 км и на 27 км для средней стоимости и на отрезках с 3 до 6 км , с 18 до 20 км, с 24 до 25 км и на 27 км для медианы."
   ]
  },
  {
   "cell_type": "markdown",
   "metadata": {},
   "source": [
    "**Вывод: в результате исследования можно сказать, что чаще всего выставляют объявления для квартир:**\n",
    "* Площадью около 50м\n",
    "* Жилой площадью 20-40м\n",
    "* Площадью кухни 8-10м\n",
    "* Количеством комнат равным 1-2\n",
    "* Высотой потолка равной около 2.7м\n",
    "* Находящихся не на первых и не на последних этажах\n",
    "* В домах ниже 8 этажа\n",
    "* Находящихся от центра города на расстоянии 10000-15000 м \n",
    "* Находящихся от аэропорта на расстоянии 23000-25000 м\n",
    "* Выставленных в будние дни весной или в октябре\n",
    "\n",
    "**Также можно выделить что на цену влияют все исследование характеристики**\n"
   ]
  },
  {
   "cell_type": "markdown",
   "metadata": {},
   "source": [
    "### Общий вывод"
   ]
  },
  {
   "cell_type": "markdown",
   "metadata": {},
   "source": [
    "**Проверив все гипотезы, можно сделать вывод о том, что:**\n",
    "\n",
    "Чаще всего выставляют объявления для квартир:\n",
    "* Площадью около 50м\n",
    "* Жилой площадью 20-40м\n",
    "* Площадью кухни 8-10м\n",
    "* Количеством комнат равным 1-2\n",
    "* Высотой потолка равной около 2.7м\n",
    "* Находящихся не на первых и не на последних этажах\n",
    "* В домах ниже 8 этажа\n",
    "* Находящихся от центра города на расстоянии 10000-15000 м \n",
    "* Находящихся от аэропорта на расстоянии 23000-25000 м\n",
    "* Выставленных в будние дни весной или в октябре\n",
    "\n",
    "Цена зависит от таких факторов как: \n",
    "* Общая площадь квартиры\n",
    "* Жилая площадь\n",
    "* Площадь кухни\n",
    "* Количество комнат в квартире\n",
    "* Типа этажа\n",
    "* Дня недели, когда выставили объявление\n",
    "* Года, когда выставили объявление\n",
    "\n",
    "\n",
    "Если брать выборку по 10 городам с наибольшим количеством объявлений, то можно сказать что в Санкт-Петербурге самая высокая средняя цена за квадратный метр, а в Выборге самая минимальная цена за квадратный метр.\n",
    "\n",
    "Также можно отметить, что в Санкт-Петербурге цена квартиры снижается в зависимости от удаления от центра города, но за редким исключением, под влиянием других факторов, цена квадратного метра локально возрастает на отрезках с 3 до 7 км , с 19 до 20 км, с 24 до 25 км и на 27 км для средней стоимости и на отрезках с 3 до 6 км , с 18 до 20 км, с 24 до 25 км и на 27 км для медианы."
   ]
  },
  {
   "cell_type": "code",
   "execution_count": null,
   "metadata": {},
   "outputs": [],
   "source": []
  }
 ],
 "metadata": {
  "ExecuteTimeLog": [
   {
    "duration": 426,
    "start_time": "2022-11-20T08:46:20.587Z"
   },
   {
    "duration": 292,
    "start_time": "2022-11-20T08:46:23.980Z"
   },
   {
    "duration": 13,
    "start_time": "2022-11-20T08:46:24.805Z"
   },
   {
    "duration": 121,
    "start_time": "2022-11-20T08:46:41.259Z"
   },
   {
    "duration": 6,
    "start_time": "2022-11-20T08:46:43.439Z"
   },
   {
    "duration": 86,
    "start_time": "2022-11-20T08:46:59.156Z"
   },
   {
    "duration": 29,
    "start_time": "2022-11-20T08:47:00.851Z"
   },
   {
    "duration": 14,
    "start_time": "2022-11-20T08:47:23.716Z"
   },
   {
    "duration": 2150,
    "start_time": "2022-11-20T08:48:55.675Z"
   },
   {
    "duration": 1771,
    "start_time": "2022-11-20T08:49:03.275Z"
   },
   {
    "duration": 3518,
    "start_time": "2022-11-20T08:49:31.610Z"
   },
   {
    "duration": 2710,
    "start_time": "2022-11-20T08:50:16.186Z"
   },
   {
    "duration": 65,
    "start_time": "2022-11-20T08:54:38.504Z"
   },
   {
    "duration": 3,
    "start_time": "2022-11-20T08:54:58.352Z"
   },
   {
    "duration": 9,
    "start_time": "2022-11-20T08:59:07.310Z"
   },
   {
    "duration": 4,
    "start_time": "2022-11-20T08:59:16.534Z"
   },
   {
    "duration": 3,
    "start_time": "2022-11-20T08:59:27.623Z"
   },
   {
    "duration": 26,
    "start_time": "2022-11-20T09:00:16.109Z"
   },
   {
    "duration": 10,
    "start_time": "2022-11-20T09:00:22.475Z"
   },
   {
    "duration": 8,
    "start_time": "2022-11-20T09:00:53.317Z"
   },
   {
    "duration": 16,
    "start_time": "2022-11-20T09:09:51.915Z"
   },
   {
    "duration": 27,
    "start_time": "2022-11-20T09:34:46.990Z"
   },
   {
    "duration": 40,
    "start_time": "2022-11-20T09:34:54.944Z"
   },
   {
    "duration": 26,
    "start_time": "2022-11-20T09:35:11.457Z"
   },
   {
    "duration": 6,
    "start_time": "2022-11-20T09:35:33.199Z"
   },
   {
    "duration": 1151,
    "start_time": "2022-11-20T09:50:19.954Z"
   },
   {
    "duration": 6,
    "start_time": "2022-11-20T09:50:58.088Z"
   },
   {
    "duration": 12,
    "start_time": "2022-11-20T09:51:10.050Z"
   },
   {
    "duration": 34,
    "start_time": "2022-11-20T09:51:23.553Z"
   },
   {
    "duration": 13,
    "start_time": "2022-11-20T09:51:51.858Z"
   },
   {
    "duration": 1078,
    "start_time": "2022-11-20T09:52:13.378Z"
   },
   {
    "duration": 1213,
    "start_time": "2022-11-20T09:52:18.480Z"
   },
   {
    "duration": 14,
    "start_time": "2022-11-20T09:52:25.656Z"
   },
   {
    "duration": 4,
    "start_time": "2022-11-20T09:53:30.358Z"
   },
   {
    "duration": 4,
    "start_time": "2022-11-20T09:53:32.737Z"
   },
   {
    "duration": 5,
    "start_time": "2022-11-20T09:54:03.379Z"
   },
   {
    "duration": 5,
    "start_time": "2022-11-20T09:54:18.392Z"
   },
   {
    "duration": 7,
    "start_time": "2022-11-20T09:54:24.681Z"
   },
   {
    "duration": 5,
    "start_time": "2022-11-20T09:54:59.824Z"
   },
   {
    "duration": 43,
    "start_time": "2022-11-20T09:57:31.335Z"
   },
   {
    "duration": 7,
    "start_time": "2022-11-20T09:57:47.542Z"
   },
   {
    "duration": 6,
    "start_time": "2022-11-20T09:58:38.984Z"
   },
   {
    "duration": 5,
    "start_time": "2022-11-20T09:59:54.976Z"
   },
   {
    "duration": 6,
    "start_time": "2022-11-20T10:00:04.349Z"
   },
   {
    "duration": 6,
    "start_time": "2022-11-20T10:00:24.439Z"
   },
   {
    "duration": 15,
    "start_time": "2022-11-20T10:01:02.574Z"
   },
   {
    "duration": 399,
    "start_time": "2022-11-20T10:02:12.889Z"
   },
   {
    "duration": 92,
    "start_time": "2022-11-20T10:02:13.290Z"
   },
   {
    "duration": 40,
    "start_time": "2022-11-20T10:02:13.383Z"
   },
   {
    "duration": 20,
    "start_time": "2022-11-20T10:02:13.425Z"
   },
   {
    "duration": 2834,
    "start_time": "2022-11-20T10:02:13.447Z"
   },
   {
    "duration": 5,
    "start_time": "2022-11-20T10:02:16.283Z"
   },
   {
    "duration": 9,
    "start_time": "2022-11-20T10:02:16.289Z"
   },
   {
    "duration": 4,
    "start_time": "2022-11-20T10:02:16.300Z"
   },
   {
    "duration": 10,
    "start_time": "2022-11-20T10:02:16.305Z"
   },
   {
    "duration": 7,
    "start_time": "2022-11-20T10:02:16.317Z"
   },
   {
    "duration": 14,
    "start_time": "2022-11-20T10:02:16.325Z"
   },
   {
    "duration": 3,
    "start_time": "2022-11-20T10:02:16.340Z"
   },
   {
    "duration": 14,
    "start_time": "2022-11-20T10:02:16.345Z"
   },
   {
    "duration": 12,
    "start_time": "2022-11-20T10:02:16.362Z"
   },
   {
    "duration": 7,
    "start_time": "2022-11-20T10:02:16.376Z"
   },
   {
    "duration": 5,
    "start_time": "2022-11-20T10:02:16.413Z"
   },
   {
    "duration": 40,
    "start_time": "2022-11-20T10:03:45.708Z"
   },
   {
    "duration": 36,
    "start_time": "2022-11-20T10:04:41.633Z"
   },
   {
    "duration": 10,
    "start_time": "2022-11-20T10:13:48.311Z"
   },
   {
    "duration": 47,
    "start_time": "2022-11-20T10:21:14.695Z"
   },
   {
    "duration": 99,
    "start_time": "2022-11-20T10:42:02.617Z"
   },
   {
    "duration": 71,
    "start_time": "2022-11-20T10:43:58.482Z"
   },
   {
    "duration": 1884,
    "start_time": "2022-11-20T10:47:09.678Z"
   },
   {
    "duration": 2453,
    "start_time": "2022-11-20T10:47:43.102Z"
   },
   {
    "duration": 71,
    "start_time": "2022-11-20T10:49:13.208Z"
   },
   {
    "duration": 1649,
    "start_time": "2022-11-20T10:53:24.724Z"
   },
   {
    "duration": 76,
    "start_time": "2022-11-20T11:00:31.914Z"
   },
   {
    "duration": 7,
    "start_time": "2022-11-20T11:13:42.196Z"
   },
   {
    "duration": 11,
    "start_time": "2022-11-20T11:14:12.545Z"
   },
   {
    "duration": 41,
    "start_time": "2022-11-20T11:14:29.784Z"
   },
   {
    "duration": 41,
    "start_time": "2022-11-20T11:14:41.384Z"
   },
   {
    "duration": 6,
    "start_time": "2022-11-20T11:14:55.748Z"
   },
   {
    "duration": 6,
    "start_time": "2022-11-20T11:15:05.332Z"
   },
   {
    "duration": 6,
    "start_time": "2022-11-20T11:15:14.013Z"
   },
   {
    "duration": 6,
    "start_time": "2022-11-20T11:15:23.283Z"
   },
   {
    "duration": 7,
    "start_time": "2022-11-20T11:21:04.484Z"
   },
   {
    "duration": 5,
    "start_time": "2022-11-20T11:28:45.127Z"
   },
   {
    "duration": 6,
    "start_time": "2022-11-20T11:28:47.591Z"
   },
   {
    "duration": 7,
    "start_time": "2022-11-20T11:28:50.303Z"
   },
   {
    "duration": 6,
    "start_time": "2022-11-20T11:28:53.048Z"
   },
   {
    "duration": 6,
    "start_time": "2022-11-20T11:28:56.559Z"
   },
   {
    "duration": 9,
    "start_time": "2022-11-20T11:29:00.366Z"
   },
   {
    "duration": 4,
    "start_time": "2022-11-20T11:29:30.465Z"
   },
   {
    "duration": 7,
    "start_time": "2022-11-20T11:29:31.166Z"
   },
   {
    "duration": 7,
    "start_time": "2022-11-20T11:38:17.880Z"
   },
   {
    "duration": 7,
    "start_time": "2022-11-20T11:38:21.981Z"
   },
   {
    "duration": 7,
    "start_time": "2022-11-20T11:38:24.108Z"
   },
   {
    "duration": 3,
    "start_time": "2022-11-20T11:38:25.940Z"
   },
   {
    "duration": 6,
    "start_time": "2022-11-20T11:38:27.595Z"
   },
   {
    "duration": 88,
    "start_time": "2022-11-20T11:39:26.099Z"
   },
   {
    "duration": 5,
    "start_time": "2022-11-20T11:42:07.487Z"
   },
   {
    "duration": 7,
    "start_time": "2022-11-20T11:43:47.408Z"
   },
   {
    "duration": 81,
    "start_time": "2022-11-20T11:43:53.953Z"
   },
   {
    "duration": 5,
    "start_time": "2022-11-20T11:44:01.602Z"
   },
   {
    "duration": 6,
    "start_time": "2022-11-20T11:44:04.928Z"
   },
   {
    "duration": 6,
    "start_time": "2022-11-20T11:44:07.385Z"
   },
   {
    "duration": 5,
    "start_time": "2022-11-20T11:44:09.273Z"
   },
   {
    "duration": 5,
    "start_time": "2022-11-20T11:44:11.424Z"
   },
   {
    "duration": 7,
    "start_time": "2022-11-20T11:44:13.985Z"
   },
   {
    "duration": 6,
    "start_time": "2022-11-20T11:44:16.792Z"
   },
   {
    "duration": 26,
    "start_time": "2022-11-20T11:44:27.633Z"
   },
   {
    "duration": 37,
    "start_time": "2022-11-20T11:47:25.735Z"
   },
   {
    "duration": 62,
    "start_time": "2022-11-20T11:47:47.519Z"
   },
   {
    "duration": 6,
    "start_time": "2022-11-20T11:47:59.047Z"
   },
   {
    "duration": 5,
    "start_time": "2022-11-20T11:57:30.810Z"
   },
   {
    "duration": 34,
    "start_time": "2022-11-20T11:58:06.272Z"
   },
   {
    "duration": 77,
    "start_time": "2022-11-20T12:05:24.166Z"
   },
   {
    "duration": 76,
    "start_time": "2022-11-20T12:06:08.406Z"
   },
   {
    "duration": 8,
    "start_time": "2022-11-20T12:06:31.421Z"
   },
   {
    "duration": 75,
    "start_time": "2022-11-20T12:08:41.420Z"
   },
   {
    "duration": 9,
    "start_time": "2022-11-20T12:08:43.540Z"
   },
   {
    "duration": 349,
    "start_time": "2022-11-20T12:08:47.562Z"
   },
   {
    "duration": 127,
    "start_time": "2022-11-20T12:08:47.912Z"
   },
   {
    "duration": 14,
    "start_time": "2022-11-20T12:08:48.040Z"
   },
   {
    "duration": 2045,
    "start_time": "2022-11-20T12:08:48.056Z"
   },
   {
    "duration": 4,
    "start_time": "2022-11-20T12:08:50.103Z"
   },
   {
    "duration": 8,
    "start_time": "2022-11-20T12:08:50.109Z"
   },
   {
    "duration": 8,
    "start_time": "2022-11-20T12:08:50.118Z"
   },
   {
    "duration": 6,
    "start_time": "2022-11-20T12:08:50.128Z"
   },
   {
    "duration": 6,
    "start_time": "2022-11-20T12:08:50.136Z"
   },
   {
    "duration": 4,
    "start_time": "2022-11-20T12:08:50.143Z"
   },
   {
    "duration": 11,
    "start_time": "2022-11-20T12:08:50.148Z"
   },
   {
    "duration": 5,
    "start_time": "2022-11-20T12:08:50.161Z"
   },
   {
    "duration": 4,
    "start_time": "2022-11-20T12:08:50.168Z"
   },
   {
    "duration": 7,
    "start_time": "2022-11-20T12:08:50.173Z"
   },
   {
    "duration": 100,
    "start_time": "2022-11-20T12:08:50.214Z"
   },
   {
    "duration": 10,
    "start_time": "2022-11-20T12:08:50.316Z"
   },
   {
    "duration": 71,
    "start_time": "2022-11-20T12:10:07.666Z"
   },
   {
    "duration": 8,
    "start_time": "2022-11-20T12:10:11.227Z"
   },
   {
    "duration": 29,
    "start_time": "2022-11-20T12:11:38.532Z"
   },
   {
    "duration": 8,
    "start_time": "2022-11-20T12:11:41.369Z"
   },
   {
    "duration": 10,
    "start_time": "2022-11-20T12:12:24.541Z"
   },
   {
    "duration": 80,
    "start_time": "2022-11-20T12:12:43.281Z"
   },
   {
    "duration": 23,
    "start_time": "2022-11-20T12:12:53.586Z"
   },
   {
    "duration": 31,
    "start_time": "2022-11-20T12:13:49.877Z"
   },
   {
    "duration": 26,
    "start_time": "2022-11-20T12:14:28.129Z"
   },
   {
    "duration": 71,
    "start_time": "2022-11-20T12:18:39.022Z"
   },
   {
    "duration": 7,
    "start_time": "2022-11-20T12:18:56.079Z"
   },
   {
    "duration": 419,
    "start_time": "2022-11-20T12:19:00.398Z"
   },
   {
    "duration": 127,
    "start_time": "2022-11-20T12:19:00.819Z"
   },
   {
    "duration": 18,
    "start_time": "2022-11-20T12:19:00.950Z"
   },
   {
    "duration": 2114,
    "start_time": "2022-11-20T12:19:00.971Z"
   },
   {
    "duration": 4,
    "start_time": "2022-11-20T12:19:03.087Z"
   },
   {
    "duration": 8,
    "start_time": "2022-11-20T12:19:03.092Z"
   },
   {
    "duration": 8,
    "start_time": "2022-11-20T12:19:03.102Z"
   },
   {
    "duration": 6,
    "start_time": "2022-11-20T12:19:03.111Z"
   },
   {
    "duration": 6,
    "start_time": "2022-11-20T12:19:03.118Z"
   },
   {
    "duration": 3,
    "start_time": "2022-11-20T12:19:03.126Z"
   },
   {
    "duration": 9,
    "start_time": "2022-11-20T12:19:03.130Z"
   },
   {
    "duration": 6,
    "start_time": "2022-11-20T12:19:03.140Z"
   },
   {
    "duration": 4,
    "start_time": "2022-11-20T12:19:03.148Z"
   },
   {
    "duration": 7,
    "start_time": "2022-11-20T12:19:03.153Z"
   },
   {
    "duration": 107,
    "start_time": "2022-11-20T12:19:03.162Z"
   },
   {
    "duration": 8,
    "start_time": "2022-11-20T12:19:03.270Z"
   },
   {
    "duration": 8,
    "start_time": "2022-11-20T12:19:35.127Z"
   },
   {
    "duration": 85,
    "start_time": "2022-11-20T12:19:56.310Z"
   },
   {
    "duration": 20,
    "start_time": "2022-11-20T12:20:21.480Z"
   },
   {
    "duration": 37,
    "start_time": "2022-11-20T12:21:23.566Z"
   },
   {
    "duration": 74,
    "start_time": "2022-11-20T12:27:08.380Z"
   },
   {
    "duration": 86,
    "start_time": "2022-11-20T12:27:19.627Z"
   },
   {
    "duration": 1158,
    "start_time": "2022-11-20T12:31:51.487Z"
   },
   {
    "duration": 17,
    "start_time": "2022-11-20T12:32:14.995Z"
   },
   {
    "duration": 17,
    "start_time": "2022-11-20T12:32:43.579Z"
   },
   {
    "duration": 16,
    "start_time": "2022-11-20T12:33:20.689Z"
   },
   {
    "duration": 16,
    "start_time": "2022-11-20T12:33:27.040Z"
   },
   {
    "duration": 16,
    "start_time": "2022-11-20T12:36:26.264Z"
   },
   {
    "duration": 1349,
    "start_time": "2022-11-20T12:36:57.111Z"
   },
   {
    "duration": 18,
    "start_time": "2022-11-20T12:37:16.513Z"
   },
   {
    "duration": 41,
    "start_time": "2022-11-20T12:38:01.812Z"
   },
   {
    "duration": 3,
    "start_time": "2022-11-20T12:38:29.423Z"
   },
   {
    "duration": 14,
    "start_time": "2022-11-20T12:38:32.879Z"
   },
   {
    "duration": 9,
    "start_time": "2022-11-20T12:38:39.407Z"
   },
   {
    "duration": 18,
    "start_time": "2022-11-20T12:39:14.588Z"
   },
   {
    "duration": 16,
    "start_time": "2022-11-20T12:39:16.383Z"
   },
   {
    "duration": 4,
    "start_time": "2022-11-20T12:41:02.718Z"
   },
   {
    "duration": 63,
    "start_time": "2022-11-20T12:41:13.678Z"
   },
   {
    "duration": 8,
    "start_time": "2022-11-20T12:41:19.533Z"
   },
   {
    "duration": 86,
    "start_time": "2022-11-20T12:41:22.365Z"
   },
   {
    "duration": 8,
    "start_time": "2022-11-20T12:41:23.261Z"
   },
   {
    "duration": 342,
    "start_time": "2022-11-20T12:41:26.669Z"
   },
   {
    "duration": 113,
    "start_time": "2022-11-20T12:41:27.013Z"
   },
   {
    "duration": 15,
    "start_time": "2022-11-20T12:41:27.127Z"
   },
   {
    "duration": 2014,
    "start_time": "2022-11-20T12:41:27.143Z"
   },
   {
    "duration": 5,
    "start_time": "2022-11-20T12:41:29.159Z"
   },
   {
    "duration": 12,
    "start_time": "2022-11-20T12:41:29.165Z"
   },
   {
    "duration": 9,
    "start_time": "2022-11-20T12:41:29.178Z"
   },
   {
    "duration": 6,
    "start_time": "2022-11-20T12:41:29.188Z"
   },
   {
    "duration": 6,
    "start_time": "2022-11-20T12:41:29.195Z"
   },
   {
    "duration": 3,
    "start_time": "2022-11-20T12:41:29.203Z"
   },
   {
    "duration": 9,
    "start_time": "2022-11-20T12:41:29.207Z"
   },
   {
    "duration": 5,
    "start_time": "2022-11-20T12:41:29.218Z"
   },
   {
    "duration": 9,
    "start_time": "2022-11-20T12:41:29.224Z"
   },
   {
    "duration": 7,
    "start_time": "2022-11-20T12:41:29.234Z"
   },
   {
    "duration": 73,
    "start_time": "2022-11-20T12:41:29.243Z"
   },
   {
    "duration": 8,
    "start_time": "2022-11-20T12:41:29.317Z"
   },
   {
    "duration": 68,
    "start_time": "2022-11-20T12:42:33.597Z"
   },
   {
    "duration": 3,
    "start_time": "2022-11-20T12:42:37.877Z"
   },
   {
    "duration": 79,
    "start_time": "2022-11-20T12:42:45.509Z"
   },
   {
    "duration": 13,
    "start_time": "2022-11-20T12:42:55.685Z"
   },
   {
    "duration": 35,
    "start_time": "2022-11-20T12:43:01.278Z"
   },
   {
    "duration": 16,
    "start_time": "2022-11-20T12:43:41.501Z"
   },
   {
    "duration": 89,
    "start_time": "2022-11-20T12:45:09.317Z"
   },
   {
    "duration": 38,
    "start_time": "2022-11-20T12:45:11.700Z"
   },
   {
    "duration": 9,
    "start_time": "2022-11-20T12:45:17.004Z"
   },
   {
    "duration": 23,
    "start_time": "2022-11-20T12:49:14.483Z"
   },
   {
    "duration": 76,
    "start_time": "2022-11-20T13:00:50.781Z"
   },
   {
    "duration": 8,
    "start_time": "2022-11-20T13:02:31.428Z"
   },
   {
    "duration": 29,
    "start_time": "2022-11-20T13:03:17.420Z"
   },
   {
    "duration": 5,
    "start_time": "2022-11-20T13:03:44.988Z"
   },
   {
    "duration": 8,
    "start_time": "2022-11-20T13:03:47.931Z"
   },
   {
    "duration": 400,
    "start_time": "2022-11-20T13:06:58.890Z"
   },
   {
    "duration": 109,
    "start_time": "2022-11-20T13:06:59.292Z"
   },
   {
    "duration": 13,
    "start_time": "2022-11-20T13:06:59.403Z"
   },
   {
    "duration": 2028,
    "start_time": "2022-11-20T13:06:59.417Z"
   },
   {
    "duration": 4,
    "start_time": "2022-11-20T13:07:01.447Z"
   },
   {
    "duration": 9,
    "start_time": "2022-11-20T13:07:01.452Z"
   },
   {
    "duration": 16,
    "start_time": "2022-11-20T13:07:01.463Z"
   },
   {
    "duration": 6,
    "start_time": "2022-11-20T13:07:01.481Z"
   },
   {
    "duration": 6,
    "start_time": "2022-11-20T13:07:01.488Z"
   },
   {
    "duration": 4,
    "start_time": "2022-11-20T13:07:01.496Z"
   },
   {
    "duration": 11,
    "start_time": "2022-11-20T13:07:01.501Z"
   },
   {
    "duration": 5,
    "start_time": "2022-11-20T13:07:01.513Z"
   },
   {
    "duration": 5,
    "start_time": "2022-11-20T13:07:01.520Z"
   },
   {
    "duration": 8,
    "start_time": "2022-11-20T13:07:01.527Z"
   },
   {
    "duration": 95,
    "start_time": "2022-11-20T13:07:01.537Z"
   },
   {
    "duration": 4,
    "start_time": "2022-11-20T13:07:01.633Z"
   },
   {
    "duration": 9,
    "start_time": "2022-11-20T13:07:01.639Z"
   },
   {
    "duration": 7,
    "start_time": "2022-11-20T13:09:28.401Z"
   },
   {
    "duration": 8,
    "start_time": "2022-11-20T13:09:32.752Z"
   },
   {
    "duration": 348,
    "start_time": "2022-11-20T13:09:57.050Z"
   },
   {
    "duration": 111,
    "start_time": "2022-11-20T13:09:57.400Z"
   },
   {
    "duration": 14,
    "start_time": "2022-11-20T13:09:57.515Z"
   },
   {
    "duration": 2010,
    "start_time": "2022-11-20T13:09:57.531Z"
   },
   {
    "duration": 4,
    "start_time": "2022-11-20T13:09:59.542Z"
   },
   {
    "duration": 9,
    "start_time": "2022-11-20T13:09:59.548Z"
   },
   {
    "duration": 9,
    "start_time": "2022-11-20T13:09:59.558Z"
   },
   {
    "duration": 6,
    "start_time": "2022-11-20T13:09:59.568Z"
   },
   {
    "duration": 6,
    "start_time": "2022-11-20T13:09:59.576Z"
   },
   {
    "duration": 6,
    "start_time": "2022-11-20T13:09:59.583Z"
   },
   {
    "duration": 12,
    "start_time": "2022-11-20T13:09:59.590Z"
   },
   {
    "duration": 9,
    "start_time": "2022-11-20T13:09:59.604Z"
   },
   {
    "duration": 4,
    "start_time": "2022-11-20T13:09:59.615Z"
   },
   {
    "duration": 9,
    "start_time": "2022-11-20T13:09:59.621Z"
   },
   {
    "duration": 91,
    "start_time": "2022-11-20T13:09:59.632Z"
   },
   {
    "duration": 10,
    "start_time": "2022-11-20T13:09:59.724Z"
   },
   {
    "duration": 124,
    "start_time": "2022-11-20T13:30:54.054Z"
   },
   {
    "duration": 107,
    "start_time": "2022-11-20T13:31:11.127Z"
   },
   {
    "duration": 14,
    "start_time": "2022-11-20T13:33:44.893Z"
   },
   {
    "duration": 376,
    "start_time": "2022-11-20T13:36:06.133Z"
   },
   {
    "duration": 112,
    "start_time": "2022-11-20T13:36:06.511Z"
   },
   {
    "duration": 13,
    "start_time": "2022-11-20T13:36:06.624Z"
   },
   {
    "duration": 2018,
    "start_time": "2022-11-20T13:36:06.639Z"
   },
   {
    "duration": 4,
    "start_time": "2022-11-20T13:36:08.659Z"
   },
   {
    "duration": 8,
    "start_time": "2022-11-20T13:36:08.664Z"
   },
   {
    "duration": 10,
    "start_time": "2022-11-20T13:36:08.674Z"
   },
   {
    "duration": 6,
    "start_time": "2022-11-20T13:36:08.685Z"
   },
   {
    "duration": 6,
    "start_time": "2022-11-20T13:36:08.692Z"
   },
   {
    "duration": 3,
    "start_time": "2022-11-20T13:36:08.699Z"
   },
   {
    "duration": 9,
    "start_time": "2022-11-20T13:36:08.713Z"
   },
   {
    "duration": 6,
    "start_time": "2022-11-20T13:36:08.723Z"
   },
   {
    "duration": 8,
    "start_time": "2022-11-20T13:36:08.730Z"
   },
   {
    "duration": 7,
    "start_time": "2022-11-20T13:36:08.740Z"
   },
   {
    "duration": 99,
    "start_time": "2022-11-20T13:36:08.748Z"
   },
   {
    "duration": 7,
    "start_time": "2022-11-20T13:36:08.848Z"
   },
   {
    "duration": 12,
    "start_time": "2022-11-20T13:36:08.857Z"
   },
   {
    "duration": 17,
    "start_time": "2022-11-20T13:36:40.292Z"
   },
   {
    "duration": 109,
    "start_time": "2022-11-20T13:45:38.104Z"
   },
   {
    "duration": 102,
    "start_time": "2022-11-20T13:45:52.179Z"
   },
   {
    "duration": 6,
    "start_time": "2022-11-20T13:47:28.487Z"
   },
   {
    "duration": 3,
    "start_time": "2022-11-20T13:47:46.648Z"
   },
   {
    "duration": 13,
    "start_time": "2022-11-20T13:47:59.076Z"
   },
   {
    "duration": 72,
    "start_time": "2022-11-20T13:55:34.340Z"
   },
   {
    "duration": 14,
    "start_time": "2022-11-20T14:00:24.170Z"
   },
   {
    "duration": 358,
    "start_time": "2022-11-20T14:00:48.951Z"
   },
   {
    "duration": 114,
    "start_time": "2022-11-20T14:00:49.311Z"
   },
   {
    "duration": 15,
    "start_time": "2022-11-20T14:00:49.428Z"
   },
   {
    "duration": 2108,
    "start_time": "2022-11-20T14:00:49.445Z"
   },
   {
    "duration": 4,
    "start_time": "2022-11-20T14:00:51.555Z"
   },
   {
    "duration": 9,
    "start_time": "2022-11-20T14:00:51.560Z"
   },
   {
    "duration": 8,
    "start_time": "2022-11-20T14:00:51.571Z"
   },
   {
    "duration": 6,
    "start_time": "2022-11-20T14:00:51.580Z"
   },
   {
    "duration": 6,
    "start_time": "2022-11-20T14:00:51.587Z"
   },
   {
    "duration": 19,
    "start_time": "2022-11-20T14:00:51.594Z"
   },
   {
    "duration": 11,
    "start_time": "2022-11-20T14:00:51.614Z"
   },
   {
    "duration": 5,
    "start_time": "2022-11-20T14:00:51.626Z"
   },
   {
    "duration": 3,
    "start_time": "2022-11-20T14:00:51.633Z"
   },
   {
    "duration": 7,
    "start_time": "2022-11-20T14:00:51.638Z"
   },
   {
    "duration": 101,
    "start_time": "2022-11-20T14:00:51.647Z"
   },
   {
    "duration": 8,
    "start_time": "2022-11-20T14:00:51.749Z"
   },
   {
    "duration": 17,
    "start_time": "2022-11-20T14:00:51.758Z"
   },
   {
    "duration": 92,
    "start_time": "2022-11-20T14:00:51.777Z"
   },
   {
    "duration": 8,
    "start_time": "2022-11-20T14:01:31.626Z"
   },
   {
    "duration": 5,
    "start_time": "2022-11-20T14:06:08.703Z"
   },
   {
    "duration": 13,
    "start_time": "2022-11-20T14:06:18.352Z"
   },
   {
    "duration": 8,
    "start_time": "2022-11-20T14:08:37.231Z"
   },
   {
    "duration": 7,
    "start_time": "2022-11-20T14:10:02.238Z"
   },
   {
    "duration": 30,
    "start_time": "2022-11-20T14:14:23.516Z"
   },
   {
    "duration": 6,
    "start_time": "2022-11-20T14:15:11.643Z"
   },
   {
    "duration": 29,
    "start_time": "2022-11-20T14:15:14.347Z"
   },
   {
    "duration": 6,
    "start_time": "2022-11-20T14:15:16.301Z"
   },
   {
    "duration": 27,
    "start_time": "2022-11-20T14:15:25.803Z"
   },
   {
    "duration": 7,
    "start_time": "2022-11-20T14:15:28.595Z"
   },
   {
    "duration": 28,
    "start_time": "2022-11-20T14:16:03.171Z"
   },
   {
    "duration": 5,
    "start_time": "2022-11-20T14:16:04.851Z"
   },
   {
    "duration": 428,
    "start_time": "2022-11-20T14:19:34.090Z"
   },
   {
    "duration": 127,
    "start_time": "2022-11-20T14:19:34.520Z"
   },
   {
    "duration": 17,
    "start_time": "2022-11-20T14:19:34.648Z"
   },
   {
    "duration": 2085,
    "start_time": "2022-11-20T14:19:34.668Z"
   },
   {
    "duration": 4,
    "start_time": "2022-11-20T14:19:36.755Z"
   },
   {
    "duration": 10,
    "start_time": "2022-11-20T14:19:36.761Z"
   },
   {
    "duration": 9,
    "start_time": "2022-11-20T14:19:36.772Z"
   },
   {
    "duration": 5,
    "start_time": "2022-11-20T14:19:36.782Z"
   },
   {
    "duration": 5,
    "start_time": "2022-11-20T14:19:36.789Z"
   },
   {
    "duration": 18,
    "start_time": "2022-11-20T14:19:36.795Z"
   },
   {
    "duration": 9,
    "start_time": "2022-11-20T14:19:36.814Z"
   },
   {
    "duration": 5,
    "start_time": "2022-11-20T14:19:36.824Z"
   },
   {
    "duration": 5,
    "start_time": "2022-11-20T14:19:36.830Z"
   },
   {
    "duration": 7,
    "start_time": "2022-11-20T14:19:36.837Z"
   },
   {
    "duration": 110,
    "start_time": "2022-11-20T14:19:36.846Z"
   },
   {
    "duration": 7,
    "start_time": "2022-11-20T14:19:36.958Z"
   },
   {
    "duration": 12,
    "start_time": "2022-11-20T14:19:36.966Z"
   },
   {
    "duration": 7,
    "start_time": "2022-11-20T14:19:36.980Z"
   },
   {
    "duration": 26,
    "start_time": "2022-11-20T14:19:36.988Z"
   },
   {
    "duration": 29,
    "start_time": "2022-11-20T14:19:37.016Z"
   },
   {
    "duration": 5,
    "start_time": "2022-11-20T14:19:37.047Z"
   },
   {
    "duration": 4,
    "start_time": "2022-11-20T14:20:38.409Z"
   },
   {
    "duration": 6,
    "start_time": "2022-11-20T14:20:39.856Z"
   },
   {
    "duration": 4,
    "start_time": "2022-11-20T14:21:37.336Z"
   },
   {
    "duration": 6,
    "start_time": "2022-11-20T14:21:38.689Z"
   },
   {
    "duration": 4,
    "start_time": "2022-11-20T14:22:02.192Z"
   },
   {
    "duration": 6,
    "start_time": "2022-11-20T14:22:03.382Z"
   },
   {
    "duration": 5,
    "start_time": "2022-11-20T14:22:05.904Z"
   },
   {
    "duration": 4,
    "start_time": "2022-11-20T14:22:48.024Z"
   },
   {
    "duration": 6,
    "start_time": "2022-11-20T14:22:49.536Z"
   },
   {
    "duration": 27,
    "start_time": "2022-11-20T14:23:26.656Z"
   },
   {
    "duration": 7,
    "start_time": "2022-11-20T14:23:27.695Z"
   },
   {
    "duration": 27,
    "start_time": "2022-11-20T14:24:01.695Z"
   },
   {
    "duration": 6,
    "start_time": "2022-11-20T14:24:03.615Z"
   },
   {
    "duration": 70,
    "start_time": "2022-11-20T14:29:03.381Z"
   },
   {
    "duration": 6,
    "start_time": "2022-11-20T14:29:04.477Z"
   },
   {
    "duration": 70,
    "start_time": "2022-11-20T14:29:16.502Z"
   },
   {
    "duration": 6,
    "start_time": "2022-11-20T14:29:17.604Z"
   },
   {
    "duration": 392,
    "start_time": "2022-11-20T14:29:20.715Z"
   },
   {
    "duration": 110,
    "start_time": "2022-11-20T14:29:21.109Z"
   },
   {
    "duration": 12,
    "start_time": "2022-11-20T14:29:21.221Z"
   },
   {
    "duration": 1967,
    "start_time": "2022-11-20T14:29:21.234Z"
   },
   {
    "duration": 4,
    "start_time": "2022-11-20T14:29:23.203Z"
   },
   {
    "duration": 10,
    "start_time": "2022-11-20T14:29:23.208Z"
   },
   {
    "duration": 9,
    "start_time": "2022-11-20T14:29:23.219Z"
   },
   {
    "duration": 6,
    "start_time": "2022-11-20T14:29:23.229Z"
   },
   {
    "duration": 6,
    "start_time": "2022-11-20T14:29:23.236Z"
   },
   {
    "duration": 3,
    "start_time": "2022-11-20T14:29:23.244Z"
   },
   {
    "duration": 10,
    "start_time": "2022-11-20T14:29:23.248Z"
   },
   {
    "duration": 5,
    "start_time": "2022-11-20T14:29:23.259Z"
   },
   {
    "duration": 5,
    "start_time": "2022-11-20T14:29:23.265Z"
   },
   {
    "duration": 7,
    "start_time": "2022-11-20T14:29:23.272Z"
   },
   {
    "duration": 111,
    "start_time": "2022-11-20T14:29:23.280Z"
   },
   {
    "duration": 8,
    "start_time": "2022-11-20T14:29:23.392Z"
   },
   {
    "duration": 19,
    "start_time": "2022-11-20T14:29:23.401Z"
   },
   {
    "duration": 7,
    "start_time": "2022-11-20T14:29:23.421Z"
   },
   {
    "duration": 6,
    "start_time": "2022-11-20T14:29:23.430Z"
   },
   {
    "duration": 93,
    "start_time": "2022-11-20T14:29:23.437Z"
   },
   {
    "duration": 7,
    "start_time": "2022-11-20T14:29:23.531Z"
   },
   {
    "duration": 346,
    "start_time": "2022-11-20T14:30:55.368Z"
   },
   {
    "duration": 113,
    "start_time": "2022-11-20T14:30:55.717Z"
   },
   {
    "duration": 13,
    "start_time": "2022-11-20T14:30:55.831Z"
   },
   {
    "duration": 2055,
    "start_time": "2022-11-20T14:30:55.846Z"
   },
   {
    "duration": 4,
    "start_time": "2022-11-20T14:30:57.903Z"
   },
   {
    "duration": 9,
    "start_time": "2022-11-20T14:30:57.909Z"
   },
   {
    "duration": 11,
    "start_time": "2022-11-20T14:30:57.919Z"
   },
   {
    "duration": 9,
    "start_time": "2022-11-20T14:30:57.932Z"
   },
   {
    "duration": 8,
    "start_time": "2022-11-20T14:30:57.944Z"
   },
   {
    "duration": 4,
    "start_time": "2022-11-20T14:30:57.956Z"
   },
   {
    "duration": 14,
    "start_time": "2022-11-20T14:30:57.962Z"
   },
   {
    "duration": 7,
    "start_time": "2022-11-20T14:30:57.979Z"
   },
   {
    "duration": 4,
    "start_time": "2022-11-20T14:30:58.014Z"
   },
   {
    "duration": 18,
    "start_time": "2022-11-20T14:30:58.020Z"
   },
   {
    "duration": 99,
    "start_time": "2022-11-20T14:30:58.040Z"
   },
   {
    "duration": 8,
    "start_time": "2022-11-20T14:30:58.141Z"
   },
   {
    "duration": 17,
    "start_time": "2022-11-20T14:30:58.150Z"
   },
   {
    "duration": 8,
    "start_time": "2022-11-20T14:30:58.168Z"
   },
   {
    "duration": 9,
    "start_time": "2022-11-20T14:30:58.177Z"
   },
   {
    "duration": 135,
    "start_time": "2022-11-20T14:30:58.187Z"
   },
   {
    "duration": 7,
    "start_time": "2022-11-20T14:30:58.324Z"
   },
   {
    "duration": 395,
    "start_time": "2022-11-20T14:33:09.206Z"
   },
   {
    "duration": 114,
    "start_time": "2022-11-20T14:33:09.602Z"
   },
   {
    "duration": 13,
    "start_time": "2022-11-20T14:33:09.718Z"
   },
   {
    "duration": 1989,
    "start_time": "2022-11-20T14:33:09.732Z"
   },
   {
    "duration": 3,
    "start_time": "2022-11-20T14:33:11.723Z"
   },
   {
    "duration": 8,
    "start_time": "2022-11-20T14:33:11.728Z"
   },
   {
    "duration": 9,
    "start_time": "2022-11-20T14:33:11.737Z"
   },
   {
    "duration": 6,
    "start_time": "2022-11-20T14:33:11.747Z"
   },
   {
    "duration": 6,
    "start_time": "2022-11-20T14:33:11.755Z"
   },
   {
    "duration": 4,
    "start_time": "2022-11-20T14:33:11.763Z"
   },
   {
    "duration": 9,
    "start_time": "2022-11-20T14:33:11.769Z"
   },
   {
    "duration": 4,
    "start_time": "2022-11-20T14:33:11.780Z"
   },
   {
    "duration": 28,
    "start_time": "2022-11-20T14:33:11.785Z"
   },
   {
    "duration": 9,
    "start_time": "2022-11-20T14:33:11.814Z"
   },
   {
    "duration": 95,
    "start_time": "2022-11-20T14:33:11.824Z"
   },
   {
    "duration": 8,
    "start_time": "2022-11-20T14:33:11.924Z"
   },
   {
    "duration": 14,
    "start_time": "2022-11-20T14:33:11.933Z"
   },
   {
    "duration": 7,
    "start_time": "2022-11-20T14:33:11.948Z"
   },
   {
    "duration": 6,
    "start_time": "2022-11-20T14:33:11.956Z"
   },
   {
    "duration": 128,
    "start_time": "2022-11-20T14:33:11.964Z"
   },
   {
    "duration": 5,
    "start_time": "2022-11-20T14:33:12.094Z"
   },
   {
    "duration": 404,
    "start_time": "2022-11-20T14:34:04.194Z"
   },
   {
    "duration": 121,
    "start_time": "2022-11-20T14:34:04.601Z"
   },
   {
    "duration": 13,
    "start_time": "2022-11-20T14:34:04.724Z"
   },
   {
    "duration": 2002,
    "start_time": "2022-11-20T14:34:04.739Z"
   },
   {
    "duration": 4,
    "start_time": "2022-11-20T14:34:06.742Z"
   },
   {
    "duration": 7,
    "start_time": "2022-11-20T14:34:06.748Z"
   },
   {
    "duration": 9,
    "start_time": "2022-11-20T14:34:06.757Z"
   },
   {
    "duration": 6,
    "start_time": "2022-11-20T14:34:06.767Z"
   },
   {
    "duration": 5,
    "start_time": "2022-11-20T14:34:06.774Z"
   },
   {
    "duration": 4,
    "start_time": "2022-11-20T14:34:06.781Z"
   },
   {
    "duration": 10,
    "start_time": "2022-11-20T14:34:06.786Z"
   },
   {
    "duration": 19,
    "start_time": "2022-11-20T14:34:06.797Z"
   },
   {
    "duration": 5,
    "start_time": "2022-11-20T14:34:06.817Z"
   },
   {
    "duration": 8,
    "start_time": "2022-11-20T14:34:06.823Z"
   },
   {
    "duration": 92,
    "start_time": "2022-11-20T14:34:06.832Z"
   },
   {
    "duration": 7,
    "start_time": "2022-11-20T14:34:06.926Z"
   },
   {
    "duration": 15,
    "start_time": "2022-11-20T14:34:06.935Z"
   },
   {
    "duration": 8,
    "start_time": "2022-11-20T14:34:06.952Z"
   },
   {
    "duration": 7,
    "start_time": "2022-11-20T14:34:06.961Z"
   },
   {
    "duration": 183,
    "start_time": "2022-11-20T14:34:06.969Z"
   },
   {
    "duration": 5,
    "start_time": "2022-11-20T14:34:07.154Z"
   },
   {
    "duration": 387,
    "start_time": "2022-11-20T14:34:47.247Z"
   },
   {
    "duration": 118,
    "start_time": "2022-11-20T14:34:47.636Z"
   },
   {
    "duration": 13,
    "start_time": "2022-11-20T14:34:47.756Z"
   },
   {
    "duration": 2066,
    "start_time": "2022-11-20T14:34:47.771Z"
   },
   {
    "duration": 4,
    "start_time": "2022-11-20T14:34:49.839Z"
   },
   {
    "duration": 9,
    "start_time": "2022-11-20T14:34:49.844Z"
   },
   {
    "duration": 9,
    "start_time": "2022-11-20T14:34:49.854Z"
   },
   {
    "duration": 6,
    "start_time": "2022-11-20T14:34:49.864Z"
   },
   {
    "duration": 7,
    "start_time": "2022-11-20T14:34:49.871Z"
   },
   {
    "duration": 2,
    "start_time": "2022-11-20T14:34:49.880Z"
   },
   {
    "duration": 9,
    "start_time": "2022-11-20T14:34:49.883Z"
   },
   {
    "duration": 5,
    "start_time": "2022-11-20T14:34:49.893Z"
   },
   {
    "duration": 14,
    "start_time": "2022-11-20T14:34:49.899Z"
   },
   {
    "duration": 5,
    "start_time": "2022-11-20T14:34:49.915Z"
   },
   {
    "duration": 92,
    "start_time": "2022-11-20T14:34:49.921Z"
   },
   {
    "duration": 8,
    "start_time": "2022-11-20T14:34:50.014Z"
   },
   {
    "duration": 13,
    "start_time": "2022-11-20T14:34:50.024Z"
   },
   {
    "duration": 7,
    "start_time": "2022-11-20T14:34:50.039Z"
   },
   {
    "duration": 5,
    "start_time": "2022-11-20T14:34:50.047Z"
   },
   {
    "duration": 189,
    "start_time": "2022-11-20T14:34:50.054Z"
   },
   {
    "duration": 7,
    "start_time": "2022-11-20T14:34:50.245Z"
   },
   {
    "duration": 389,
    "start_time": "2022-11-20T14:35:45.512Z"
   },
   {
    "duration": 112,
    "start_time": "2022-11-20T14:35:45.903Z"
   },
   {
    "duration": 13,
    "start_time": "2022-11-20T14:35:46.017Z"
   },
   {
    "duration": 2025,
    "start_time": "2022-11-20T14:35:46.032Z"
   },
   {
    "duration": 4,
    "start_time": "2022-11-20T14:35:48.059Z"
   },
   {
    "duration": 9,
    "start_time": "2022-11-20T14:35:48.064Z"
   },
   {
    "duration": 10,
    "start_time": "2022-11-20T14:35:48.074Z"
   },
   {
    "duration": 6,
    "start_time": "2022-11-20T14:35:48.085Z"
   },
   {
    "duration": 7,
    "start_time": "2022-11-20T14:35:48.093Z"
   },
   {
    "duration": 3,
    "start_time": "2022-11-20T14:35:48.103Z"
   },
   {
    "duration": 8,
    "start_time": "2022-11-20T14:35:48.113Z"
   },
   {
    "duration": 5,
    "start_time": "2022-11-20T14:35:48.122Z"
   },
   {
    "duration": 4,
    "start_time": "2022-11-20T14:35:48.128Z"
   },
   {
    "duration": 8,
    "start_time": "2022-11-20T14:35:48.134Z"
   },
   {
    "duration": 101,
    "start_time": "2022-11-20T14:35:48.143Z"
   },
   {
    "duration": 7,
    "start_time": "2022-11-20T14:35:48.246Z"
   },
   {
    "duration": 12,
    "start_time": "2022-11-20T14:35:48.254Z"
   },
   {
    "duration": 6,
    "start_time": "2022-11-20T14:35:48.268Z"
   },
   {
    "duration": 6,
    "start_time": "2022-11-20T14:35:48.276Z"
   },
   {
    "duration": 249,
    "start_time": "2022-11-20T14:35:48.284Z"
   },
   {
    "duration": 5,
    "start_time": "2022-11-20T14:35:48.535Z"
   },
   {
    "duration": 372,
    "start_time": "2022-11-20T14:37:29.925Z"
   },
   {
    "duration": 111,
    "start_time": "2022-11-20T14:37:30.299Z"
   },
   {
    "duration": 13,
    "start_time": "2022-11-20T14:37:30.411Z"
   },
   {
    "duration": 2115,
    "start_time": "2022-11-20T14:37:30.426Z"
   },
   {
    "duration": 4,
    "start_time": "2022-11-20T14:37:32.544Z"
   },
   {
    "duration": 8,
    "start_time": "2022-11-20T14:37:32.551Z"
   },
   {
    "duration": 13,
    "start_time": "2022-11-20T14:37:32.561Z"
   },
   {
    "duration": 6,
    "start_time": "2022-11-20T14:37:32.575Z"
   },
   {
    "duration": 6,
    "start_time": "2022-11-20T14:37:32.582Z"
   },
   {
    "duration": 4,
    "start_time": "2022-11-20T14:37:32.590Z"
   },
   {
    "duration": 26,
    "start_time": "2022-11-20T14:37:32.595Z"
   },
   {
    "duration": 7,
    "start_time": "2022-11-20T14:37:32.622Z"
   },
   {
    "duration": 5,
    "start_time": "2022-11-20T14:37:32.631Z"
   },
   {
    "duration": 7,
    "start_time": "2022-11-20T14:37:32.639Z"
   },
   {
    "duration": 122,
    "start_time": "2022-11-20T14:37:32.648Z"
   },
   {
    "duration": 7,
    "start_time": "2022-11-20T14:37:32.772Z"
   },
   {
    "duration": 11,
    "start_time": "2022-11-20T14:37:32.780Z"
   },
   {
    "duration": 20,
    "start_time": "2022-11-20T14:37:32.793Z"
   },
   {
    "duration": 6,
    "start_time": "2022-11-20T14:37:32.814Z"
   },
   {
    "duration": 214,
    "start_time": "2022-11-20T14:37:32.822Z"
   },
   {
    "duration": 6,
    "start_time": "2022-11-20T14:37:33.038Z"
   },
   {
    "duration": 363,
    "start_time": "2022-11-20T14:39:06.778Z"
   },
   {
    "duration": 112,
    "start_time": "2022-11-20T14:39:07.143Z"
   },
   {
    "duration": 14,
    "start_time": "2022-11-20T14:39:07.256Z"
   },
   {
    "duration": 2037,
    "start_time": "2022-11-20T14:39:07.272Z"
   },
   {
    "duration": 5,
    "start_time": "2022-11-20T14:39:09.311Z"
   },
   {
    "duration": 10,
    "start_time": "2022-11-20T14:39:09.317Z"
   },
   {
    "duration": 8,
    "start_time": "2022-11-20T14:39:09.329Z"
   },
   {
    "duration": 6,
    "start_time": "2022-11-20T14:39:09.338Z"
   },
   {
    "duration": 10,
    "start_time": "2022-11-20T14:39:09.345Z"
   },
   {
    "duration": 6,
    "start_time": "2022-11-20T14:39:09.357Z"
   },
   {
    "duration": 9,
    "start_time": "2022-11-20T14:39:09.365Z"
   },
   {
    "duration": 6,
    "start_time": "2022-11-20T14:39:09.375Z"
   },
   {
    "duration": 7,
    "start_time": "2022-11-20T14:39:09.382Z"
   },
   {
    "duration": 26,
    "start_time": "2022-11-20T14:39:09.390Z"
   },
   {
    "duration": 84,
    "start_time": "2022-11-20T14:39:09.418Z"
   },
   {
    "duration": 8,
    "start_time": "2022-11-20T14:39:09.513Z"
   },
   {
    "duration": 14,
    "start_time": "2022-11-20T14:39:09.522Z"
   },
   {
    "duration": 8,
    "start_time": "2022-11-20T14:39:09.538Z"
   },
   {
    "duration": 7,
    "start_time": "2022-11-20T14:39:09.547Z"
   },
   {
    "duration": 235,
    "start_time": "2022-11-20T14:39:09.555Z"
   },
   {
    "duration": 6,
    "start_time": "2022-11-20T14:39:09.791Z"
   },
   {
    "duration": 63,
    "start_time": "2022-11-20T14:41:10.463Z"
   },
   {
    "duration": 22,
    "start_time": "2022-11-20T14:41:31.448Z"
   },
   {
    "duration": 410,
    "start_time": "2022-11-20T14:41:40.203Z"
   },
   {
    "duration": 110,
    "start_time": "2022-11-20T14:41:40.614Z"
   },
   {
    "duration": 13,
    "start_time": "2022-11-20T14:41:40.725Z"
   },
   {
    "duration": 1945,
    "start_time": "2022-11-20T14:41:40.740Z"
   },
   {
    "duration": 3,
    "start_time": "2022-11-20T14:41:42.687Z"
   },
   {
    "duration": 8,
    "start_time": "2022-11-20T14:41:42.692Z"
   },
   {
    "duration": 8,
    "start_time": "2022-11-20T14:41:42.702Z"
   },
   {
    "duration": 12,
    "start_time": "2022-11-20T14:41:42.712Z"
   },
   {
    "duration": 8,
    "start_time": "2022-11-20T14:41:42.725Z"
   },
   {
    "duration": 4,
    "start_time": "2022-11-20T14:41:42.735Z"
   },
   {
    "duration": 9,
    "start_time": "2022-11-20T14:41:42.740Z"
   },
   {
    "duration": 5,
    "start_time": "2022-11-20T14:41:42.750Z"
   },
   {
    "duration": 5,
    "start_time": "2022-11-20T14:41:42.756Z"
   },
   {
    "duration": 7,
    "start_time": "2022-11-20T14:41:42.762Z"
   },
   {
    "duration": 95,
    "start_time": "2022-11-20T14:41:42.771Z"
   },
   {
    "duration": 7,
    "start_time": "2022-11-20T14:41:42.867Z"
   },
   {
    "duration": 17,
    "start_time": "2022-11-20T14:41:42.875Z"
   },
   {
    "duration": 7,
    "start_time": "2022-11-20T14:41:42.893Z"
   },
   {
    "duration": 8,
    "start_time": "2022-11-20T14:41:42.912Z"
   },
   {
    "duration": 223,
    "start_time": "2022-11-20T14:41:42.921Z"
   },
   {
    "duration": 6,
    "start_time": "2022-11-20T14:41:43.145Z"
   },
   {
    "duration": 24,
    "start_time": "2022-11-20T14:41:43.152Z"
   },
   {
    "duration": 63,
    "start_time": "2022-11-20T14:44:20.646Z"
   },
   {
    "duration": 4,
    "start_time": "2022-11-20T14:44:52.448Z"
   },
   {
    "duration": 22,
    "start_time": "2022-11-20T14:46:15.742Z"
   },
   {
    "duration": 33,
    "start_time": "2022-11-20T14:46:29.909Z"
   },
   {
    "duration": 22,
    "start_time": "2022-11-20T14:46:51.373Z"
   },
   {
    "duration": 15,
    "start_time": "2022-11-20T14:49:02.717Z"
   },
   {
    "duration": 14,
    "start_time": "2022-11-20T14:49:15.373Z"
   },
   {
    "duration": 34,
    "start_time": "2022-11-20T14:49:18.062Z"
   },
   {
    "duration": 34,
    "start_time": "2022-11-20T14:49:27.645Z"
   },
   {
    "duration": 34,
    "start_time": "2022-11-20T14:49:38.124Z"
   },
   {
    "duration": 43,
    "start_time": "2022-11-20T14:50:39.843Z"
   },
   {
    "duration": 35,
    "start_time": "2022-11-20T14:51:09.045Z"
   },
   {
    "duration": 33,
    "start_time": "2022-11-20T14:51:21.764Z"
   },
   {
    "duration": 4,
    "start_time": "2022-11-20T14:58:14.089Z"
   },
   {
    "duration": 42,
    "start_time": "2022-11-20T14:58:24.896Z"
   },
   {
    "duration": 5,
    "start_time": "2022-11-20T14:58:37.274Z"
   },
   {
    "duration": 31,
    "start_time": "2022-11-20T14:58:37.877Z"
   },
   {
    "duration": 8,
    "start_time": "2022-11-20T14:59:32.913Z"
   },
   {
    "duration": 24,
    "start_time": "2022-11-20T14:59:33.391Z"
   },
   {
    "duration": 11,
    "start_time": "2022-11-20T15:00:06.705Z"
   },
   {
    "duration": 31,
    "start_time": "2022-11-20T15:00:07.270Z"
   },
   {
    "duration": 22,
    "start_time": "2022-11-20T15:01:20.112Z"
   },
   {
    "duration": 54,
    "start_time": "2022-11-20T15:02:25.744Z"
   },
   {
    "duration": 25,
    "start_time": "2022-11-20T15:03:00.871Z"
   },
   {
    "duration": 632,
    "start_time": "2022-11-20T15:08:38.749Z"
   },
   {
    "duration": 10,
    "start_time": "2022-11-20T15:09:20.076Z"
   },
   {
    "duration": 12,
    "start_time": "2022-11-20T15:09:31.341Z"
   },
   {
    "duration": 10,
    "start_time": "2022-11-20T15:09:53.133Z"
   },
   {
    "duration": 110,
    "start_time": "2022-11-20T15:09:58.460Z"
   },
   {
    "duration": 95,
    "start_time": "2022-11-20T15:10:14.404Z"
   },
   {
    "duration": 101,
    "start_time": "2022-11-20T15:11:29.602Z"
   },
   {
    "duration": 276,
    "start_time": "2022-11-20T15:12:30.467Z"
   },
   {
    "duration": 3,
    "start_time": "2022-11-20T15:12:47.009Z"
   },
   {
    "duration": 3,
    "start_time": "2022-11-20T15:12:51.755Z"
   },
   {
    "duration": 4,
    "start_time": "2022-11-20T15:12:58.770Z"
   },
   {
    "duration": 559,
    "start_time": "2022-11-20T15:14:32.626Z"
   },
   {
    "duration": 560,
    "start_time": "2022-11-20T15:14:38.786Z"
   },
   {
    "duration": 758,
    "start_time": "2022-11-20T15:15:19.906Z"
   },
   {
    "duration": 84,
    "start_time": "2022-11-20T15:15:40.137Z"
   },
   {
    "duration": 480,
    "start_time": "2022-11-20T15:15:47.441Z"
   },
   {
    "duration": 2033,
    "start_time": "2022-11-20T15:18:27.119Z"
   },
   {
    "duration": 108,
    "start_time": "2022-11-20T15:19:23.761Z"
   },
   {
    "duration": 1940,
    "start_time": "2022-11-20T15:19:31.152Z"
   },
   {
    "duration": 7,
    "start_time": "2022-11-20T15:25:40.940Z"
   },
   {
    "duration": 75,
    "start_time": "2022-11-20T15:25:54.172Z"
   },
   {
    "duration": 47,
    "start_time": "2022-11-22T09:12:57.473Z"
   },
   {
    "duration": 391,
    "start_time": "2022-11-22T09:13:04.826Z"
   },
   {
    "duration": 333,
    "start_time": "2022-11-22T09:13:05.219Z"
   },
   {
    "duration": 15,
    "start_time": "2022-11-22T09:13:05.553Z"
   },
   {
    "duration": 2336,
    "start_time": "2022-11-22T09:13:05.570Z"
   },
   {
    "duration": 5,
    "start_time": "2022-11-22T09:13:07.908Z"
   },
   {
    "duration": 10,
    "start_time": "2022-11-22T09:13:07.915Z"
   },
   {
    "duration": 14,
    "start_time": "2022-11-22T09:13:07.927Z"
   },
   {
    "duration": 7,
    "start_time": "2022-11-22T09:13:07.943Z"
   },
   {
    "duration": 8,
    "start_time": "2022-11-22T09:13:07.951Z"
   },
   {
    "duration": 3,
    "start_time": "2022-11-22T09:13:07.962Z"
   },
   {
    "duration": 38,
    "start_time": "2022-11-22T09:13:07.967Z"
   },
   {
    "duration": 6,
    "start_time": "2022-11-22T09:13:08.007Z"
   },
   {
    "duration": 5,
    "start_time": "2022-11-22T09:13:08.015Z"
   },
   {
    "duration": 9,
    "start_time": "2022-11-22T09:13:08.022Z"
   },
   {
    "duration": 116,
    "start_time": "2022-11-22T09:13:08.033Z"
   },
   {
    "duration": 9,
    "start_time": "2022-11-22T09:13:08.151Z"
   },
   {
    "duration": 15,
    "start_time": "2022-11-22T09:13:08.162Z"
   },
   {
    "duration": 8,
    "start_time": "2022-11-22T09:13:08.197Z"
   },
   {
    "duration": 26,
    "start_time": "2022-11-22T09:13:08.207Z"
   },
   {
    "duration": 222,
    "start_time": "2022-11-22T09:13:08.235Z"
   },
   {
    "duration": 7,
    "start_time": "2022-11-22T09:13:08.459Z"
   },
   {
    "duration": 37,
    "start_time": "2022-11-22T09:13:08.468Z"
   },
   {
    "duration": 36,
    "start_time": "2022-11-22T09:13:08.507Z"
   },
   {
    "duration": 8,
    "start_time": "2022-11-22T09:13:08.545Z"
   },
   {
    "duration": 2010,
    "start_time": "2022-11-22T09:13:08.555Z"
   },
   {
    "duration": 75,
    "start_time": "2022-11-22T09:13:10.567Z"
   },
   {
    "duration": 15,
    "start_time": "2022-11-22T09:13:10.644Z"
   },
   {
    "duration": 11,
    "start_time": "2022-11-22T09:13:47.061Z"
   },
   {
    "duration": 24,
    "start_time": "2022-11-22T09:20:07.468Z"
   },
   {
    "duration": 9,
    "start_time": "2022-11-22T09:25:23.503Z"
   },
   {
    "duration": 15,
    "start_time": "2022-11-22T09:25:35.747Z"
   },
   {
    "duration": 4,
    "start_time": "2022-11-22T09:31:08.244Z"
   },
   {
    "duration": 23,
    "start_time": "2022-11-22T09:31:22.396Z"
   },
   {
    "duration": 4,
    "start_time": "2022-11-22T09:31:46.275Z"
   },
   {
    "duration": 25,
    "start_time": "2022-11-22T09:31:48.452Z"
   },
   {
    "duration": 75,
    "start_time": "2022-11-22T09:38:10.745Z"
   },
   {
    "duration": 8,
    "start_time": "2022-11-22T09:38:39.121Z"
   },
   {
    "duration": 10,
    "start_time": "2022-11-22T09:38:46.921Z"
   },
   {
    "duration": 9,
    "start_time": "2022-11-22T09:43:37.007Z"
   },
   {
    "duration": 13,
    "start_time": "2022-11-22T09:49:32.548Z"
   },
   {
    "duration": 25,
    "start_time": "2022-11-22T09:50:27.299Z"
   },
   {
    "duration": 6,
    "start_time": "2022-11-22T09:51:54.091Z"
   },
   {
    "duration": 22,
    "start_time": "2022-11-22T09:51:57.671Z"
   },
   {
    "duration": 5,
    "start_time": "2022-11-22T09:52:22.092Z"
   },
   {
    "duration": 25,
    "start_time": "2022-11-22T09:52:32.539Z"
   },
   {
    "duration": 19,
    "start_time": "2022-11-22T10:01:44.136Z"
   },
   {
    "duration": 32,
    "start_time": "2022-11-22T10:02:48.846Z"
   },
   {
    "duration": 36,
    "start_time": "2022-11-22T10:05:05.916Z"
   },
   {
    "duration": 562,
    "start_time": "2022-11-22T10:05:05.955Z"
   },
   {
    "duration": 22,
    "start_time": "2022-11-22T10:05:13.269Z"
   },
   {
    "duration": 39,
    "start_time": "2022-11-22T10:05:59.645Z"
   },
   {
    "duration": 4,
    "start_time": "2022-11-22T10:07:51.891Z"
   },
   {
    "duration": 23,
    "start_time": "2022-11-22T10:07:53.820Z"
   },
   {
    "duration": 14,
    "start_time": "2022-11-22T10:08:34.917Z"
   },
   {
    "duration": 9,
    "start_time": "2022-11-22T10:08:56.995Z"
   },
   {
    "duration": 4,
    "start_time": "2022-11-22T10:09:05.083Z"
   },
   {
    "duration": 23,
    "start_time": "2022-11-22T10:09:19.787Z"
   },
   {
    "duration": 123,
    "start_time": "2022-11-22T12:14:45.553Z"
   },
   {
    "duration": 145,
    "start_time": "2022-11-22T12:14:57.136Z"
   },
   {
    "duration": 176,
    "start_time": "2022-11-22T12:15:07.792Z"
   },
   {
    "duration": 162,
    "start_time": "2022-11-22T12:15:24.768Z"
   },
   {
    "duration": 146,
    "start_time": "2022-11-22T12:17:43.984Z"
   },
   {
    "duration": 154,
    "start_time": "2022-11-22T12:17:59.606Z"
   },
   {
    "duration": 162,
    "start_time": "2022-11-22T12:18:07.415Z"
   },
   {
    "duration": 154,
    "start_time": "2022-11-22T12:19:00.968Z"
   },
   {
    "duration": 150,
    "start_time": "2022-11-22T12:19:25.317Z"
   },
   {
    "duration": 158,
    "start_time": "2022-11-22T12:20:05.031Z"
   },
   {
    "duration": 148,
    "start_time": "2022-11-22T12:20:21.182Z"
   },
   {
    "duration": 224,
    "start_time": "2022-11-22T12:20:47.150Z"
   },
   {
    "duration": 172,
    "start_time": "2022-11-22T12:21:10.677Z"
   },
   {
    "duration": 153,
    "start_time": "2022-11-22T12:21:17.078Z"
   },
   {
    "duration": 160,
    "start_time": "2022-11-22T12:21:21.005Z"
   },
   {
    "duration": 174,
    "start_time": "2022-11-22T12:21:25.189Z"
   },
   {
    "duration": 166,
    "start_time": "2022-11-22T12:21:56.181Z"
   },
   {
    "duration": 156,
    "start_time": "2022-11-22T12:22:17.518Z"
   },
   {
    "duration": 145,
    "start_time": "2022-11-22T12:22:26.429Z"
   },
   {
    "duration": 169,
    "start_time": "2022-11-22T12:22:36.110Z"
   },
   {
    "duration": 170,
    "start_time": "2022-11-22T12:23:43.565Z"
   },
   {
    "duration": 168,
    "start_time": "2022-11-22T12:23:50.236Z"
   },
   {
    "duration": 259,
    "start_time": "2022-11-22T12:24:02.373Z"
   },
   {
    "duration": 153,
    "start_time": "2022-11-22T12:24:19.972Z"
   },
   {
    "duration": 164,
    "start_time": "2022-11-22T12:25:05.820Z"
   },
   {
    "duration": 760,
    "start_time": "2022-11-22T12:25:43.531Z"
   },
   {
    "duration": 756,
    "start_time": "2022-11-22T12:26:00.140Z"
   },
   {
    "duration": 26,
    "start_time": "2022-11-22T12:26:20.531Z"
   },
   {
    "duration": 335,
    "start_time": "2022-11-22T12:26:53.891Z"
   },
   {
    "duration": 142,
    "start_time": "2022-11-22T12:26:58.675Z"
   },
   {
    "duration": 111,
    "start_time": "2022-11-22T12:27:07.619Z"
   },
   {
    "duration": 108,
    "start_time": "2022-11-22T12:27:27.059Z"
   },
   {
    "duration": 116,
    "start_time": "2022-11-22T12:29:24.426Z"
   },
   {
    "duration": 141,
    "start_time": "2022-11-22T12:29:38.443Z"
   },
   {
    "duration": 197,
    "start_time": "2022-11-22T12:30:10.242Z"
   },
   {
    "duration": 110,
    "start_time": "2022-11-22T12:30:20.569Z"
   },
   {
    "duration": 126,
    "start_time": "2022-11-22T12:31:13.457Z"
   },
   {
    "duration": 16,
    "start_time": "2022-11-22T12:31:19.690Z"
   },
   {
    "duration": 169,
    "start_time": "2022-11-22T12:31:26.289Z"
   },
   {
    "duration": 133,
    "start_time": "2022-11-22T12:32:10.393Z"
   },
   {
    "duration": 164,
    "start_time": "2022-11-22T12:33:20.505Z"
   },
   {
    "duration": 167,
    "start_time": "2022-11-22T12:33:43.032Z"
   },
   {
    "duration": 112,
    "start_time": "2022-11-22T12:33:52.528Z"
   },
   {
    "duration": 124,
    "start_time": "2022-11-22T12:34:12.968Z"
   },
   {
    "duration": 138,
    "start_time": "2022-11-22T12:35:34.208Z"
   },
   {
    "duration": 149,
    "start_time": "2022-11-22T12:38:49.327Z"
   },
   {
    "duration": 218,
    "start_time": "2022-11-22T12:38:58.646Z"
   },
   {
    "duration": 175,
    "start_time": "2022-11-22T12:43:10.284Z"
   },
   {
    "duration": 157,
    "start_time": "2022-11-22T12:43:29.077Z"
   },
   {
    "duration": 157,
    "start_time": "2022-11-22T12:43:48.916Z"
   },
   {
    "duration": 164,
    "start_time": "2022-11-22T12:43:57.668Z"
   },
   {
    "duration": 41,
    "start_time": "2022-11-22T12:45:49.867Z"
   },
   {
    "duration": 155,
    "start_time": "2022-11-22T12:46:11.891Z"
   },
   {
    "duration": 152,
    "start_time": "2022-11-22T12:46:16.867Z"
   },
   {
    "duration": 136,
    "start_time": "2022-11-22T12:47:30.980Z"
   },
   {
    "duration": 134,
    "start_time": "2022-11-22T12:49:38.929Z"
   },
   {
    "duration": 7,
    "start_time": "2022-11-22T12:49:51.585Z"
   },
   {
    "duration": 115,
    "start_time": "2022-11-22T12:49:55.570Z"
   },
   {
    "duration": 160,
    "start_time": "2022-11-22T12:50:53.883Z"
   },
   {
    "duration": 222,
    "start_time": "2022-11-22T12:52:58.400Z"
   },
   {
    "duration": 161,
    "start_time": "2022-11-22T12:53:12.192Z"
   },
   {
    "duration": 140,
    "start_time": "2022-11-22T12:59:30.013Z"
   },
   {
    "duration": 6,
    "start_time": "2022-11-22T12:59:55.174Z"
   },
   {
    "duration": 5,
    "start_time": "2022-11-22T13:00:10.509Z"
   },
   {
    "duration": 173,
    "start_time": "2022-11-22T13:08:29.770Z"
   },
   {
    "duration": 177,
    "start_time": "2022-11-22T13:08:36.842Z"
   },
   {
    "duration": 64,
    "start_time": "2022-11-22T13:09:04.801Z"
   },
   {
    "duration": 51,
    "start_time": "2022-11-22T13:09:20.465Z"
   },
   {
    "duration": 52,
    "start_time": "2022-11-22T13:09:29.305Z"
   },
   {
    "duration": 244,
    "start_time": "2022-11-22T13:09:45.449Z"
   },
   {
    "duration": 68,
    "start_time": "2022-11-22T13:10:04.666Z"
   },
   {
    "duration": 10,
    "start_time": "2022-11-22T13:11:03.321Z"
   },
   {
    "duration": 6,
    "start_time": "2022-11-22T13:11:11.136Z"
   },
   {
    "duration": 77,
    "start_time": "2022-11-22T13:13:29.679Z"
   },
   {
    "duration": 175,
    "start_time": "2022-11-22T13:14:58.914Z"
   },
   {
    "duration": 182,
    "start_time": "2022-11-22T13:15:22.184Z"
   },
   {
    "duration": 168,
    "start_time": "2022-11-22T13:15:28.606Z"
   },
   {
    "duration": 174,
    "start_time": "2022-11-22T13:15:39.296Z"
   },
   {
    "duration": 177,
    "start_time": "2022-11-22T13:15:51.783Z"
   },
   {
    "duration": 190,
    "start_time": "2022-11-22T13:16:00.360Z"
   },
   {
    "duration": 266,
    "start_time": "2022-11-22T13:16:22.301Z"
   },
   {
    "duration": 5,
    "start_time": "2022-11-22T13:16:31.334Z"
   },
   {
    "duration": 181,
    "start_time": "2022-11-22T13:17:28.190Z"
   },
   {
    "duration": 6,
    "start_time": "2022-11-22T13:17:30.686Z"
   },
   {
    "duration": 208,
    "start_time": "2022-11-22T13:18:08.206Z"
   },
   {
    "duration": 5,
    "start_time": "2022-11-22T13:18:11.726Z"
   },
   {
    "duration": 307,
    "start_time": "2022-11-22T13:19:21.599Z"
   },
   {
    "duration": 193,
    "start_time": "2022-11-22T13:19:32.581Z"
   },
   {
    "duration": 285,
    "start_time": "2022-11-22T13:19:38.988Z"
   },
   {
    "duration": 187,
    "start_time": "2022-11-22T13:19:42.869Z"
   },
   {
    "duration": 392,
    "start_time": "2022-11-22T13:20:49.343Z"
   },
   {
    "duration": 126,
    "start_time": "2022-11-22T13:20:49.737Z"
   },
   {
    "duration": 15,
    "start_time": "2022-11-22T13:20:49.864Z"
   },
   {
    "duration": 2264,
    "start_time": "2022-11-22T13:20:49.881Z"
   },
   {
    "duration": 5,
    "start_time": "2022-11-22T13:20:52.147Z"
   },
   {
    "duration": 9,
    "start_time": "2022-11-22T13:20:52.153Z"
   },
   {
    "duration": 8,
    "start_time": "2022-11-22T13:20:52.164Z"
   },
   {
    "duration": 7,
    "start_time": "2022-11-22T13:20:52.174Z"
   },
   {
    "duration": 25,
    "start_time": "2022-11-22T13:20:52.183Z"
   },
   {
    "duration": 3,
    "start_time": "2022-11-22T13:20:52.211Z"
   },
   {
    "duration": 10,
    "start_time": "2022-11-22T13:20:52.216Z"
   },
   {
    "duration": 6,
    "start_time": "2022-11-22T13:20:52.227Z"
   },
   {
    "duration": 5,
    "start_time": "2022-11-22T13:20:52.234Z"
   },
   {
    "duration": 8,
    "start_time": "2022-11-22T13:20:52.241Z"
   },
   {
    "duration": 99,
    "start_time": "2022-11-22T13:20:52.250Z"
   },
   {
    "duration": 8,
    "start_time": "2022-11-22T13:20:52.351Z"
   },
   {
    "duration": 18,
    "start_time": "2022-11-22T13:20:52.360Z"
   },
   {
    "duration": 30,
    "start_time": "2022-11-22T13:20:52.379Z"
   },
   {
    "duration": 6,
    "start_time": "2022-11-22T13:20:52.411Z"
   },
   {
    "duration": 239,
    "start_time": "2022-11-22T13:20:52.419Z"
   },
   {
    "duration": 6,
    "start_time": "2022-11-22T13:20:52.660Z"
   },
   {
    "duration": 41,
    "start_time": "2022-11-22T13:20:52.668Z"
   },
   {
    "duration": 39,
    "start_time": "2022-11-22T13:20:52.711Z"
   },
   {
    "duration": 9,
    "start_time": "2022-11-22T13:20:52.752Z"
   },
   {
    "duration": 7,
    "start_time": "2022-11-22T13:20:52.763Z"
   },
   {
    "duration": 34,
    "start_time": "2022-11-22T13:20:52.772Z"
   },
   {
    "duration": 13,
    "start_time": "2022-11-22T13:20:52.808Z"
   },
   {
    "duration": 7,
    "start_time": "2022-11-22T13:20:52.825Z"
   },
   {
    "duration": 9,
    "start_time": "2022-11-22T13:20:52.833Z"
   },
   {
    "duration": 361,
    "start_time": "2022-11-22T13:20:52.843Z"
   },
   {
    "duration": 6,
    "start_time": "2022-11-22T13:20:53.205Z"
   },
   {
    "duration": 161,
    "start_time": "2022-11-22T13:20:53.212Z"
   },
   {
    "duration": 157,
    "start_time": "2022-11-22T13:20:53.375Z"
   },
   {
    "duration": 178,
    "start_time": "2022-11-22T13:20:53.534Z"
   },
   {
    "duration": 300,
    "start_time": "2022-11-22T13:20:53.713Z"
   },
   {
    "duration": 178,
    "start_time": "2022-11-22T13:20:54.015Z"
   },
   {
    "duration": 166,
    "start_time": "2022-11-22T13:20:54.197Z"
   },
   {
    "duration": 160,
    "start_time": "2022-11-22T13:20:54.366Z"
   },
   {
    "duration": 117,
    "start_time": "2022-11-22T13:20:54.528Z"
   },
   {
    "duration": 131,
    "start_time": "2022-11-22T13:20:54.647Z"
   },
   {
    "duration": 175,
    "start_time": "2022-11-22T13:20:54.779Z"
   },
   {
    "duration": 170,
    "start_time": "2022-11-22T13:20:54.958Z"
   },
   {
    "duration": 179,
    "start_time": "2022-11-22T13:20:55.129Z"
   },
   {
    "duration": 119,
    "start_time": "2022-11-22T13:20:55.310Z"
   },
   {
    "duration": 140,
    "start_time": "2022-11-22T13:20:55.430Z"
   },
   {
    "duration": 61,
    "start_time": "2022-11-22T13:20:55.571Z"
   },
   {
    "duration": 0,
    "start_time": "2022-11-22T13:20:55.633Z"
   },
   {
    "duration": 0,
    "start_time": "2022-11-22T13:20:55.634Z"
   },
   {
    "duration": 0,
    "start_time": "2022-11-22T13:20:55.636Z"
   },
   {
    "duration": 0,
    "start_time": "2022-11-22T13:20:55.637Z"
   },
   {
    "duration": 0,
    "start_time": "2022-11-22T13:20:55.638Z"
   },
   {
    "duration": 0,
    "start_time": "2022-11-22T13:20:55.639Z"
   },
   {
    "duration": 0,
    "start_time": "2022-11-22T13:20:55.640Z"
   },
   {
    "duration": 0,
    "start_time": "2022-11-22T13:20:55.641Z"
   },
   {
    "duration": 0,
    "start_time": "2022-11-22T13:20:55.642Z"
   },
   {
    "duration": 0,
    "start_time": "2022-11-22T13:20:55.643Z"
   },
   {
    "duration": 0,
    "start_time": "2022-11-22T13:20:55.644Z"
   },
   {
    "duration": 0,
    "start_time": "2022-11-22T13:20:55.645Z"
   },
   {
    "duration": 396,
    "start_time": "2022-11-22T13:21:20.329Z"
   },
   {
    "duration": 127,
    "start_time": "2022-11-22T13:21:20.727Z"
   },
   {
    "duration": 15,
    "start_time": "2022-11-22T13:21:20.856Z"
   },
   {
    "duration": 2297,
    "start_time": "2022-11-22T13:21:20.873Z"
   },
   {
    "duration": 4,
    "start_time": "2022-11-22T13:21:23.172Z"
   },
   {
    "duration": 10,
    "start_time": "2022-11-22T13:21:23.178Z"
   },
   {
    "duration": 29,
    "start_time": "2022-11-22T13:21:23.190Z"
   },
   {
    "duration": 7,
    "start_time": "2022-11-22T13:21:23.221Z"
   },
   {
    "duration": 9,
    "start_time": "2022-11-22T13:21:23.229Z"
   },
   {
    "duration": 5,
    "start_time": "2022-11-22T13:21:23.241Z"
   },
   {
    "duration": 12,
    "start_time": "2022-11-22T13:21:23.248Z"
   },
   {
    "duration": 6,
    "start_time": "2022-11-22T13:21:23.262Z"
   },
   {
    "duration": 10,
    "start_time": "2022-11-22T13:21:23.269Z"
   },
   {
    "duration": 30,
    "start_time": "2022-11-22T13:21:23.280Z"
   },
   {
    "duration": 107,
    "start_time": "2022-11-22T13:21:23.312Z"
   },
   {
    "duration": 8,
    "start_time": "2022-11-22T13:21:23.421Z"
   },
   {
    "duration": 18,
    "start_time": "2022-11-22T13:21:23.431Z"
   },
   {
    "duration": 7,
    "start_time": "2022-11-22T13:21:23.451Z"
   },
   {
    "duration": 8,
    "start_time": "2022-11-22T13:21:23.459Z"
   },
   {
    "duration": 283,
    "start_time": "2022-11-22T13:21:23.469Z"
   },
   {
    "duration": 7,
    "start_time": "2022-11-22T13:21:23.754Z"
   },
   {
    "duration": 45,
    "start_time": "2022-11-22T13:21:23.762Z"
   },
   {
    "duration": 38,
    "start_time": "2022-11-22T13:21:23.810Z"
   },
   {
    "duration": 9,
    "start_time": "2022-11-22T13:21:23.851Z"
   },
   {
    "duration": 7,
    "start_time": "2022-11-22T13:21:23.861Z"
   },
   {
    "duration": 10,
    "start_time": "2022-11-22T13:21:23.870Z"
   },
   {
    "duration": 29,
    "start_time": "2022-11-22T13:21:23.896Z"
   },
   {
    "duration": 9,
    "start_time": "2022-11-22T13:21:23.930Z"
   },
   {
    "duration": 6,
    "start_time": "2022-11-22T13:21:23.941Z"
   },
   {
    "duration": 377,
    "start_time": "2022-11-22T13:21:23.949Z"
   },
   {
    "duration": 5,
    "start_time": "2022-11-22T13:21:24.328Z"
   },
   {
    "duration": 180,
    "start_time": "2022-11-22T13:21:24.334Z"
   },
   {
    "duration": 164,
    "start_time": "2022-11-22T13:21:24.516Z"
   },
   {
    "duration": 183,
    "start_time": "2022-11-22T13:21:24.682Z"
   },
   {
    "duration": 309,
    "start_time": "2022-11-22T13:21:24.866Z"
   },
   {
    "duration": 166,
    "start_time": "2022-11-22T13:21:25.177Z"
   },
   {
    "duration": 170,
    "start_time": "2022-11-22T13:21:25.344Z"
   },
   {
    "duration": 147,
    "start_time": "2022-11-22T13:21:25.516Z"
   },
   {
    "duration": 120,
    "start_time": "2022-11-22T13:21:25.665Z"
   },
   {
    "duration": 146,
    "start_time": "2022-11-22T13:21:25.786Z"
   },
   {
    "duration": 179,
    "start_time": "2022-11-22T13:21:25.934Z"
   },
   {
    "duration": 175,
    "start_time": "2022-11-22T13:21:26.116Z"
   },
   {
    "duration": 203,
    "start_time": "2022-11-22T13:21:26.296Z"
   },
   {
    "duration": 155,
    "start_time": "2022-11-22T13:21:26.501Z"
   },
   {
    "duration": 146,
    "start_time": "2022-11-22T13:21:26.658Z"
   },
   {
    "duration": 218,
    "start_time": "2022-11-22T13:21:26.806Z"
   },
   {
    "duration": 5,
    "start_time": "2022-11-22T13:21:27.025Z"
   },
   {
    "duration": 6,
    "start_time": "2022-11-22T13:21:27.032Z"
   },
   {
    "duration": 207,
    "start_time": "2022-11-22T13:21:27.039Z"
   },
   {
    "duration": 6,
    "start_time": "2022-11-22T13:21:27.248Z"
   },
   {
    "duration": 216,
    "start_time": "2022-11-22T13:21:27.256Z"
   },
   {
    "duration": 7,
    "start_time": "2022-11-22T13:21:27.474Z"
   },
   {
    "duration": 207,
    "start_time": "2022-11-22T13:21:27.483Z"
   },
   {
    "duration": 18,
    "start_time": "2022-11-22T13:21:27.691Z"
   },
   {
    "duration": 214,
    "start_time": "2022-11-22T13:21:27.711Z"
   },
   {
    "duration": 5,
    "start_time": "2022-11-22T13:21:27.927Z"
   },
   {
    "duration": 94,
    "start_time": "2022-11-22T13:21:27.934Z"
   },
   {
    "duration": 184,
    "start_time": "2022-11-22T13:22:37.564Z"
   },
   {
    "duration": 183,
    "start_time": "2022-11-22T13:22:44.893Z"
   },
   {
    "duration": 431,
    "start_time": "2022-11-22T13:22:56.292Z"
   },
   {
    "duration": 318,
    "start_time": "2022-11-22T13:23:03.716Z"
   },
   {
    "duration": 17,
    "start_time": "2022-11-22T13:24:25.908Z"
   },
   {
    "duration": 191,
    "start_time": "2022-11-22T13:24:31.528Z"
   },
   {
    "duration": 4,
    "start_time": "2022-11-22T13:25:46.587Z"
   },
   {
    "duration": 23,
    "start_time": "2022-11-22T13:26:12.364Z"
   },
   {
    "duration": 30,
    "start_time": "2022-11-22T13:27:03.629Z"
   },
   {
    "duration": 8,
    "start_time": "2022-11-22T13:28:05.606Z"
   },
   {
    "duration": 12,
    "start_time": "2022-11-22T13:28:09.714Z"
   },
   {
    "duration": 12,
    "start_time": "2022-11-22T13:28:25.489Z"
   },
   {
    "duration": 44,
    "start_time": "2022-11-22T13:28:36.289Z"
   },
   {
    "duration": 932,
    "start_time": "2022-11-22T13:36:13.010Z"
   },
   {
    "duration": 45,
    "start_time": "2022-11-22T13:46:47.738Z"
   },
   {
    "duration": 56,
    "start_time": "2022-11-22T13:47:04.178Z"
   },
   {
    "duration": 388,
    "start_time": "2022-11-22T13:47:08.735Z"
   },
   {
    "duration": 127,
    "start_time": "2022-11-22T13:47:09.125Z"
   },
   {
    "duration": 16,
    "start_time": "2022-11-22T13:47:09.253Z"
   },
   {
    "duration": 2315,
    "start_time": "2022-11-22T13:47:09.271Z"
   },
   {
    "duration": 4,
    "start_time": "2022-11-22T13:47:11.587Z"
   },
   {
    "duration": 36,
    "start_time": "2022-11-22T13:47:11.592Z"
   },
   {
    "duration": 37,
    "start_time": "2022-11-22T13:47:11.630Z"
   },
   {
    "duration": 50,
    "start_time": "2022-11-22T13:47:11.669Z"
   },
   {
    "duration": 26,
    "start_time": "2022-11-22T13:47:11.721Z"
   },
   {
    "duration": 31,
    "start_time": "2022-11-22T13:47:11.750Z"
   },
   {
    "duration": 45,
    "start_time": "2022-11-22T13:47:11.782Z"
   },
   {
    "duration": 33,
    "start_time": "2022-11-22T13:47:11.829Z"
   },
   {
    "duration": 50,
    "start_time": "2022-11-22T13:47:11.864Z"
   },
   {
    "duration": 25,
    "start_time": "2022-11-22T13:47:11.916Z"
   },
   {
    "duration": 116,
    "start_time": "2022-11-22T13:47:11.943Z"
   },
   {
    "duration": 9,
    "start_time": "2022-11-22T13:47:12.060Z"
   },
   {
    "duration": 40,
    "start_time": "2022-11-22T13:47:12.070Z"
   },
   {
    "duration": 17,
    "start_time": "2022-11-22T13:47:12.111Z"
   },
   {
    "duration": 19,
    "start_time": "2022-11-22T13:47:12.130Z"
   },
   {
    "duration": 269,
    "start_time": "2022-11-22T13:47:12.150Z"
   },
   {
    "duration": 6,
    "start_time": "2022-11-22T13:47:12.420Z"
   },
   {
    "duration": 47,
    "start_time": "2022-11-22T13:47:12.428Z"
   },
   {
    "duration": 47,
    "start_time": "2022-11-22T13:47:12.476Z"
   },
   {
    "duration": 14,
    "start_time": "2022-11-22T13:47:12.524Z"
   },
   {
    "duration": 46,
    "start_time": "2022-11-22T13:47:12.540Z"
   },
   {
    "duration": 37,
    "start_time": "2022-11-22T13:47:12.587Z"
   },
   {
    "duration": 31,
    "start_time": "2022-11-22T13:47:12.626Z"
   },
   {
    "duration": 31,
    "start_time": "2022-11-22T13:47:12.662Z"
   },
   {
    "duration": 52,
    "start_time": "2022-11-22T13:47:12.695Z"
   },
   {
    "duration": 397,
    "start_time": "2022-11-22T13:47:12.749Z"
   },
   {
    "duration": 5,
    "start_time": "2022-11-22T13:47:13.148Z"
   },
   {
    "duration": 200,
    "start_time": "2022-11-22T13:47:13.154Z"
   },
   {
    "duration": 143,
    "start_time": "2022-11-22T13:47:13.355Z"
   },
   {
    "duration": 163,
    "start_time": "2022-11-22T13:47:13.499Z"
   },
   {
    "duration": 276,
    "start_time": "2022-11-22T13:47:13.663Z"
   },
   {
    "duration": 136,
    "start_time": "2022-11-22T13:47:13.940Z"
   },
   {
    "duration": 169,
    "start_time": "2022-11-22T13:47:14.078Z"
   },
   {
    "duration": 166,
    "start_time": "2022-11-22T13:47:14.249Z"
   },
   {
    "duration": 119,
    "start_time": "2022-11-22T13:47:14.417Z"
   },
   {
    "duration": 130,
    "start_time": "2022-11-22T13:47:14.537Z"
   },
   {
    "duration": 167,
    "start_time": "2022-11-22T13:47:14.669Z"
   },
   {
    "duration": 175,
    "start_time": "2022-11-22T13:47:14.838Z"
   },
   {
    "duration": 164,
    "start_time": "2022-11-22T13:47:15.015Z"
   },
   {
    "duration": 139,
    "start_time": "2022-11-22T13:47:15.181Z"
   },
   {
    "duration": 134,
    "start_time": "2022-11-22T13:47:15.321Z"
   },
   {
    "duration": 221,
    "start_time": "2022-11-22T13:47:15.457Z"
   },
   {
    "duration": 5,
    "start_time": "2022-11-22T13:47:15.679Z"
   },
   {
    "duration": 31,
    "start_time": "2022-11-22T13:47:15.685Z"
   },
   {
    "duration": 190,
    "start_time": "2022-11-22T13:47:15.718Z"
   },
   {
    "duration": 6,
    "start_time": "2022-11-22T13:47:15.910Z"
   },
   {
    "duration": 226,
    "start_time": "2022-11-22T13:47:15.918Z"
   },
   {
    "duration": 5,
    "start_time": "2022-11-22T13:47:16.146Z"
   },
   {
    "duration": 212,
    "start_time": "2022-11-22T13:47:16.152Z"
   },
   {
    "duration": 8,
    "start_time": "2022-11-22T13:47:16.366Z"
   },
   {
    "duration": 252,
    "start_time": "2022-11-22T13:47:16.376Z"
   },
   {
    "duration": 6,
    "start_time": "2022-11-22T13:47:16.630Z"
   },
   {
    "duration": 47,
    "start_time": "2022-11-22T13:47:16.637Z"
   },
   {
    "duration": 0,
    "start_time": "2022-11-22T13:47:16.685Z"
   },
   {
    "duration": 0,
    "start_time": "2022-11-22T13:47:16.687Z"
   },
   {
    "duration": 0,
    "start_time": "2022-11-22T13:47:16.688Z"
   },
   {
    "duration": 817,
    "start_time": "2022-11-22T13:47:27.169Z"
   },
   {
    "duration": 12,
    "start_time": "2022-11-22T13:47:48.426Z"
   },
   {
    "duration": 13,
    "start_time": "2022-11-22T13:48:21.480Z"
   },
   {
    "duration": 11,
    "start_time": "2022-11-22T13:48:59.841Z"
   },
   {
    "duration": 7,
    "start_time": "2022-11-22T13:49:13.073Z"
   },
   {
    "duration": 25,
    "start_time": "2022-11-22T13:49:35.786Z"
   },
   {
    "duration": 14,
    "start_time": "2022-11-22T13:49:38.411Z"
   },
   {
    "duration": 436,
    "start_time": "2022-11-22T13:49:48.472Z"
   },
   {
    "duration": 123,
    "start_time": "2022-11-22T13:49:48.911Z"
   },
   {
    "duration": 14,
    "start_time": "2022-11-22T13:49:49.036Z"
   },
   {
    "duration": 2357,
    "start_time": "2022-11-22T13:49:49.052Z"
   },
   {
    "duration": 5,
    "start_time": "2022-11-22T13:49:51.410Z"
   },
   {
    "duration": 20,
    "start_time": "2022-11-22T13:49:51.416Z"
   },
   {
    "duration": 18,
    "start_time": "2022-11-22T13:49:51.437Z"
   },
   {
    "duration": 7,
    "start_time": "2022-11-22T13:49:51.456Z"
   },
   {
    "duration": 12,
    "start_time": "2022-11-22T13:49:51.464Z"
   },
   {
    "duration": 11,
    "start_time": "2022-11-22T13:49:51.478Z"
   },
   {
    "duration": 44,
    "start_time": "2022-11-22T13:49:51.490Z"
   },
   {
    "duration": 22,
    "start_time": "2022-11-22T13:49:51.536Z"
   },
   {
    "duration": 5,
    "start_time": "2022-11-22T13:49:51.560Z"
   },
   {
    "duration": 11,
    "start_time": "2022-11-22T13:49:51.567Z"
   },
   {
    "duration": 88,
    "start_time": "2022-11-22T13:49:51.580Z"
   },
   {
    "duration": 7,
    "start_time": "2022-11-22T13:49:51.670Z"
   },
   {
    "duration": 30,
    "start_time": "2022-11-22T13:49:51.679Z"
   },
   {
    "duration": 8,
    "start_time": "2022-11-22T13:49:51.711Z"
   },
   {
    "duration": 7,
    "start_time": "2022-11-22T13:49:51.720Z"
   },
   {
    "duration": 248,
    "start_time": "2022-11-22T13:49:51.729Z"
   },
   {
    "duration": 6,
    "start_time": "2022-11-22T13:49:51.978Z"
   },
   {
    "duration": 28,
    "start_time": "2022-11-22T13:49:52.005Z"
   },
   {
    "duration": 36,
    "start_time": "2022-11-22T13:49:52.035Z"
   },
   {
    "duration": 8,
    "start_time": "2022-11-22T13:49:52.073Z"
   },
   {
    "duration": 27,
    "start_time": "2022-11-22T13:49:52.082Z"
   },
   {
    "duration": 17,
    "start_time": "2022-11-22T13:49:52.110Z"
   },
   {
    "duration": 23,
    "start_time": "2022-11-22T13:49:52.128Z"
   },
   {
    "duration": 14,
    "start_time": "2022-11-22T13:49:52.155Z"
   },
   {
    "duration": 23,
    "start_time": "2022-11-22T13:49:52.170Z"
   },
   {
    "duration": 353,
    "start_time": "2022-11-22T13:49:52.195Z"
   },
   {
    "duration": 3,
    "start_time": "2022-11-22T13:49:52.550Z"
   },
   {
    "duration": 161,
    "start_time": "2022-11-22T13:49:52.555Z"
   },
   {
    "duration": 154,
    "start_time": "2022-11-22T13:49:52.717Z"
   },
   {
    "duration": 178,
    "start_time": "2022-11-22T13:49:52.873Z"
   },
   {
    "duration": 279,
    "start_time": "2022-11-22T13:49:53.053Z"
   },
   {
    "duration": 145,
    "start_time": "2022-11-22T13:49:53.333Z"
   },
   {
    "duration": 167,
    "start_time": "2022-11-22T13:49:53.480Z"
   },
   {
    "duration": 160,
    "start_time": "2022-11-22T13:49:53.649Z"
   },
   {
    "duration": 125,
    "start_time": "2022-11-22T13:49:53.811Z"
   },
   {
    "duration": 142,
    "start_time": "2022-11-22T13:49:53.938Z"
   },
   {
    "duration": 170,
    "start_time": "2022-11-22T13:49:54.082Z"
   },
   {
    "duration": 172,
    "start_time": "2022-11-22T13:49:54.253Z"
   },
   {
    "duration": 150,
    "start_time": "2022-11-22T13:49:54.426Z"
   },
   {
    "duration": 139,
    "start_time": "2022-11-22T13:49:54.578Z"
   },
   {
    "duration": 137,
    "start_time": "2022-11-22T13:49:54.718Z"
   },
   {
    "duration": 261,
    "start_time": "2022-11-22T13:49:54.857Z"
   },
   {
    "duration": 6,
    "start_time": "2022-11-22T13:49:55.121Z"
   },
   {
    "duration": 21,
    "start_time": "2022-11-22T13:49:55.129Z"
   },
   {
    "duration": 216,
    "start_time": "2022-11-22T13:49:55.152Z"
   },
   {
    "duration": 5,
    "start_time": "2022-11-22T13:49:55.370Z"
   },
   {
    "duration": 236,
    "start_time": "2022-11-22T13:49:55.377Z"
   },
   {
    "duration": 5,
    "start_time": "2022-11-22T13:49:55.614Z"
   },
   {
    "duration": 202,
    "start_time": "2022-11-22T13:49:55.621Z"
   },
   {
    "duration": 5,
    "start_time": "2022-11-22T13:49:55.825Z"
   },
   {
    "duration": 228,
    "start_time": "2022-11-22T13:49:55.832Z"
   },
   {
    "duration": 6,
    "start_time": "2022-11-22T13:49:56.062Z"
   },
   {
    "duration": 118,
    "start_time": "2022-11-22T13:49:56.070Z"
   },
   {
    "duration": 0,
    "start_time": "2022-11-22T13:49:56.190Z"
   },
   {
    "duration": 0,
    "start_time": "2022-11-22T13:49:56.191Z"
   },
   {
    "duration": 0,
    "start_time": "2022-11-22T13:49:56.200Z"
   },
   {
    "duration": 52,
    "start_time": "2022-11-22T13:50:17.280Z"
   },
   {
    "duration": 136,
    "start_time": "2022-11-22T13:50:35.301Z"
   },
   {
    "duration": 56,
    "start_time": "2022-11-22T13:51:12.403Z"
   },
   {
    "duration": 214,
    "start_time": "2022-11-22T13:51:15.743Z"
   },
   {
    "duration": 5,
    "start_time": "2022-11-22T13:51:27.648Z"
   },
   {
    "duration": 18,
    "start_time": "2022-11-22T13:51:40.575Z"
   },
   {
    "duration": 76,
    "start_time": "2022-11-22T13:52:13.342Z"
   },
   {
    "duration": 198,
    "start_time": "2022-11-22T13:52:42.087Z"
   },
   {
    "duration": 5,
    "start_time": "2022-11-22T13:52:44.969Z"
   },
   {
    "duration": 218,
    "start_time": "2022-11-22T13:53:15.809Z"
   },
   {
    "duration": 5,
    "start_time": "2022-11-22T13:53:18.151Z"
   },
   {
    "duration": 8,
    "start_time": "2022-11-22T13:53:37.337Z"
   },
   {
    "duration": 188,
    "start_time": "2022-11-22T13:53:43.591Z"
   },
   {
    "duration": 6,
    "start_time": "2022-11-22T13:53:46.350Z"
   },
   {
    "duration": 26,
    "start_time": "2022-11-22T14:14:22.053Z"
   },
   {
    "duration": 19,
    "start_time": "2022-11-22T14:14:50.702Z"
   },
   {
    "duration": 26,
    "start_time": "2022-11-22T14:15:10.397Z"
   },
   {
    "duration": 7,
    "start_time": "2022-11-22T14:16:53.486Z"
   },
   {
    "duration": 25,
    "start_time": "2022-11-22T14:17:00.637Z"
   },
   {
    "duration": 31,
    "start_time": "2022-11-22T14:17:38.309Z"
   },
   {
    "duration": 27,
    "start_time": "2022-11-22T14:17:47.911Z"
   },
   {
    "duration": 30,
    "start_time": "2022-11-22T14:18:13.206Z"
   },
   {
    "duration": 27,
    "start_time": "2022-11-22T14:24:28.211Z"
   },
   {
    "duration": 25,
    "start_time": "2022-11-22T14:25:32.632Z"
   },
   {
    "duration": 30,
    "start_time": "2022-11-22T14:25:56.880Z"
   },
   {
    "duration": 30,
    "start_time": "2022-11-22T14:26:13.783Z"
   },
   {
    "duration": 23,
    "start_time": "2022-11-22T14:27:12.137Z"
   },
   {
    "duration": 5,
    "start_time": "2022-11-22T14:28:28.631Z"
   },
   {
    "duration": 4,
    "start_time": "2022-11-22T14:28:55.622Z"
   },
   {
    "duration": 25,
    "start_time": "2022-11-22T14:29:12.758Z"
   },
   {
    "duration": 5,
    "start_time": "2022-11-22T14:29:15.342Z"
   },
   {
    "duration": 4,
    "start_time": "2022-11-22T14:29:18.383Z"
   },
   {
    "duration": 1184,
    "start_time": "2022-11-22T14:29:52.678Z"
   },
   {
    "duration": 11,
    "start_time": "2022-11-22T14:30:12.209Z"
   },
   {
    "duration": 8,
    "start_time": "2022-11-22T14:30:21.534Z"
   },
   {
    "duration": 30,
    "start_time": "2022-11-22T14:34:44.228Z"
   },
   {
    "duration": 8,
    "start_time": "2022-11-22T14:35:06.363Z"
   },
   {
    "duration": 42,
    "start_time": "2022-11-22T14:35:12.123Z"
   },
   {
    "duration": 15,
    "start_time": "2022-11-22T14:36:49.645Z"
   },
   {
    "duration": 29,
    "start_time": "2022-11-22T14:37:21.490Z"
   },
   {
    "duration": 76,
    "start_time": "2022-11-22T15:03:30.433Z"
   },
   {
    "duration": 661,
    "start_time": "2022-11-22T15:22:01.884Z"
   },
   {
    "duration": 261,
    "start_time": "2022-11-22T15:22:02.547Z"
   },
   {
    "duration": 15,
    "start_time": "2022-11-22T15:22:02.810Z"
   },
   {
    "duration": 4727,
    "start_time": "2022-11-22T15:22:02.827Z"
   },
   {
    "duration": 5,
    "start_time": "2022-11-22T15:22:07.555Z"
   },
   {
    "duration": 6,
    "start_time": "2022-11-22T15:22:07.605Z"
   },
   {
    "duration": 10,
    "start_time": "2022-11-22T15:22:07.613Z"
   },
   {
    "duration": 13,
    "start_time": "2022-11-22T15:22:07.625Z"
   },
   {
    "duration": 65,
    "start_time": "2022-11-22T15:22:07.640Z"
   },
   {
    "duration": 3,
    "start_time": "2022-11-22T15:22:07.708Z"
   },
   {
    "duration": 12,
    "start_time": "2022-11-22T15:22:07.712Z"
   },
   {
    "duration": 10,
    "start_time": "2022-11-22T15:22:07.726Z"
   },
   {
    "duration": 68,
    "start_time": "2022-11-22T15:22:07.738Z"
   },
   {
    "duration": 22,
    "start_time": "2022-11-22T15:22:07.808Z"
   },
   {
    "duration": 294,
    "start_time": "2022-11-22T15:22:07.832Z"
   },
   {
    "duration": 10,
    "start_time": "2022-11-22T15:22:08.127Z"
   },
   {
    "duration": 76,
    "start_time": "2022-11-22T15:22:08.140Z"
   },
   {
    "duration": 9,
    "start_time": "2022-11-22T15:22:08.218Z"
   },
   {
    "duration": 6,
    "start_time": "2022-11-22T15:22:08.229Z"
   },
   {
    "duration": 511,
    "start_time": "2022-11-22T15:22:08.236Z"
   },
   {
    "duration": 6,
    "start_time": "2022-11-22T15:22:08.805Z"
   },
   {
    "duration": 30,
    "start_time": "2022-11-22T15:22:08.813Z"
   },
   {
    "duration": 91,
    "start_time": "2022-11-22T15:22:08.844Z"
   },
   {
    "duration": 8,
    "start_time": "2022-11-22T15:22:08.936Z"
   },
   {
    "duration": 7,
    "start_time": "2022-11-22T15:22:09.005Z"
   },
   {
    "duration": 9,
    "start_time": "2022-11-22T15:22:09.014Z"
   },
   {
    "duration": 25,
    "start_time": "2022-11-22T15:22:09.025Z"
   },
   {
    "duration": 55,
    "start_time": "2022-11-22T15:22:09.054Z"
   },
   {
    "duration": 22,
    "start_time": "2022-11-22T15:22:09.111Z"
   },
   {
    "duration": 684,
    "start_time": "2022-11-22T15:22:09.135Z"
   },
   {
    "duration": 4,
    "start_time": "2022-11-22T15:22:09.821Z"
   },
   {
    "duration": 304,
    "start_time": "2022-11-22T15:22:09.826Z"
   },
   {
    "duration": 311,
    "start_time": "2022-11-22T15:22:10.133Z"
   },
   {
    "duration": 365,
    "start_time": "2022-11-22T15:22:10.446Z"
   },
   {
    "duration": 514,
    "start_time": "2022-11-22T15:22:10.812Z"
   },
   {
    "duration": 290,
    "start_time": "2022-11-22T15:22:11.327Z"
   },
   {
    "duration": 326,
    "start_time": "2022-11-22T15:22:11.619Z"
   },
   {
    "duration": 296,
    "start_time": "2022-11-22T15:22:11.946Z"
   },
   {
    "duration": 265,
    "start_time": "2022-11-22T15:22:12.244Z"
   },
   {
    "duration": 233,
    "start_time": "2022-11-22T15:22:12.511Z"
   },
   {
    "duration": 393,
    "start_time": "2022-11-22T15:22:12.746Z"
   },
   {
    "duration": 302,
    "start_time": "2022-11-22T15:22:13.140Z"
   },
   {
    "duration": 375,
    "start_time": "2022-11-22T15:22:13.444Z"
   },
   {
    "duration": 223,
    "start_time": "2022-11-22T15:22:13.820Z"
   },
   {
    "duration": 294,
    "start_time": "2022-11-22T15:22:14.045Z"
   },
   {
    "duration": 489,
    "start_time": "2022-11-22T15:22:14.341Z"
   },
   {
    "duration": 4,
    "start_time": "2022-11-22T15:22:14.832Z"
   },
   {
    "duration": 8,
    "start_time": "2022-11-22T15:22:14.837Z"
   },
   {
    "duration": 407,
    "start_time": "2022-11-22T15:22:14.905Z"
   },
   {
    "duration": 5,
    "start_time": "2022-11-22T15:22:15.314Z"
   },
   {
    "duration": 387,
    "start_time": "2022-11-22T15:22:15.320Z"
   },
   {
    "duration": 5,
    "start_time": "2022-11-22T15:22:15.709Z"
   },
   {
    "duration": 325,
    "start_time": "2022-11-22T15:22:15.716Z"
   },
   {
    "duration": 63,
    "start_time": "2022-11-22T15:22:16.042Z"
   },
   {
    "duration": 337,
    "start_time": "2022-11-22T15:22:16.107Z"
   },
   {
    "duration": 62,
    "start_time": "2022-11-22T15:22:16.445Z"
   },
   {
    "duration": 21,
    "start_time": "2022-11-22T15:22:16.509Z"
   },
   {
    "duration": 390,
    "start_time": "2022-11-22T15:22:16.532Z"
   },
   {
    "duration": 6,
    "start_time": "2022-11-22T15:22:16.924Z"
   },
   {
    "duration": 394,
    "start_time": "2022-11-22T15:22:16.932Z"
   },
   {
    "duration": 7,
    "start_time": "2022-11-22T15:22:17.328Z"
   },
   {
    "duration": 80,
    "start_time": "2022-11-22T15:22:17.336Z"
   },
   {
    "duration": 0,
    "start_time": "2022-11-22T15:22:17.417Z"
   },
   {
    "duration": 0,
    "start_time": "2022-11-22T15:22:17.418Z"
   },
   {
    "duration": 0,
    "start_time": "2022-11-22T15:22:17.419Z"
   },
   {
    "duration": 0,
    "start_time": "2022-11-22T15:22:17.420Z"
   },
   {
    "duration": 0,
    "start_time": "2022-11-22T15:22:17.421Z"
   },
   {
    "duration": 0,
    "start_time": "2022-11-22T15:22:17.422Z"
   },
   {
    "duration": 0,
    "start_time": "2022-11-22T15:22:17.423Z"
   },
   {
    "duration": 0,
    "start_time": "2022-11-22T15:22:17.424Z"
   },
   {
    "duration": 378,
    "start_time": "2022-11-22T15:35:52.356Z"
   },
   {
    "duration": 126,
    "start_time": "2022-11-22T15:35:52.736Z"
   },
   {
    "duration": 15,
    "start_time": "2022-11-22T15:35:52.863Z"
   },
   {
    "duration": 2213,
    "start_time": "2022-11-22T15:35:52.880Z"
   },
   {
    "duration": 4,
    "start_time": "2022-11-22T15:35:55.095Z"
   },
   {
    "duration": 8,
    "start_time": "2022-11-22T15:35:55.101Z"
   },
   {
    "duration": 12,
    "start_time": "2022-11-22T15:35:55.110Z"
   },
   {
    "duration": 7,
    "start_time": "2022-11-22T15:35:55.124Z"
   },
   {
    "duration": 6,
    "start_time": "2022-11-22T15:35:55.133Z"
   },
   {
    "duration": 4,
    "start_time": "2022-11-22T15:35:55.143Z"
   },
   {
    "duration": 48,
    "start_time": "2022-11-22T15:35:55.149Z"
   },
   {
    "duration": 7,
    "start_time": "2022-11-22T15:35:55.199Z"
   },
   {
    "duration": 5,
    "start_time": "2022-11-22T15:35:55.208Z"
   },
   {
    "duration": 11,
    "start_time": "2022-11-22T15:35:55.215Z"
   },
   {
    "duration": 109,
    "start_time": "2022-11-22T15:35:55.228Z"
   },
   {
    "duration": 8,
    "start_time": "2022-11-22T15:35:55.339Z"
   },
   {
    "duration": 13,
    "start_time": "2022-11-22T15:35:55.348Z"
   },
   {
    "duration": 8,
    "start_time": "2022-11-22T15:35:55.363Z"
   },
   {
    "duration": 27,
    "start_time": "2022-11-22T15:35:55.373Z"
   },
   {
    "duration": 224,
    "start_time": "2022-11-22T15:35:55.401Z"
   },
   {
    "duration": 6,
    "start_time": "2022-11-22T15:35:55.627Z"
   },
   {
    "duration": 27,
    "start_time": "2022-11-22T15:35:55.634Z"
   },
   {
    "duration": 51,
    "start_time": "2022-11-22T15:35:55.663Z"
   },
   {
    "duration": 8,
    "start_time": "2022-11-22T15:35:55.715Z"
   },
   {
    "duration": 9,
    "start_time": "2022-11-22T15:35:55.724Z"
   },
   {
    "duration": 7,
    "start_time": "2022-11-22T15:35:55.734Z"
   },
   {
    "duration": 14,
    "start_time": "2022-11-22T15:35:55.742Z"
   },
   {
    "duration": 5,
    "start_time": "2022-11-22T15:35:55.761Z"
   },
   {
    "duration": 31,
    "start_time": "2022-11-22T15:35:55.768Z"
   },
   {
    "duration": 367,
    "start_time": "2022-11-22T15:35:55.800Z"
   },
   {
    "duration": 5,
    "start_time": "2022-11-22T15:35:56.169Z"
   },
   {
    "duration": 172,
    "start_time": "2022-11-22T15:35:56.177Z"
   },
   {
    "duration": 155,
    "start_time": "2022-11-22T15:35:56.350Z"
   },
   {
    "duration": 161,
    "start_time": "2022-11-22T15:35:56.506Z"
   },
   {
    "duration": 251,
    "start_time": "2022-11-22T15:35:56.669Z"
   },
   {
    "duration": 133,
    "start_time": "2022-11-22T15:35:56.922Z"
   },
   {
    "duration": 157,
    "start_time": "2022-11-22T15:35:57.057Z"
   },
   {
    "duration": 144,
    "start_time": "2022-11-22T15:35:57.216Z"
   },
   {
    "duration": 131,
    "start_time": "2022-11-22T15:35:57.362Z"
   },
   {
    "duration": 125,
    "start_time": "2022-11-22T15:35:57.496Z"
   },
   {
    "duration": 167,
    "start_time": "2022-11-22T15:35:57.622Z"
   },
   {
    "duration": 161,
    "start_time": "2022-11-22T15:35:57.791Z"
   },
   {
    "duration": 162,
    "start_time": "2022-11-22T15:35:57.953Z"
   },
   {
    "duration": 120,
    "start_time": "2022-11-22T15:35:58.117Z"
   },
   {
    "duration": 128,
    "start_time": "2022-11-22T15:35:58.238Z"
   },
   {
    "duration": 228,
    "start_time": "2022-11-22T15:35:58.368Z"
   },
   {
    "duration": 4,
    "start_time": "2022-11-22T15:35:58.598Z"
   },
   {
    "duration": 5,
    "start_time": "2022-11-22T15:35:58.604Z"
   },
   {
    "duration": 193,
    "start_time": "2022-11-22T15:35:58.611Z"
   },
   {
    "duration": 6,
    "start_time": "2022-11-22T15:35:58.805Z"
   },
   {
    "duration": 210,
    "start_time": "2022-11-22T15:35:58.812Z"
   },
   {
    "duration": 6,
    "start_time": "2022-11-22T15:35:59.023Z"
   },
   {
    "duration": 197,
    "start_time": "2022-11-22T15:35:59.031Z"
   },
   {
    "duration": 6,
    "start_time": "2022-11-22T15:35:59.229Z"
   },
   {
    "duration": 206,
    "start_time": "2022-11-22T15:35:59.236Z"
   },
   {
    "duration": 4,
    "start_time": "2022-11-22T15:35:59.444Z"
   },
   {
    "duration": 23,
    "start_time": "2022-11-22T15:35:59.450Z"
   },
   {
    "duration": 213,
    "start_time": "2022-11-22T15:35:59.475Z"
   },
   {
    "duration": 10,
    "start_time": "2022-11-22T15:35:59.690Z"
   },
   {
    "duration": 192,
    "start_time": "2022-11-22T15:35:59.701Z"
   },
   {
    "duration": 6,
    "start_time": "2022-11-22T15:35:59.895Z"
   },
   {
    "duration": 197,
    "start_time": "2022-11-22T15:35:59.903Z"
   },
   {
    "duration": 5,
    "start_time": "2022-11-22T15:36:00.102Z"
   },
   {
    "duration": 205,
    "start_time": "2022-11-22T15:36:00.109Z"
   },
   {
    "duration": 6,
    "start_time": "2022-11-22T15:36:00.316Z"
   },
   {
    "duration": 64,
    "start_time": "2022-11-22T15:36:00.324Z"
   },
   {
    "duration": 20,
    "start_time": "2022-11-22T15:36:00.390Z"
   },
   {
    "duration": 43,
    "start_time": "2022-11-22T15:36:00.412Z"
   },
   {
    "duration": 75,
    "start_time": "2022-11-22T15:36:00.457Z"
   },
   {
    "duration": 380,
    "start_time": "2022-11-23T06:01:01.559Z"
   },
   {
    "duration": 115,
    "start_time": "2022-11-23T06:01:01.941Z"
   },
   {
    "duration": 15,
    "start_time": "2022-11-23T06:01:02.058Z"
   },
   {
    "duration": 2084,
    "start_time": "2022-11-23T06:01:02.075Z"
   },
   {
    "duration": 4,
    "start_time": "2022-11-23T06:01:04.161Z"
   },
   {
    "duration": 13,
    "start_time": "2022-11-23T06:01:04.167Z"
   },
   {
    "duration": 13,
    "start_time": "2022-11-23T06:01:04.183Z"
   },
   {
    "duration": 28,
    "start_time": "2022-11-23T06:01:04.198Z"
   },
   {
    "duration": 8,
    "start_time": "2022-11-23T06:01:04.228Z"
   },
   {
    "duration": 8,
    "start_time": "2022-11-23T06:01:04.239Z"
   },
   {
    "duration": 23,
    "start_time": "2022-11-23T06:01:04.248Z"
   },
   {
    "duration": 22,
    "start_time": "2022-11-23T06:01:04.273Z"
   },
   {
    "duration": 19,
    "start_time": "2022-11-23T06:01:04.297Z"
   },
   {
    "duration": 9,
    "start_time": "2022-11-23T06:01:04.318Z"
   },
   {
    "duration": 85,
    "start_time": "2022-11-23T06:01:04.329Z"
   },
   {
    "duration": 12,
    "start_time": "2022-11-23T06:01:04.415Z"
   },
   {
    "duration": 13,
    "start_time": "2022-11-23T06:01:04.428Z"
   },
   {
    "duration": 7,
    "start_time": "2022-11-23T06:01:04.443Z"
   },
   {
    "duration": 16,
    "start_time": "2022-11-23T06:01:04.451Z"
   },
   {
    "duration": 221,
    "start_time": "2022-11-23T06:01:04.469Z"
   },
   {
    "duration": 6,
    "start_time": "2022-11-23T06:01:04.692Z"
   },
   {
    "duration": 36,
    "start_time": "2022-11-23T06:01:04.699Z"
   },
   {
    "duration": 35,
    "start_time": "2022-11-23T06:01:04.737Z"
   },
   {
    "duration": 9,
    "start_time": "2022-11-23T06:01:04.773Z"
   },
   {
    "duration": 9,
    "start_time": "2022-11-23T06:01:04.783Z"
   },
   {
    "duration": 28,
    "start_time": "2022-11-23T06:01:04.794Z"
   },
   {
    "duration": 10,
    "start_time": "2022-11-23T06:01:04.824Z"
   },
   {
    "duration": 10,
    "start_time": "2022-11-23T06:01:04.838Z"
   },
   {
    "duration": 9,
    "start_time": "2022-11-23T06:01:04.849Z"
   },
   {
    "duration": 324,
    "start_time": "2022-11-23T06:01:04.859Z"
   },
   {
    "duration": 4,
    "start_time": "2022-11-23T06:01:05.185Z"
   },
   {
    "duration": 134,
    "start_time": "2022-11-23T06:01:05.190Z"
   },
   {
    "duration": 147,
    "start_time": "2022-11-23T06:01:05.326Z"
   },
   {
    "duration": 161,
    "start_time": "2022-11-23T06:01:05.474Z"
   },
   {
    "duration": 281,
    "start_time": "2022-11-23T06:01:05.637Z"
   },
   {
    "duration": 138,
    "start_time": "2022-11-23T06:01:05.919Z"
   },
   {
    "duration": 151,
    "start_time": "2022-11-23T06:01:06.059Z"
   },
   {
    "duration": 155,
    "start_time": "2022-11-23T06:01:06.212Z"
   },
   {
    "duration": 119,
    "start_time": "2022-11-23T06:01:06.369Z"
   },
   {
    "duration": 122,
    "start_time": "2022-11-23T06:01:06.490Z"
   },
   {
    "duration": 152,
    "start_time": "2022-11-23T06:01:06.614Z"
   },
   {
    "duration": 147,
    "start_time": "2022-11-23T06:01:06.768Z"
   },
   {
    "duration": 153,
    "start_time": "2022-11-23T06:01:06.921Z"
   },
   {
    "duration": 112,
    "start_time": "2022-11-23T06:01:07.075Z"
   },
   {
    "duration": 116,
    "start_time": "2022-11-23T06:01:07.189Z"
   },
   {
    "duration": 207,
    "start_time": "2022-11-23T06:01:07.306Z"
   },
   {
    "duration": 8,
    "start_time": "2022-11-23T06:01:07.515Z"
   },
   {
    "duration": 21,
    "start_time": "2022-11-23T06:01:07.525Z"
   },
   {
    "duration": 193,
    "start_time": "2022-11-23T06:01:07.548Z"
   },
   {
    "duration": 6,
    "start_time": "2022-11-23T06:01:07.742Z"
   },
   {
    "duration": 214,
    "start_time": "2022-11-23T06:01:07.749Z"
   },
   {
    "duration": 5,
    "start_time": "2022-11-23T06:01:07.965Z"
   },
   {
    "duration": 183,
    "start_time": "2022-11-23T06:01:07.972Z"
   },
   {
    "duration": 6,
    "start_time": "2022-11-23T06:01:08.156Z"
   },
   {
    "duration": 184,
    "start_time": "2022-11-23T06:01:08.163Z"
   },
   {
    "duration": 5,
    "start_time": "2022-11-23T06:01:08.349Z"
   },
   {
    "duration": 23,
    "start_time": "2022-11-23T06:01:08.355Z"
   },
   {
    "duration": 188,
    "start_time": "2022-11-23T06:01:08.380Z"
   },
   {
    "duration": 5,
    "start_time": "2022-11-23T06:01:08.569Z"
   },
   {
    "duration": 183,
    "start_time": "2022-11-23T06:01:08.575Z"
   },
   {
    "duration": 5,
    "start_time": "2022-11-23T06:01:08.759Z"
   },
   {
    "duration": 176,
    "start_time": "2022-11-23T06:01:08.765Z"
   },
   {
    "duration": 5,
    "start_time": "2022-11-23T06:01:08.942Z"
   },
   {
    "duration": 179,
    "start_time": "2022-11-23T06:01:08.949Z"
   },
   {
    "duration": 5,
    "start_time": "2022-11-23T06:01:09.130Z"
   },
   {
    "duration": 27,
    "start_time": "2022-11-23T06:01:09.136Z"
   },
   {
    "duration": 6,
    "start_time": "2022-11-23T06:01:09.165Z"
   },
   {
    "duration": 10,
    "start_time": "2022-11-23T06:01:09.172Z"
   },
   {
    "duration": 11,
    "start_time": "2022-11-23T06:01:09.183Z"
   },
   {
    "duration": 15,
    "start_time": "2022-11-23T06:06:34.988Z"
   },
   {
    "duration": 122,
    "start_time": "2022-11-23T06:06:44.080Z"
   },
   {
    "duration": 7,
    "start_time": "2022-11-23T06:07:09.888Z"
   },
   {
    "duration": 8,
    "start_time": "2022-11-23T06:07:16.861Z"
   },
   {
    "duration": 56,
    "start_time": "2022-11-23T15:12:34.032Z"
   },
   {
    "duration": 8,
    "start_time": "2022-11-23T15:14:49.761Z"
   },
   {
    "duration": 429,
    "start_time": "2022-11-23T15:14:53.006Z"
   },
   {
    "duration": 171,
    "start_time": "2022-11-23T15:14:54.828Z"
   },
   {
    "duration": 76,
    "start_time": "2022-11-23T15:16:53.909Z"
   },
   {
    "duration": 167,
    "start_time": "2022-11-23T15:17:06.593Z"
   },
   {
    "duration": 543,
    "start_time": "2022-11-23T15:17:12.147Z"
   },
   {
    "duration": 163,
    "start_time": "2022-11-23T15:17:12.693Z"
   },
   {
    "duration": 23,
    "start_time": "2022-11-23T15:17:12.858Z"
   },
   {
    "duration": 2957,
    "start_time": "2022-11-23T15:17:12.884Z"
   },
   {
    "duration": 7,
    "start_time": "2022-11-23T15:17:15.844Z"
   },
   {
    "duration": 22,
    "start_time": "2022-11-23T15:17:15.853Z"
   },
   {
    "duration": 16,
    "start_time": "2022-11-23T15:17:15.877Z"
   },
   {
    "duration": 17,
    "start_time": "2022-11-23T15:17:15.895Z"
   },
   {
    "duration": 13,
    "start_time": "2022-11-23T15:17:15.914Z"
   },
   {
    "duration": 8,
    "start_time": "2022-11-23T15:17:15.930Z"
   },
   {
    "duration": 38,
    "start_time": "2022-11-23T15:17:15.941Z"
   },
   {
    "duration": 8,
    "start_time": "2022-11-23T15:17:15.981Z"
   },
   {
    "duration": 9,
    "start_time": "2022-11-23T15:17:15.991Z"
   },
   {
    "duration": 9,
    "start_time": "2022-11-23T15:17:16.004Z"
   },
   {
    "duration": 111,
    "start_time": "2022-11-23T15:17:16.015Z"
   },
   {
    "duration": 37,
    "start_time": "2022-11-23T15:17:16.129Z"
   },
   {
    "duration": 20,
    "start_time": "2022-11-23T15:17:16.168Z"
   },
   {
    "duration": 17,
    "start_time": "2022-11-23T15:17:16.190Z"
   },
   {
    "duration": 20,
    "start_time": "2022-11-23T15:17:16.210Z"
   },
   {
    "duration": 245,
    "start_time": "2022-11-23T15:17:16.232Z"
   },
   {
    "duration": 7,
    "start_time": "2022-11-23T15:17:16.480Z"
   },
   {
    "duration": 33,
    "start_time": "2022-11-23T15:17:16.490Z"
   },
   {
    "duration": 56,
    "start_time": "2022-11-23T15:17:16.524Z"
   },
   {
    "duration": 12,
    "start_time": "2022-11-23T15:17:16.582Z"
   },
   {
    "duration": 12,
    "start_time": "2022-11-23T15:17:16.597Z"
   },
   {
    "duration": 21,
    "start_time": "2022-11-23T15:17:16.612Z"
   },
   {
    "duration": 34,
    "start_time": "2022-11-23T15:17:16.636Z"
   },
   {
    "duration": 9,
    "start_time": "2022-11-23T15:17:16.672Z"
   },
   {
    "duration": 22,
    "start_time": "2022-11-23T15:17:16.683Z"
   },
   {
    "duration": 371,
    "start_time": "2022-11-23T15:17:16.707Z"
   },
   {
    "duration": 5,
    "start_time": "2022-11-23T15:17:17.080Z"
   },
   {
    "duration": 179,
    "start_time": "2022-11-23T15:17:17.087Z"
   },
   {
    "duration": 188,
    "start_time": "2022-11-23T15:17:17.268Z"
   },
   {
    "duration": 348,
    "start_time": "2022-11-23T15:17:17.459Z"
   },
   {
    "duration": 191,
    "start_time": "2022-11-23T15:17:17.809Z"
   },
   {
    "duration": 173,
    "start_time": "2022-11-23T15:17:18.002Z"
   },
   {
    "duration": 181,
    "start_time": "2022-11-23T15:17:18.177Z"
   },
   {
    "duration": 203,
    "start_time": "2022-11-23T15:17:18.361Z"
   },
   {
    "duration": 128,
    "start_time": "2022-11-23T15:17:18.566Z"
   },
   {
    "duration": 149,
    "start_time": "2022-11-23T15:17:18.696Z"
   },
   {
    "duration": 202,
    "start_time": "2022-11-23T15:17:18.852Z"
   },
   {
    "duration": 229,
    "start_time": "2022-11-23T15:17:19.056Z"
   },
   {
    "duration": 206,
    "start_time": "2022-11-23T15:17:19.288Z"
   },
   {
    "duration": 175,
    "start_time": "2022-11-23T15:17:19.496Z"
   },
   {
    "duration": 295,
    "start_time": "2022-11-23T15:17:19.673Z"
   },
   {
    "duration": 227,
    "start_time": "2022-11-23T15:17:19.970Z"
   },
   {
    "duration": 5,
    "start_time": "2022-11-23T15:17:20.200Z"
   },
   {
    "duration": 10,
    "start_time": "2022-11-23T15:17:20.207Z"
   },
   {
    "duration": 231,
    "start_time": "2022-11-23T15:17:20.219Z"
   },
   {
    "duration": 10,
    "start_time": "2022-11-23T15:17:20.453Z"
   },
   {
    "duration": 236,
    "start_time": "2022-11-23T15:17:20.465Z"
   },
   {
    "duration": 8,
    "start_time": "2022-11-23T15:17:20.703Z"
   },
   {
    "duration": 215,
    "start_time": "2022-11-23T15:17:20.713Z"
   },
   {
    "duration": 7,
    "start_time": "2022-11-23T15:17:20.930Z"
   },
   {
    "duration": 208,
    "start_time": "2022-11-23T15:17:20.951Z"
   },
   {
    "duration": 8,
    "start_time": "2022-11-23T15:17:21.161Z"
   },
   {
    "duration": 34,
    "start_time": "2022-11-23T15:17:21.171Z"
   },
   {
    "duration": 287,
    "start_time": "2022-11-23T15:17:21.208Z"
   },
   {
    "duration": 8,
    "start_time": "2022-11-23T15:17:21.497Z"
   },
   {
    "duration": 237,
    "start_time": "2022-11-23T15:17:21.507Z"
   },
   {
    "duration": 8,
    "start_time": "2022-11-23T15:17:21.747Z"
   },
   {
    "duration": 262,
    "start_time": "2022-11-23T15:17:21.757Z"
   },
   {
    "duration": 7,
    "start_time": "2022-11-23T15:17:22.022Z"
   },
   {
    "duration": 288,
    "start_time": "2022-11-23T15:17:22.031Z"
   },
   {
    "duration": 6,
    "start_time": "2022-11-23T15:17:22.321Z"
   },
   {
    "duration": 67,
    "start_time": "2022-11-23T15:17:22.329Z"
   },
   {
    "duration": 12,
    "start_time": "2022-11-23T15:17:22.398Z"
   },
   {
    "duration": 37,
    "start_time": "2022-11-23T15:17:22.413Z"
   },
   {
    "duration": 41,
    "start_time": "2022-11-23T15:17:22.455Z"
   },
   {
    "duration": 41,
    "start_time": "2022-11-23T15:18:32.787Z"
   },
   {
    "duration": 31,
    "start_time": "2022-11-23T15:18:40.195Z"
   },
   {
    "duration": 7,
    "start_time": "2022-11-23T15:25:59.329Z"
   },
   {
    "duration": 15,
    "start_time": "2022-11-23T15:26:11.232Z"
   },
   {
    "duration": 41,
    "start_time": "2022-11-23T15:35:51.343Z"
   },
   {
    "duration": 83,
    "start_time": "2022-11-23T15:37:54.187Z"
   },
   {
    "duration": 133,
    "start_time": "2022-11-23T15:38:15.463Z"
   },
   {
    "duration": 60,
    "start_time": "2022-11-23T15:38:26.956Z"
   },
   {
    "duration": 198,
    "start_time": "2022-11-23T15:39:10.082Z"
   },
   {
    "duration": 31,
    "start_time": "2022-11-23T15:41:17.891Z"
   },
   {
    "duration": 131,
    "start_time": "2022-11-23T15:41:56.242Z"
   },
   {
    "duration": 130,
    "start_time": "2022-11-23T15:42:17.932Z"
   },
   {
    "duration": 9,
    "start_time": "2022-11-23T15:44:18.497Z"
   },
   {
    "duration": 164,
    "start_time": "2022-11-23T15:44:22.337Z"
   },
   {
    "duration": 134,
    "start_time": "2022-11-23T15:55:36.512Z"
   },
   {
    "duration": 10,
    "start_time": "2022-11-23T15:56:47.882Z"
   },
   {
    "duration": 127,
    "start_time": "2022-11-23T15:57:14.659Z"
   },
   {
    "duration": 44,
    "start_time": "2022-11-23T15:57:44.235Z"
   },
   {
    "duration": 28,
    "start_time": "2022-11-23T15:58:59.062Z"
   },
   {
    "duration": 31,
    "start_time": "2022-11-23T15:59:33.820Z"
   },
   {
    "duration": 41,
    "start_time": "2022-11-23T15:59:53.625Z"
   },
   {
    "duration": 6,
    "start_time": "2022-11-23T16:00:03.259Z"
   },
   {
    "duration": 6,
    "start_time": "2022-11-23T16:00:53.945Z"
   },
   {
    "duration": 135,
    "start_time": "2022-11-23T16:06:16.318Z"
   },
   {
    "duration": 73,
    "start_time": "2022-11-23T16:06:44.673Z"
   },
   {
    "duration": 127,
    "start_time": "2022-11-23T16:06:52.014Z"
   },
   {
    "duration": 137,
    "start_time": "2022-11-23T16:07:00.038Z"
   },
   {
    "duration": 147,
    "start_time": "2022-11-23T16:07:04.625Z"
   },
   {
    "duration": 75,
    "start_time": "2022-11-23T16:08:09.983Z"
   },
   {
    "duration": 19,
    "start_time": "2022-11-23T16:08:19.374Z"
   },
   {
    "duration": 225,
    "start_time": "2022-11-23T16:10:03.549Z"
   },
   {
    "duration": 178,
    "start_time": "2022-11-23T16:10:14.534Z"
   },
   {
    "duration": 182,
    "start_time": "2022-11-23T16:10:23.573Z"
   },
   {
    "duration": 147,
    "start_time": "2022-11-23T16:10:34.733Z"
   },
   {
    "duration": 8,
    "start_time": "2022-11-23T16:11:04.628Z"
   },
   {
    "duration": 139,
    "start_time": "2022-11-23T16:11:28.917Z"
   },
   {
    "duration": 444,
    "start_time": "2022-11-23T16:11:50.321Z"
   },
   {
    "duration": 124,
    "start_time": "2022-11-23T16:11:50.767Z"
   },
   {
    "duration": 16,
    "start_time": "2022-11-23T16:11:50.892Z"
   },
   {
    "duration": 2311,
    "start_time": "2022-11-23T16:11:50.910Z"
   },
   {
    "duration": 5,
    "start_time": "2022-11-23T16:11:53.222Z"
   },
   {
    "duration": 9,
    "start_time": "2022-11-23T16:11:53.229Z"
   },
   {
    "duration": 9,
    "start_time": "2022-11-23T16:11:53.240Z"
   },
   {
    "duration": 6,
    "start_time": "2022-11-23T16:11:53.251Z"
   },
   {
    "duration": 8,
    "start_time": "2022-11-23T16:11:53.259Z"
   },
   {
    "duration": 4,
    "start_time": "2022-11-23T16:11:53.269Z"
   },
   {
    "duration": 10,
    "start_time": "2022-11-23T16:11:53.275Z"
   },
   {
    "duration": 7,
    "start_time": "2022-11-23T16:11:53.287Z"
   },
   {
    "duration": 9,
    "start_time": "2022-11-23T16:11:53.295Z"
   },
   {
    "duration": 10,
    "start_time": "2022-11-23T16:11:53.306Z"
   },
   {
    "duration": 116,
    "start_time": "2022-11-23T16:11:53.318Z"
   },
   {
    "duration": 16,
    "start_time": "2022-11-23T16:11:53.436Z"
   },
   {
    "duration": 16,
    "start_time": "2022-11-23T16:11:53.454Z"
   },
   {
    "duration": 7,
    "start_time": "2022-11-23T16:11:53.471Z"
   },
   {
    "duration": 6,
    "start_time": "2022-11-23T16:11:53.480Z"
   },
   {
    "duration": 250,
    "start_time": "2022-11-23T16:11:53.488Z"
   },
   {
    "duration": 7,
    "start_time": "2022-11-23T16:11:53.739Z"
   },
   {
    "duration": 24,
    "start_time": "2022-11-23T16:11:53.750Z"
   },
   {
    "duration": 32,
    "start_time": "2022-11-23T16:11:53.776Z"
   },
   {
    "duration": 9,
    "start_time": "2022-11-23T16:11:53.809Z"
   },
   {
    "duration": 31,
    "start_time": "2022-11-23T16:11:53.820Z"
   },
   {
    "duration": 141,
    "start_time": "2022-11-23T16:11:53.853Z"
   },
   {
    "duration": 7,
    "start_time": "2022-11-23T16:11:53.995Z"
   },
   {
    "duration": 11,
    "start_time": "2022-11-23T16:11:54.005Z"
   },
   {
    "duration": 137,
    "start_time": "2022-11-23T16:11:54.017Z"
   },
   {
    "duration": 7,
    "start_time": "2022-11-23T16:11:54.156Z"
   },
   {
    "duration": 8,
    "start_time": "2022-11-23T16:11:54.164Z"
   },
   {
    "duration": 21,
    "start_time": "2022-11-23T16:11:54.174Z"
   },
   {
    "duration": 7,
    "start_time": "2022-11-23T16:11:54.196Z"
   },
   {
    "duration": 8,
    "start_time": "2022-11-23T16:11:54.204Z"
   },
   {
    "duration": 343,
    "start_time": "2022-11-23T16:11:54.213Z"
   },
   {
    "duration": 4,
    "start_time": "2022-11-23T16:11:54.558Z"
   },
   {
    "duration": 152,
    "start_time": "2022-11-23T16:11:54.563Z"
   },
   {
    "duration": 252,
    "start_time": "2022-11-23T16:11:54.717Z"
   },
   {
    "duration": 167,
    "start_time": "2022-11-23T16:11:54.971Z"
   },
   {
    "duration": 186,
    "start_time": "2022-11-23T16:11:55.140Z"
   },
   {
    "duration": 135,
    "start_time": "2022-11-23T16:11:55.327Z"
   },
   {
    "duration": 167,
    "start_time": "2022-11-23T16:11:55.464Z"
   },
   {
    "duration": 152,
    "start_time": "2022-11-23T16:11:55.633Z"
   },
   {
    "duration": 124,
    "start_time": "2022-11-23T16:11:55.787Z"
   },
   {
    "duration": 131,
    "start_time": "2022-11-23T16:11:55.912Z"
   },
   {
    "duration": 165,
    "start_time": "2022-11-23T16:11:56.045Z"
   },
   {
    "duration": 170,
    "start_time": "2022-11-23T16:11:56.211Z"
   },
   {
    "duration": 162,
    "start_time": "2022-11-23T16:11:56.382Z"
   },
   {
    "duration": 204,
    "start_time": "2022-11-23T16:11:56.546Z"
   },
   {
    "duration": 132,
    "start_time": "2022-11-23T16:11:56.752Z"
   },
   {
    "duration": 148,
    "start_time": "2022-11-23T16:11:56.885Z"
   },
   {
    "duration": 5,
    "start_time": "2022-11-23T16:11:57.035Z"
   },
   {
    "duration": 6,
    "start_time": "2022-11-23T16:11:57.050Z"
   },
   {
    "duration": 201,
    "start_time": "2022-11-23T16:11:57.058Z"
   },
   {
    "duration": 6,
    "start_time": "2022-11-23T16:11:57.261Z"
   },
   {
    "duration": 213,
    "start_time": "2022-11-23T16:11:57.269Z"
   },
   {
    "duration": 6,
    "start_time": "2022-11-23T16:11:57.484Z"
   },
   {
    "duration": 197,
    "start_time": "2022-11-23T16:11:57.492Z"
   },
   {
    "duration": 6,
    "start_time": "2022-11-23T16:11:57.692Z"
   },
   {
    "duration": 204,
    "start_time": "2022-11-23T16:11:57.700Z"
   },
   {
    "duration": 5,
    "start_time": "2022-11-23T16:11:57.906Z"
   },
   {
    "duration": 26,
    "start_time": "2022-11-23T16:11:57.913Z"
   },
   {
    "duration": 189,
    "start_time": "2022-11-23T16:11:57.951Z"
   },
   {
    "duration": 12,
    "start_time": "2022-11-23T16:11:58.142Z"
   },
   {
    "duration": 202,
    "start_time": "2022-11-23T16:11:58.156Z"
   },
   {
    "duration": 7,
    "start_time": "2022-11-23T16:11:58.360Z"
   },
   {
    "duration": 225,
    "start_time": "2022-11-23T16:11:58.369Z"
   },
   {
    "duration": 6,
    "start_time": "2022-11-23T16:11:58.596Z"
   },
   {
    "duration": 192,
    "start_time": "2022-11-23T16:11:58.604Z"
   },
   {
    "duration": 5,
    "start_time": "2022-11-23T16:11:58.798Z"
   },
   {
    "duration": 26,
    "start_time": "2022-11-23T16:11:58.804Z"
   },
   {
    "duration": 24,
    "start_time": "2022-11-23T16:11:58.832Z"
   },
   {
    "duration": 11,
    "start_time": "2022-11-23T16:11:58.858Z"
   },
   {
    "duration": 95,
    "start_time": "2022-11-23T16:11:58.871Z"
   },
   {
    "duration": 177,
    "start_time": "2022-11-23T16:12:22.013Z"
   },
   {
    "duration": 8,
    "start_time": "2022-11-23T16:12:33.669Z"
   },
   {
    "duration": 139,
    "start_time": "2022-11-23T16:12:35.692Z"
   },
   {
    "duration": 5,
    "start_time": "2022-11-23T16:12:50.764Z"
   },
   {
    "duration": 5,
    "start_time": "2022-11-23T16:12:57.716Z"
   },
   {
    "duration": 130,
    "start_time": "2022-11-23T16:13:06.675Z"
   },
   {
    "duration": 5,
    "start_time": "2022-11-23T16:13:08.412Z"
   },
   {
    "duration": 128,
    "start_time": "2022-11-23T16:13:18.125Z"
   },
   {
    "duration": 11,
    "start_time": "2022-11-23T16:15:12.611Z"
   },
   {
    "duration": 172,
    "start_time": "2022-11-23T16:15:41.442Z"
   },
   {
    "duration": 126,
    "start_time": "2022-11-23T16:15:44.530Z"
   },
   {
    "duration": 160,
    "start_time": "2022-11-23T16:17:15.003Z"
   },
   {
    "duration": 7,
    "start_time": "2022-11-23T16:17:38.065Z"
   },
   {
    "duration": 6,
    "start_time": "2022-11-23T16:17:51.393Z"
   },
   {
    "duration": 8,
    "start_time": "2022-11-23T16:17:56.601Z"
   },
   {
    "duration": 6,
    "start_time": "2022-11-23T16:18:07.746Z"
   },
   {
    "duration": 9,
    "start_time": "2022-11-23T16:18:13.297Z"
   },
   {
    "duration": 6,
    "start_time": "2022-11-23T16:19:55.962Z"
   },
   {
    "duration": 8,
    "start_time": "2022-11-23T16:20:07.300Z"
   },
   {
    "duration": 449,
    "start_time": "2022-11-23T16:22:49.174Z"
   },
   {
    "duration": 161,
    "start_time": "2022-11-23T16:22:49.626Z"
   },
   {
    "duration": 20,
    "start_time": "2022-11-23T16:22:49.790Z"
   },
   {
    "duration": 2416,
    "start_time": "2022-11-23T16:22:49.813Z"
   },
   {
    "duration": 5,
    "start_time": "2022-11-23T16:22:52.230Z"
   },
   {
    "duration": 10,
    "start_time": "2022-11-23T16:22:52.236Z"
   },
   {
    "duration": 11,
    "start_time": "2022-11-23T16:22:52.248Z"
   },
   {
    "duration": 8,
    "start_time": "2022-11-23T16:22:52.260Z"
   },
   {
    "duration": 14,
    "start_time": "2022-11-23T16:22:52.269Z"
   },
   {
    "duration": 3,
    "start_time": "2022-11-23T16:22:52.286Z"
   },
   {
    "duration": 14,
    "start_time": "2022-11-23T16:22:52.291Z"
   },
   {
    "duration": 6,
    "start_time": "2022-11-23T16:22:52.306Z"
   },
   {
    "duration": 40,
    "start_time": "2022-11-23T16:22:52.314Z"
   },
   {
    "duration": 13,
    "start_time": "2022-11-23T16:22:52.355Z"
   },
   {
    "duration": 110,
    "start_time": "2022-11-23T16:22:52.369Z"
   },
   {
    "duration": 9,
    "start_time": "2022-11-23T16:22:52.481Z"
   },
   {
    "duration": 14,
    "start_time": "2022-11-23T16:22:52.492Z"
   },
   {
    "duration": 8,
    "start_time": "2022-11-23T16:22:52.508Z"
   },
   {
    "duration": 34,
    "start_time": "2022-11-23T16:22:52.518Z"
   },
   {
    "duration": 232,
    "start_time": "2022-11-23T16:22:52.554Z"
   },
   {
    "duration": 7,
    "start_time": "2022-11-23T16:22:52.788Z"
   },
   {
    "duration": 26,
    "start_time": "2022-11-23T16:22:52.796Z"
   },
   {
    "duration": 53,
    "start_time": "2022-11-23T16:22:52.824Z"
   },
   {
    "duration": 9,
    "start_time": "2022-11-23T16:22:52.879Z"
   },
   {
    "duration": 14,
    "start_time": "2022-11-23T16:22:52.889Z"
   },
   {
    "duration": 152,
    "start_time": "2022-11-23T16:22:52.905Z"
   },
   {
    "duration": 139,
    "start_time": "2022-11-23T16:22:53.058Z"
   },
   {
    "duration": 7,
    "start_time": "2022-11-23T16:22:53.201Z"
   },
   {
    "duration": 11,
    "start_time": "2022-11-23T16:22:53.210Z"
   },
   {
    "duration": 142,
    "start_time": "2022-11-23T16:22:53.223Z"
   },
   {
    "duration": 6,
    "start_time": "2022-11-23T16:22:53.366Z"
   },
   {
    "duration": 10,
    "start_time": "2022-11-23T16:22:53.374Z"
   },
   {
    "duration": 130,
    "start_time": "2022-11-23T16:22:53.385Z"
   },
   {
    "duration": 6,
    "start_time": "2022-11-23T16:22:53.517Z"
   },
   {
    "duration": 12,
    "start_time": "2022-11-23T16:22:53.525Z"
   },
   {
    "duration": 5,
    "start_time": "2022-11-23T16:22:53.550Z"
   },
   {
    "duration": 14,
    "start_time": "2022-11-23T16:22:53.557Z"
   },
   {
    "duration": 5,
    "start_time": "2022-11-23T16:22:53.573Z"
   },
   {
    "duration": 6,
    "start_time": "2022-11-23T16:22:53.580Z"
   },
   {
    "duration": 470,
    "start_time": "2022-11-23T16:22:53.588Z"
   },
   {
    "duration": 4,
    "start_time": "2022-11-23T16:22:54.061Z"
   },
   {
    "duration": 164,
    "start_time": "2022-11-23T16:22:54.067Z"
   },
   {
    "duration": 168,
    "start_time": "2022-11-23T16:22:54.233Z"
   },
   {
    "duration": 174,
    "start_time": "2022-11-23T16:22:54.403Z"
   },
   {
    "duration": 180,
    "start_time": "2022-11-23T16:22:54.579Z"
   },
   {
    "duration": 145,
    "start_time": "2022-11-23T16:22:54.761Z"
   },
   {
    "duration": 174,
    "start_time": "2022-11-23T16:22:54.908Z"
   },
   {
    "duration": 159,
    "start_time": "2022-11-23T16:22:55.084Z"
   },
   {
    "duration": 132,
    "start_time": "2022-11-23T16:22:55.245Z"
   },
   {
    "duration": 144,
    "start_time": "2022-11-23T16:22:55.379Z"
   },
   {
    "duration": 252,
    "start_time": "2022-11-23T16:22:55.526Z"
   },
   {
    "duration": 250,
    "start_time": "2022-11-23T16:22:55.781Z"
   },
   {
    "duration": 174,
    "start_time": "2022-11-23T16:22:56.032Z"
   },
   {
    "duration": 149,
    "start_time": "2022-11-23T16:22:56.208Z"
   },
   {
    "duration": 141,
    "start_time": "2022-11-23T16:22:56.359Z"
   },
   {
    "duration": 176,
    "start_time": "2022-11-23T16:22:56.502Z"
   },
   {
    "duration": 6,
    "start_time": "2022-11-23T16:22:56.680Z"
   },
   {
    "duration": 7,
    "start_time": "2022-11-23T16:22:56.688Z"
   },
   {
    "duration": 220,
    "start_time": "2022-11-23T16:22:56.697Z"
   },
   {
    "duration": 5,
    "start_time": "2022-11-23T16:22:56.919Z"
   },
   {
    "duration": 206,
    "start_time": "2022-11-23T16:22:56.926Z"
   },
   {
    "duration": 6,
    "start_time": "2022-11-23T16:22:57.133Z"
   },
   {
    "duration": 208,
    "start_time": "2022-11-23T16:22:57.141Z"
   },
   {
    "duration": 6,
    "start_time": "2022-11-23T16:22:57.351Z"
   },
   {
    "duration": 206,
    "start_time": "2022-11-23T16:22:57.363Z"
   },
   {
    "duration": 6,
    "start_time": "2022-11-23T16:22:57.571Z"
   },
   {
    "duration": 31,
    "start_time": "2022-11-23T16:22:57.579Z"
   },
   {
    "duration": 224,
    "start_time": "2022-11-23T16:22:57.612Z"
   },
   {
    "duration": 13,
    "start_time": "2022-11-23T16:22:57.838Z"
   },
   {
    "duration": 197,
    "start_time": "2022-11-23T16:22:57.853Z"
   },
   {
    "duration": 6,
    "start_time": "2022-11-23T16:22:58.052Z"
   },
   {
    "duration": 289,
    "start_time": "2022-11-23T16:22:58.060Z"
   },
   {
    "duration": 6,
    "start_time": "2022-11-23T16:22:58.351Z"
   },
   {
    "duration": 195,
    "start_time": "2022-11-23T16:22:58.359Z"
   },
   {
    "duration": 5,
    "start_time": "2022-11-23T16:22:58.556Z"
   },
   {
    "duration": 26,
    "start_time": "2022-11-23T16:22:58.563Z"
   },
   {
    "duration": 8,
    "start_time": "2022-11-23T16:22:58.591Z"
   },
   {
    "duration": 10,
    "start_time": "2022-11-23T16:22:58.600Z"
   },
   {
    "duration": 46,
    "start_time": "2022-11-23T16:22:58.612Z"
   },
   {
    "duration": 78,
    "start_time": "2022-11-23T16:23:36.448Z"
   },
   {
    "duration": 4,
    "start_time": "2022-11-23T16:23:45.815Z"
   },
   {
    "duration": 6,
    "start_time": "2022-11-23T16:28:24.526Z"
   },
   {
    "duration": 3,
    "start_time": "2022-11-23T16:31:36.820Z"
   },
   {
    "duration": 5,
    "start_time": "2022-11-23T16:31:41.540Z"
   },
   {
    "duration": 475,
    "start_time": "2022-11-23T16:31:49.482Z"
   },
   {
    "duration": 129,
    "start_time": "2022-11-23T16:31:49.959Z"
   },
   {
    "duration": 16,
    "start_time": "2022-11-23T16:31:50.090Z"
   },
   {
    "duration": 2232,
    "start_time": "2022-11-23T16:31:50.108Z"
   },
   {
    "duration": 5,
    "start_time": "2022-11-23T16:31:52.342Z"
   },
   {
    "duration": 22,
    "start_time": "2022-11-23T16:31:52.348Z"
   },
   {
    "duration": 24,
    "start_time": "2022-11-23T16:31:52.372Z"
   },
   {
    "duration": 14,
    "start_time": "2022-11-23T16:31:52.398Z"
   },
   {
    "duration": 29,
    "start_time": "2022-11-23T16:31:52.414Z"
   },
   {
    "duration": 17,
    "start_time": "2022-11-23T16:31:52.445Z"
   },
   {
    "duration": 33,
    "start_time": "2022-11-23T16:31:52.464Z"
   },
   {
    "duration": 18,
    "start_time": "2022-11-23T16:31:52.499Z"
   },
   {
    "duration": 27,
    "start_time": "2022-11-23T16:31:52.519Z"
   },
   {
    "duration": 12,
    "start_time": "2022-11-23T16:31:52.548Z"
   },
   {
    "duration": 117,
    "start_time": "2022-11-23T16:31:52.562Z"
   },
   {
    "duration": 10,
    "start_time": "2022-11-23T16:31:52.680Z"
   },
   {
    "duration": 37,
    "start_time": "2022-11-23T16:31:52.691Z"
   },
   {
    "duration": 25,
    "start_time": "2022-11-23T16:31:52.729Z"
   },
   {
    "duration": 32,
    "start_time": "2022-11-23T16:31:52.755Z"
   },
   {
    "duration": 235,
    "start_time": "2022-11-23T16:31:52.788Z"
   },
   {
    "duration": 7,
    "start_time": "2022-11-23T16:31:53.025Z"
   },
   {
    "duration": 46,
    "start_time": "2022-11-23T16:31:53.033Z"
   },
   {
    "duration": 30,
    "start_time": "2022-11-23T16:31:53.080Z"
   },
   {
    "duration": 51,
    "start_time": "2022-11-23T16:31:53.111Z"
   },
   {
    "duration": 8,
    "start_time": "2022-11-23T16:31:53.164Z"
   },
   {
    "duration": 36,
    "start_time": "2022-11-23T16:31:53.174Z"
   },
   {
    "duration": 147,
    "start_time": "2022-11-23T16:31:53.212Z"
   },
   {
    "duration": 135,
    "start_time": "2022-11-23T16:31:53.365Z"
   },
   {
    "duration": 6,
    "start_time": "2022-11-23T16:31:53.503Z"
   },
   {
    "duration": 33,
    "start_time": "2022-11-23T16:31:53.511Z"
   },
   {
    "duration": 138,
    "start_time": "2022-11-23T16:31:53.546Z"
   },
   {
    "duration": 7,
    "start_time": "2022-11-23T16:31:53.686Z"
   },
   {
    "duration": 34,
    "start_time": "2022-11-23T16:31:53.695Z"
   },
   {
    "duration": 118,
    "start_time": "2022-11-23T16:31:53.731Z"
   },
   {
    "duration": 7,
    "start_time": "2022-11-23T16:31:53.850Z"
   },
   {
    "duration": 12,
    "start_time": "2022-11-23T16:31:53.858Z"
   },
   {
    "duration": 5,
    "start_time": "2022-11-23T16:31:53.871Z"
   },
   {
    "duration": 9,
    "start_time": "2022-11-23T16:31:53.877Z"
   },
   {
    "duration": 17,
    "start_time": "2022-11-23T16:31:53.888Z"
   },
   {
    "duration": 12,
    "start_time": "2022-11-23T16:31:53.907Z"
   },
   {
    "duration": 29,
    "start_time": "2022-11-23T16:31:53.922Z"
   },
   {
    "duration": 423,
    "start_time": "2022-11-23T16:31:53.953Z"
   },
   {
    "duration": 4,
    "start_time": "2022-11-23T16:31:54.378Z"
   },
   {
    "duration": 149,
    "start_time": "2022-11-23T16:31:54.383Z"
   },
   {
    "duration": 149,
    "start_time": "2022-11-23T16:31:54.533Z"
   },
   {
    "duration": 169,
    "start_time": "2022-11-23T16:31:54.684Z"
   },
   {
    "duration": 167,
    "start_time": "2022-11-23T16:31:54.855Z"
   },
   {
    "duration": 145,
    "start_time": "2022-11-23T16:31:55.024Z"
   },
   {
    "duration": 165,
    "start_time": "2022-11-23T16:31:55.177Z"
   },
   {
    "duration": 159,
    "start_time": "2022-11-23T16:31:55.344Z"
   },
   {
    "duration": 146,
    "start_time": "2022-11-23T16:31:55.505Z"
   },
   {
    "duration": 143,
    "start_time": "2022-11-23T16:31:55.652Z"
   },
   {
    "duration": 169,
    "start_time": "2022-11-23T16:31:55.797Z"
   },
   {
    "duration": 262,
    "start_time": "2022-11-23T16:31:55.967Z"
   },
   {
    "duration": 158,
    "start_time": "2022-11-23T16:31:56.231Z"
   },
   {
    "duration": 143,
    "start_time": "2022-11-23T16:31:56.391Z"
   },
   {
    "duration": 128,
    "start_time": "2022-11-23T16:31:56.535Z"
   },
   {
    "duration": 146,
    "start_time": "2022-11-23T16:31:56.665Z"
   },
   {
    "duration": 5,
    "start_time": "2022-11-23T16:31:56.812Z"
   },
   {
    "duration": 10,
    "start_time": "2022-11-23T16:31:56.818Z"
   },
   {
    "duration": 201,
    "start_time": "2022-11-23T16:31:56.830Z"
   },
   {
    "duration": 17,
    "start_time": "2022-11-23T16:31:57.035Z"
   },
   {
    "duration": 186,
    "start_time": "2022-11-23T16:31:57.053Z"
   },
   {
    "duration": 14,
    "start_time": "2022-11-23T16:31:57.241Z"
   },
   {
    "duration": 232,
    "start_time": "2022-11-23T16:31:57.257Z"
   },
   {
    "duration": 7,
    "start_time": "2022-11-23T16:31:57.491Z"
   },
   {
    "duration": 203,
    "start_time": "2022-11-23T16:31:57.500Z"
   },
   {
    "duration": 6,
    "start_time": "2022-11-23T16:31:57.705Z"
   },
   {
    "duration": 38,
    "start_time": "2022-11-23T16:31:57.713Z"
   },
   {
    "duration": 200,
    "start_time": "2022-11-23T16:31:57.752Z"
   },
   {
    "duration": 7,
    "start_time": "2022-11-23T16:31:57.954Z"
   },
   {
    "duration": 205,
    "start_time": "2022-11-23T16:31:57.963Z"
   },
   {
    "duration": 6,
    "start_time": "2022-11-23T16:31:58.171Z"
   },
   {
    "duration": 284,
    "start_time": "2022-11-23T16:31:58.179Z"
   },
   {
    "duration": 6,
    "start_time": "2022-11-23T16:31:58.465Z"
   },
   {
    "duration": 192,
    "start_time": "2022-11-23T16:31:58.472Z"
   },
   {
    "duration": 6,
    "start_time": "2022-11-23T16:31:58.666Z"
   },
   {
    "duration": 27,
    "start_time": "2022-11-23T16:31:58.673Z"
   },
   {
    "duration": 8,
    "start_time": "2022-11-23T16:31:58.701Z"
   },
   {
    "duration": 12,
    "start_time": "2022-11-23T16:31:58.711Z"
   },
   {
    "duration": 12,
    "start_time": "2022-11-23T16:31:58.751Z"
   },
   {
    "duration": 4,
    "start_time": "2022-11-23T16:32:28.099Z"
   },
   {
    "duration": 416,
    "start_time": "2022-11-23T16:32:37.608Z"
   },
   {
    "duration": 126,
    "start_time": "2022-11-23T16:32:38.026Z"
   },
   {
    "duration": 21,
    "start_time": "2022-11-23T16:32:38.154Z"
   },
   {
    "duration": 2327,
    "start_time": "2022-11-23T16:32:38.177Z"
   },
   {
    "duration": 5,
    "start_time": "2022-11-23T16:32:40.506Z"
   },
   {
    "duration": 10,
    "start_time": "2022-11-23T16:32:40.513Z"
   },
   {
    "duration": 10,
    "start_time": "2022-11-23T16:32:40.525Z"
   },
   {
    "duration": 7,
    "start_time": "2022-11-23T16:32:40.536Z"
   },
   {
    "duration": 8,
    "start_time": "2022-11-23T16:32:40.545Z"
   },
   {
    "duration": 11,
    "start_time": "2022-11-23T16:32:40.555Z"
   },
   {
    "duration": 16,
    "start_time": "2022-11-23T16:32:40.568Z"
   },
   {
    "duration": 7,
    "start_time": "2022-11-23T16:32:40.586Z"
   },
   {
    "duration": 16,
    "start_time": "2022-11-23T16:32:40.595Z"
   },
   {
    "duration": 15,
    "start_time": "2022-11-23T16:32:40.613Z"
   },
   {
    "duration": 106,
    "start_time": "2022-11-23T16:32:40.630Z"
   },
   {
    "duration": 13,
    "start_time": "2022-11-23T16:32:40.738Z"
   },
   {
    "duration": 13,
    "start_time": "2022-11-23T16:32:40.753Z"
   },
   {
    "duration": 7,
    "start_time": "2022-11-23T16:32:40.768Z"
   },
   {
    "duration": 6,
    "start_time": "2022-11-23T16:32:40.776Z"
   },
   {
    "duration": 243,
    "start_time": "2022-11-23T16:32:40.784Z"
   },
   {
    "duration": 6,
    "start_time": "2022-11-23T16:32:41.029Z"
   },
   {
    "duration": 32,
    "start_time": "2022-11-23T16:32:41.037Z"
   },
   {
    "duration": 4,
    "start_time": "2022-11-23T16:32:41.071Z"
   },
   {
    "duration": 37,
    "start_time": "2022-11-23T16:32:41.077Z"
   },
   {
    "duration": 8,
    "start_time": "2022-11-23T16:32:41.116Z"
   },
   {
    "duration": 30,
    "start_time": "2022-11-23T16:32:41.126Z"
   },
   {
    "duration": 137,
    "start_time": "2022-11-23T16:32:41.157Z"
   },
   {
    "duration": 130,
    "start_time": "2022-11-23T16:32:41.298Z"
   },
   {
    "duration": 8,
    "start_time": "2022-11-23T16:32:41.429Z"
   },
   {
    "duration": 20,
    "start_time": "2022-11-23T16:32:41.438Z"
   },
   {
    "duration": 129,
    "start_time": "2022-11-23T16:32:41.460Z"
   },
   {
    "duration": 7,
    "start_time": "2022-11-23T16:32:41.590Z"
   },
   {
    "duration": 12,
    "start_time": "2022-11-23T16:32:41.598Z"
   },
   {
    "duration": 140,
    "start_time": "2022-11-23T16:32:41.612Z"
   },
   {
    "duration": 6,
    "start_time": "2022-11-23T16:32:41.754Z"
   },
   {
    "duration": 13,
    "start_time": "2022-11-23T16:32:41.762Z"
   },
   {
    "duration": 4,
    "start_time": "2022-11-23T16:32:41.776Z"
   },
   {
    "duration": 11,
    "start_time": "2022-11-23T16:32:41.782Z"
   },
   {
    "duration": 16,
    "start_time": "2022-11-23T16:32:41.794Z"
   },
   {
    "duration": 9,
    "start_time": "2022-11-23T16:32:41.812Z"
   },
   {
    "duration": 11,
    "start_time": "2022-11-23T16:32:41.822Z"
   },
   {
    "duration": 434,
    "start_time": "2022-11-23T16:32:41.835Z"
   },
   {
    "duration": 4,
    "start_time": "2022-11-23T16:32:42.271Z"
   },
   {
    "duration": 153,
    "start_time": "2022-11-23T16:32:42.277Z"
   },
   {
    "duration": 157,
    "start_time": "2022-11-23T16:32:42.432Z"
   },
   {
    "duration": 180,
    "start_time": "2022-11-23T16:32:42.590Z"
   },
   {
    "duration": 171,
    "start_time": "2022-11-23T16:32:42.772Z"
   },
   {
    "duration": 140,
    "start_time": "2022-11-23T16:32:42.950Z"
   },
   {
    "duration": 165,
    "start_time": "2022-11-23T16:32:43.091Z"
   },
   {
    "duration": 153,
    "start_time": "2022-11-23T16:32:43.258Z"
   },
   {
    "duration": 120,
    "start_time": "2022-11-23T16:32:43.413Z"
   },
   {
    "duration": 129,
    "start_time": "2022-11-23T16:32:43.534Z"
   },
   {
    "duration": 168,
    "start_time": "2022-11-23T16:32:43.665Z"
   },
   {
    "duration": 246,
    "start_time": "2022-11-23T16:32:43.835Z"
   },
   {
    "duration": 169,
    "start_time": "2022-11-23T16:32:44.083Z"
   },
   {
    "duration": 153,
    "start_time": "2022-11-23T16:32:44.254Z"
   },
   {
    "duration": 128,
    "start_time": "2022-11-23T16:32:44.409Z"
   },
   {
    "duration": 155,
    "start_time": "2022-11-23T16:32:44.539Z"
   },
   {
    "duration": 4,
    "start_time": "2022-11-23T16:32:44.696Z"
   },
   {
    "duration": 7,
    "start_time": "2022-11-23T16:32:44.702Z"
   },
   {
    "duration": 209,
    "start_time": "2022-11-23T16:32:44.710Z"
   },
   {
    "duration": 6,
    "start_time": "2022-11-23T16:32:44.921Z"
   },
   {
    "duration": 201,
    "start_time": "2022-11-23T16:32:44.929Z"
   },
   {
    "duration": 6,
    "start_time": "2022-11-23T16:32:45.131Z"
   },
   {
    "duration": 200,
    "start_time": "2022-11-23T16:32:45.139Z"
   },
   {
    "duration": 12,
    "start_time": "2022-11-23T16:32:45.340Z"
   },
   {
    "duration": 203,
    "start_time": "2022-11-23T16:32:45.354Z"
   },
   {
    "duration": 8,
    "start_time": "2022-11-23T16:32:45.559Z"
   },
   {
    "duration": 27,
    "start_time": "2022-11-23T16:32:45.568Z"
   },
   {
    "duration": 209,
    "start_time": "2022-11-23T16:32:45.597Z"
   },
   {
    "duration": 6,
    "start_time": "2022-11-23T16:32:45.808Z"
   },
   {
    "duration": 200,
    "start_time": "2022-11-23T16:32:45.816Z"
   },
   {
    "duration": 6,
    "start_time": "2022-11-23T16:32:46.018Z"
   },
   {
    "duration": 279,
    "start_time": "2022-11-23T16:32:46.025Z"
   },
   {
    "duration": 5,
    "start_time": "2022-11-23T16:32:46.305Z"
   },
   {
    "duration": 191,
    "start_time": "2022-11-23T16:32:46.312Z"
   },
   {
    "duration": 5,
    "start_time": "2022-11-23T16:32:46.504Z"
   },
   {
    "duration": 41,
    "start_time": "2022-11-23T16:32:46.511Z"
   },
   {
    "duration": 9,
    "start_time": "2022-11-23T16:32:46.553Z"
   },
   {
    "duration": 11,
    "start_time": "2022-11-23T16:32:46.564Z"
   },
   {
    "duration": 14,
    "start_time": "2022-11-23T16:32:46.576Z"
   },
   {
    "duration": 89,
    "start_time": "2022-11-23T16:36:55.697Z"
   },
   {
    "duration": 6,
    "start_time": "2022-11-23T16:37:42.761Z"
   },
   {
    "duration": 8,
    "start_time": "2022-11-23T16:37:52.265Z"
   },
   {
    "duration": 484,
    "start_time": "2022-11-23T16:38:19.009Z"
   },
   {
    "duration": 152,
    "start_time": "2022-11-23T16:38:19.495Z"
   },
   {
    "duration": 21,
    "start_time": "2022-11-23T16:38:19.648Z"
   },
   {
    "duration": 2508,
    "start_time": "2022-11-23T16:38:19.672Z"
   },
   {
    "duration": 5,
    "start_time": "2022-11-23T16:38:22.183Z"
   },
   {
    "duration": 16,
    "start_time": "2022-11-23T16:38:22.190Z"
   },
   {
    "duration": 33,
    "start_time": "2022-11-23T16:38:22.208Z"
   },
   {
    "duration": 7,
    "start_time": "2022-11-23T16:38:22.243Z"
   },
   {
    "duration": 14,
    "start_time": "2022-11-23T16:38:22.252Z"
   },
   {
    "duration": 10,
    "start_time": "2022-11-23T16:38:22.268Z"
   },
   {
    "duration": 13,
    "start_time": "2022-11-23T16:38:22.280Z"
   },
   {
    "duration": 7,
    "start_time": "2022-11-23T16:38:22.294Z"
   },
   {
    "duration": 13,
    "start_time": "2022-11-23T16:38:22.302Z"
   },
   {
    "duration": 13,
    "start_time": "2022-11-23T16:38:22.316Z"
   },
   {
    "duration": 104,
    "start_time": "2022-11-23T16:38:22.331Z"
   },
   {
    "duration": 19,
    "start_time": "2022-11-23T16:38:22.436Z"
   },
   {
    "duration": 14,
    "start_time": "2022-11-23T16:38:22.457Z"
   },
   {
    "duration": 8,
    "start_time": "2022-11-23T16:38:22.473Z"
   },
   {
    "duration": 11,
    "start_time": "2022-11-23T16:38:22.483Z"
   },
   {
    "duration": 253,
    "start_time": "2022-11-23T16:38:22.495Z"
   },
   {
    "duration": 7,
    "start_time": "2022-11-23T16:38:22.749Z"
   },
   {
    "duration": 29,
    "start_time": "2022-11-23T16:38:22.758Z"
   },
   {
    "duration": 7,
    "start_time": "2022-11-23T16:38:22.789Z"
   },
   {
    "duration": 63,
    "start_time": "2022-11-23T16:38:22.798Z"
   },
   {
    "duration": 10,
    "start_time": "2022-11-23T16:38:22.863Z"
   },
   {
    "duration": 15,
    "start_time": "2022-11-23T16:38:22.875Z"
   },
   {
    "duration": 140,
    "start_time": "2022-11-23T16:38:22.892Z"
   },
   {
    "duration": 139,
    "start_time": "2022-11-23T16:38:23.038Z"
   },
   {
    "duration": 6,
    "start_time": "2022-11-23T16:38:23.179Z"
   },
   {
    "duration": 15,
    "start_time": "2022-11-23T16:38:23.187Z"
   },
   {
    "duration": 135,
    "start_time": "2022-11-23T16:38:23.204Z"
   },
   {
    "duration": 10,
    "start_time": "2022-11-23T16:38:23.341Z"
   },
   {
    "duration": 58,
    "start_time": "2022-11-23T16:38:23.353Z"
   },
   {
    "duration": 121,
    "start_time": "2022-11-23T16:38:23.412Z"
   },
   {
    "duration": 18,
    "start_time": "2022-11-23T16:38:23.534Z"
   },
   {
    "duration": 22,
    "start_time": "2022-11-23T16:38:23.553Z"
   },
   {
    "duration": 31,
    "start_time": "2022-11-23T16:38:23.577Z"
   },
   {
    "duration": 63,
    "start_time": "2022-11-23T16:38:23.610Z"
   },
   {
    "duration": 44,
    "start_time": "2022-11-23T16:38:23.674Z"
   },
   {
    "duration": 39,
    "start_time": "2022-11-23T16:38:23.720Z"
   },
   {
    "duration": 13,
    "start_time": "2022-11-23T16:38:23.760Z"
   },
   {
    "duration": 469,
    "start_time": "2022-11-23T16:38:23.774Z"
   },
   {
    "duration": 8,
    "start_time": "2022-11-23T16:38:24.245Z"
   },
   {
    "duration": 168,
    "start_time": "2022-11-23T16:38:24.255Z"
   },
   {
    "duration": 162,
    "start_time": "2022-11-23T16:38:24.425Z"
   },
   {
    "duration": 172,
    "start_time": "2022-11-23T16:38:24.588Z"
   },
   {
    "duration": 200,
    "start_time": "2022-11-23T16:38:24.762Z"
   },
   {
    "duration": 166,
    "start_time": "2022-11-23T16:38:24.964Z"
   },
   {
    "duration": 177,
    "start_time": "2022-11-23T16:38:25.132Z"
   },
   {
    "duration": 161,
    "start_time": "2022-11-23T16:38:25.311Z"
   },
   {
    "duration": 123,
    "start_time": "2022-11-23T16:38:25.474Z"
   },
   {
    "duration": 138,
    "start_time": "2022-11-23T16:38:25.599Z"
   },
   {
    "duration": 192,
    "start_time": "2022-11-23T16:38:25.739Z"
   },
   {
    "duration": 245,
    "start_time": "2022-11-23T16:38:25.933Z"
   },
   {
    "duration": 162,
    "start_time": "2022-11-23T16:38:26.180Z"
   },
   {
    "duration": 148,
    "start_time": "2022-11-23T16:38:26.344Z"
   },
   {
    "duration": 136,
    "start_time": "2022-11-23T16:38:26.494Z"
   },
   {
    "duration": 185,
    "start_time": "2022-11-23T16:38:26.632Z"
   },
   {
    "duration": 5,
    "start_time": "2022-11-23T16:38:26.819Z"
   },
   {
    "duration": 9,
    "start_time": "2022-11-23T16:38:26.826Z"
   },
   {
    "duration": 202,
    "start_time": "2022-11-23T16:38:26.852Z"
   },
   {
    "duration": 6,
    "start_time": "2022-11-23T16:38:27.055Z"
   },
   {
    "duration": 196,
    "start_time": "2022-11-23T16:38:27.062Z"
   },
   {
    "duration": 5,
    "start_time": "2022-11-23T16:38:27.260Z"
   },
   {
    "duration": 198,
    "start_time": "2022-11-23T16:38:27.267Z"
   },
   {
    "duration": 6,
    "start_time": "2022-11-23T16:38:27.466Z"
   },
   {
    "duration": 201,
    "start_time": "2022-11-23T16:38:27.474Z"
   },
   {
    "duration": 7,
    "start_time": "2022-11-23T16:38:27.676Z"
   },
   {
    "duration": 28,
    "start_time": "2022-11-23T16:38:27.684Z"
   },
   {
    "duration": 209,
    "start_time": "2022-11-23T16:38:27.714Z"
   },
   {
    "duration": 6,
    "start_time": "2022-11-23T16:38:27.925Z"
   },
   {
    "duration": 201,
    "start_time": "2022-11-23T16:38:27.932Z"
   },
   {
    "duration": 6,
    "start_time": "2022-11-23T16:38:28.134Z"
   },
   {
    "duration": 269,
    "start_time": "2022-11-23T16:38:28.150Z"
   },
   {
    "duration": 7,
    "start_time": "2022-11-23T16:38:28.420Z"
   },
   {
    "duration": 203,
    "start_time": "2022-11-23T16:38:28.429Z"
   },
   {
    "duration": 5,
    "start_time": "2022-11-23T16:38:28.634Z"
   },
   {
    "duration": 34,
    "start_time": "2022-11-23T16:38:28.641Z"
   },
   {
    "duration": 14,
    "start_time": "2022-11-23T16:38:28.677Z"
   },
   {
    "duration": 26,
    "start_time": "2022-11-23T16:38:28.692Z"
   },
   {
    "duration": 21,
    "start_time": "2022-11-23T16:38:28.721Z"
   },
   {
    "duration": 152,
    "start_time": "2022-11-23T16:38:43.473Z"
   },
   {
    "duration": 148,
    "start_time": "2022-11-23T16:39:05.328Z"
   },
   {
    "duration": 173,
    "start_time": "2022-11-23T16:39:12.025Z"
   },
   {
    "duration": 161,
    "start_time": "2022-11-23T16:39:27.432Z"
   },
   {
    "duration": 175,
    "start_time": "2022-11-23T16:39:44.539Z"
   },
   {
    "duration": 155,
    "start_time": "2022-11-23T16:44:26.071Z"
   },
   {
    "duration": 146,
    "start_time": "2022-11-23T16:44:52.318Z"
   },
   {
    "duration": 206,
    "start_time": "2022-11-23T16:45:19.077Z"
   },
   {
    "duration": 136,
    "start_time": "2022-11-23T16:45:38.726Z"
   },
   {
    "duration": 310,
    "start_time": "2022-11-23T16:50:11.524Z"
   },
   {
    "duration": 2,
    "start_time": "2022-11-23T16:51:06.301Z"
   },
   {
    "duration": 163,
    "start_time": "2022-11-23T16:51:12.957Z"
   },
   {
    "duration": 173,
    "start_time": "2022-11-23T16:51:30.131Z"
   },
   {
    "duration": 175,
    "start_time": "2022-11-23T16:51:35.555Z"
   },
   {
    "duration": 151,
    "start_time": "2022-11-23T16:51:42.915Z"
   },
   {
    "duration": 161,
    "start_time": "2022-11-23T16:52:10.203Z"
   },
   {
    "duration": 163,
    "start_time": "2022-11-23T16:52:26.579Z"
   },
   {
    "duration": 200,
    "start_time": "2022-11-23T16:52:49.466Z"
   },
   {
    "duration": 145,
    "start_time": "2022-11-23T16:53:50.682Z"
   },
   {
    "duration": 204,
    "start_time": "2022-11-23T16:54:09.573Z"
   },
   {
    "duration": 145,
    "start_time": "2022-11-23T16:54:45.738Z"
   },
   {
    "duration": 212,
    "start_time": "2022-11-23T16:55:10.921Z"
   },
   {
    "duration": 125,
    "start_time": "2022-11-23T16:55:32.761Z"
   },
   {
    "duration": 169,
    "start_time": "2022-11-23T16:56:03.290Z"
   },
   {
    "duration": 183,
    "start_time": "2022-11-23T16:56:28.641Z"
   },
   {
    "duration": 181,
    "start_time": "2022-11-23T16:56:44.017Z"
   },
   {
    "duration": 147,
    "start_time": "2022-11-23T16:57:17.593Z"
   },
   {
    "duration": 167,
    "start_time": "2022-11-23T16:57:33.192Z"
   },
   {
    "duration": 146,
    "start_time": "2022-11-23T17:01:27.783Z"
   },
   {
    "duration": 9,
    "start_time": "2022-11-23T17:15:23.248Z"
   },
   {
    "duration": 11,
    "start_time": "2022-11-23T17:15:36.354Z"
   },
   {
    "duration": 13,
    "start_time": "2022-11-23T17:15:42.120Z"
   },
   {
    "duration": 174,
    "start_time": "2022-11-23T17:15:54.157Z"
   },
   {
    "duration": 187,
    "start_time": "2022-11-23T17:16:29.522Z"
   },
   {
    "duration": 163,
    "start_time": "2022-11-23T17:17:20.656Z"
   },
   {
    "duration": 21,
    "start_time": "2022-11-23T17:17:59.280Z"
   },
   {
    "duration": 13,
    "start_time": "2022-11-23T17:18:14.448Z"
   },
   {
    "duration": 19,
    "start_time": "2022-11-23T17:18:23.823Z"
   },
   {
    "duration": 227,
    "start_time": "2022-11-23T17:19:29.208Z"
   },
   {
    "duration": 168,
    "start_time": "2022-11-23T17:20:26.246Z"
   },
   {
    "duration": 170,
    "start_time": "2022-11-23T17:20:40.581Z"
   },
   {
    "duration": 1211,
    "start_time": "2022-11-23T17:21:10.646Z"
   },
   {
    "duration": 637,
    "start_time": "2022-11-23T17:26:32.321Z"
   },
   {
    "duration": 119,
    "start_time": "2022-11-23T17:26:32.960Z"
   },
   {
    "duration": 16,
    "start_time": "2022-11-23T17:26:33.081Z"
   },
   {
    "duration": 2041,
    "start_time": "2022-11-23T17:26:33.099Z"
   },
   {
    "duration": 5,
    "start_time": "2022-11-23T17:26:35.143Z"
   },
   {
    "duration": 16,
    "start_time": "2022-11-23T17:26:35.149Z"
   },
   {
    "duration": 16,
    "start_time": "2022-11-23T17:26:35.167Z"
   },
   {
    "duration": 7,
    "start_time": "2022-11-23T17:26:35.185Z"
   },
   {
    "duration": 17,
    "start_time": "2022-11-23T17:26:35.194Z"
   },
   {
    "duration": 9,
    "start_time": "2022-11-23T17:26:35.213Z"
   },
   {
    "duration": 19,
    "start_time": "2022-11-23T17:26:35.223Z"
   },
   {
    "duration": 11,
    "start_time": "2022-11-23T17:26:35.244Z"
   },
   {
    "duration": 11,
    "start_time": "2022-11-23T17:26:35.256Z"
   },
   {
    "duration": 16,
    "start_time": "2022-11-23T17:26:35.271Z"
   },
   {
    "duration": 108,
    "start_time": "2022-11-23T17:26:35.289Z"
   },
   {
    "duration": 9,
    "start_time": "2022-11-23T17:26:35.399Z"
   },
   {
    "duration": 16,
    "start_time": "2022-11-23T17:26:35.409Z"
   },
   {
    "duration": 30,
    "start_time": "2022-11-23T17:26:35.427Z"
   },
   {
    "duration": 12,
    "start_time": "2022-11-23T17:26:35.458Z"
   },
   {
    "duration": 259,
    "start_time": "2022-11-23T17:26:35.472Z"
   },
   {
    "duration": 6,
    "start_time": "2022-11-23T17:26:35.733Z"
   },
   {
    "duration": 26,
    "start_time": "2022-11-23T17:26:35.751Z"
   },
   {
    "duration": 4,
    "start_time": "2022-11-23T17:26:35.779Z"
   },
   {
    "duration": 67,
    "start_time": "2022-11-23T17:26:35.785Z"
   },
   {
    "duration": 12,
    "start_time": "2022-11-23T17:26:35.854Z"
   },
   {
    "duration": 27,
    "start_time": "2022-11-23T17:26:35.868Z"
   },
   {
    "duration": 178,
    "start_time": "2022-11-23T17:26:35.898Z"
   },
   {
    "duration": 155,
    "start_time": "2022-11-23T17:26:36.079Z"
   },
   {
    "duration": 15,
    "start_time": "2022-11-23T17:26:36.236Z"
   },
   {
    "duration": 8,
    "start_time": "2022-11-23T17:26:36.253Z"
   },
   {
    "duration": 139,
    "start_time": "2022-11-23T17:26:36.263Z"
   },
   {
    "duration": 6,
    "start_time": "2022-11-23T17:26:36.404Z"
   },
   {
    "duration": 27,
    "start_time": "2022-11-23T17:26:36.411Z"
   },
   {
    "duration": 125,
    "start_time": "2022-11-23T17:26:36.440Z"
   },
   {
    "duration": 8,
    "start_time": "2022-11-23T17:26:36.567Z"
   },
   {
    "duration": 10,
    "start_time": "2022-11-23T17:26:36.577Z"
   },
   {
    "duration": 14,
    "start_time": "2022-11-23T17:26:36.589Z"
   },
   {
    "duration": 15,
    "start_time": "2022-11-23T17:26:36.605Z"
   },
   {
    "duration": 35,
    "start_time": "2022-11-23T17:26:36.622Z"
   },
   {
    "duration": 9,
    "start_time": "2022-11-23T17:26:36.659Z"
   },
   {
    "duration": 10,
    "start_time": "2022-11-23T17:26:36.673Z"
   },
   {
    "duration": 453,
    "start_time": "2022-11-23T17:26:36.685Z"
   },
   {
    "duration": 4,
    "start_time": "2022-11-23T17:26:37.140Z"
   },
   {
    "duration": 173,
    "start_time": "2022-11-23T17:26:37.150Z"
   },
   {
    "duration": 188,
    "start_time": "2022-11-23T17:26:37.325Z"
   },
   {
    "duration": 188,
    "start_time": "2022-11-23T17:26:37.515Z"
   },
   {
    "duration": 194,
    "start_time": "2022-11-23T17:26:37.705Z"
   },
   {
    "duration": 159,
    "start_time": "2022-11-23T17:26:37.901Z"
   },
   {
    "duration": 210,
    "start_time": "2022-11-23T17:26:38.062Z"
   },
   {
    "duration": 163,
    "start_time": "2022-11-23T17:26:38.273Z"
   },
   {
    "duration": 142,
    "start_time": "2022-11-23T17:26:38.438Z"
   },
   {
    "duration": 149,
    "start_time": "2022-11-23T17:26:38.582Z"
   },
   {
    "duration": 187,
    "start_time": "2022-11-23T17:26:38.733Z"
   },
   {
    "duration": 275,
    "start_time": "2022-11-23T17:26:38.921Z"
   },
   {
    "duration": 184,
    "start_time": "2022-11-23T17:26:39.198Z"
   },
   {
    "duration": 176,
    "start_time": "2022-11-23T17:26:39.383Z"
   },
   {
    "duration": 209,
    "start_time": "2022-11-23T17:26:39.560Z"
   },
   {
    "duration": 199,
    "start_time": "2022-11-23T17:26:39.772Z"
   },
   {
    "duration": 8,
    "start_time": "2022-11-23T17:26:39.973Z"
   },
   {
    "duration": 9,
    "start_time": "2022-11-23T17:26:39.983Z"
   },
   {
    "duration": 222,
    "start_time": "2022-11-23T17:26:39.994Z"
   },
   {
    "duration": 7,
    "start_time": "2022-11-23T17:26:40.218Z"
   },
   {
    "duration": 216,
    "start_time": "2022-11-23T17:26:40.228Z"
   },
   {
    "duration": 10,
    "start_time": "2022-11-23T17:26:40.446Z"
   },
   {
    "duration": 234,
    "start_time": "2022-11-23T17:26:40.458Z"
   },
   {
    "duration": 7,
    "start_time": "2022-11-23T17:26:40.695Z"
   },
   {
    "duration": 184,
    "start_time": "2022-11-23T17:26:40.704Z"
   },
   {
    "duration": 23,
    "start_time": "2022-11-23T17:26:40.890Z"
   },
   {
    "duration": 221,
    "start_time": "2022-11-23T17:26:40.914Z"
   },
   {
    "duration": 15,
    "start_time": "2022-11-23T17:26:41.137Z"
   },
   {
    "duration": 208,
    "start_time": "2022-11-23T17:26:41.154Z"
   },
   {
    "duration": 6,
    "start_time": "2022-11-23T17:26:41.364Z"
   },
   {
    "duration": 288,
    "start_time": "2022-11-23T17:26:41.371Z"
   },
   {
    "duration": 7,
    "start_time": "2022-11-23T17:26:41.661Z"
   },
   {
    "duration": 214,
    "start_time": "2022-11-23T17:26:41.670Z"
   },
   {
    "duration": 7,
    "start_time": "2022-11-23T17:26:41.886Z"
   },
   {
    "duration": 41,
    "start_time": "2022-11-23T17:26:41.895Z"
   },
   {
    "duration": 21,
    "start_time": "2022-11-23T17:26:41.938Z"
   },
   {
    "duration": 26,
    "start_time": "2022-11-23T17:26:41.961Z"
   },
   {
    "duration": 26,
    "start_time": "2022-11-23T17:26:41.989Z"
   },
   {
    "duration": 1849,
    "start_time": "2022-11-23T17:27:20.227Z"
   },
   {
    "duration": 677,
    "start_time": "2022-11-23T17:27:39.898Z"
   },
   {
    "duration": 153,
    "start_time": "2022-11-23T17:27:40.577Z"
   },
   {
    "duration": 25,
    "start_time": "2022-11-23T17:27:40.732Z"
   },
   {
    "duration": 2037,
    "start_time": "2022-11-23T17:27:40.759Z"
   },
   {
    "duration": 4,
    "start_time": "2022-11-23T17:27:42.798Z"
   },
   {
    "duration": 7,
    "start_time": "2022-11-23T17:27:42.804Z"
   },
   {
    "duration": 10,
    "start_time": "2022-11-23T17:27:42.813Z"
   },
   {
    "duration": 6,
    "start_time": "2022-11-23T17:27:42.825Z"
   },
   {
    "duration": 21,
    "start_time": "2022-11-23T17:27:42.833Z"
   },
   {
    "duration": 6,
    "start_time": "2022-11-23T17:27:42.857Z"
   },
   {
    "duration": 12,
    "start_time": "2022-11-23T17:27:42.864Z"
   },
   {
    "duration": 7,
    "start_time": "2022-11-23T17:27:42.877Z"
   },
   {
    "duration": 8,
    "start_time": "2022-11-23T17:27:42.886Z"
   },
   {
    "duration": 12,
    "start_time": "2022-11-23T17:27:42.896Z"
   },
   {
    "duration": 120,
    "start_time": "2022-11-23T17:27:42.910Z"
   },
   {
    "duration": 8,
    "start_time": "2022-11-23T17:27:43.031Z"
   },
   {
    "duration": 16,
    "start_time": "2022-11-23T17:27:43.055Z"
   },
   {
    "duration": 6,
    "start_time": "2022-11-23T17:27:43.073Z"
   },
   {
    "duration": 6,
    "start_time": "2022-11-23T17:27:43.081Z"
   },
   {
    "duration": 248,
    "start_time": "2022-11-23T17:27:43.088Z"
   },
   {
    "duration": 6,
    "start_time": "2022-11-23T17:27:43.338Z"
   },
   {
    "duration": 28,
    "start_time": "2022-11-23T17:27:43.345Z"
   },
   {
    "duration": 4,
    "start_time": "2022-11-23T17:27:43.375Z"
   },
   {
    "duration": 40,
    "start_time": "2022-11-23T17:27:43.381Z"
   },
   {
    "duration": 32,
    "start_time": "2022-11-23T17:27:43.423Z"
   },
   {
    "duration": 7,
    "start_time": "2022-11-23T17:27:43.457Z"
   },
   {
    "duration": 145,
    "start_time": "2022-11-23T17:27:43.466Z"
   },
   {
    "duration": 174,
    "start_time": "2022-11-23T17:27:43.615Z"
   },
   {
    "duration": 7,
    "start_time": "2022-11-23T17:27:43.791Z"
   },
   {
    "duration": 22,
    "start_time": "2022-11-23T17:27:43.800Z"
   },
   {
    "duration": 136,
    "start_time": "2022-11-23T17:27:43.824Z"
   },
   {
    "duration": 6,
    "start_time": "2022-11-23T17:27:43.962Z"
   },
   {
    "duration": 9,
    "start_time": "2022-11-23T17:27:43.970Z"
   },
   {
    "duration": 134,
    "start_time": "2022-11-23T17:27:43.981Z"
   },
   {
    "duration": 7,
    "start_time": "2022-11-23T17:27:44.117Z"
   },
   {
    "duration": 25,
    "start_time": "2022-11-23T17:27:44.127Z"
   },
   {
    "duration": 6,
    "start_time": "2022-11-23T17:27:44.153Z"
   },
   {
    "duration": 25,
    "start_time": "2022-11-23T17:27:44.161Z"
   },
   {
    "duration": 14,
    "start_time": "2022-11-23T17:27:44.189Z"
   },
   {
    "duration": 6,
    "start_time": "2022-11-23T17:27:44.206Z"
   },
   {
    "duration": 8,
    "start_time": "2022-11-23T17:27:44.214Z"
   },
   {
    "duration": 435,
    "start_time": "2022-11-23T17:27:44.224Z"
   },
   {
    "duration": 5,
    "start_time": "2022-11-23T17:27:44.661Z"
   },
   {
    "duration": 189,
    "start_time": "2022-11-23T17:27:44.668Z"
   },
   {
    "duration": 185,
    "start_time": "2022-11-23T17:27:44.860Z"
   },
   {
    "duration": 180,
    "start_time": "2022-11-23T17:27:45.050Z"
   },
   {
    "duration": 192,
    "start_time": "2022-11-23T17:27:45.232Z"
   },
   {
    "duration": 180,
    "start_time": "2022-11-23T17:27:45.427Z"
   },
   {
    "duration": 207,
    "start_time": "2022-11-23T17:27:45.609Z"
   },
   {
    "duration": 170,
    "start_time": "2022-11-23T17:27:45.819Z"
   },
   {
    "duration": 143,
    "start_time": "2022-11-23T17:27:45.991Z"
   },
   {
    "duration": 153,
    "start_time": "2022-11-23T17:27:46.136Z"
   },
   {
    "duration": 184,
    "start_time": "2022-11-23T17:27:46.291Z"
   },
   {
    "duration": 283,
    "start_time": "2022-11-23T17:27:46.477Z"
   },
   {
    "duration": 199,
    "start_time": "2022-11-23T17:27:46.761Z"
   },
   {
    "duration": 180,
    "start_time": "2022-11-23T17:27:46.961Z"
   },
   {
    "duration": 170,
    "start_time": "2022-11-23T17:27:47.143Z"
   },
   {
    "duration": 157,
    "start_time": "2022-11-23T17:27:47.315Z"
   },
   {
    "duration": 7,
    "start_time": "2022-11-23T17:27:47.474Z"
   },
   {
    "duration": 7,
    "start_time": "2022-11-23T17:27:47.483Z"
   },
   {
    "duration": 216,
    "start_time": "2022-11-23T17:27:47.492Z"
   },
   {
    "duration": 6,
    "start_time": "2022-11-23T17:27:47.710Z"
   },
   {
    "duration": 208,
    "start_time": "2022-11-23T17:27:47.718Z"
   },
   {
    "duration": 6,
    "start_time": "2022-11-23T17:27:47.928Z"
   },
   {
    "duration": 208,
    "start_time": "2022-11-23T17:27:47.935Z"
   },
   {
    "duration": 7,
    "start_time": "2022-11-23T17:27:48.151Z"
   },
   {
    "duration": 171,
    "start_time": "2022-11-23T17:27:48.160Z"
   },
   {
    "duration": 27,
    "start_time": "2022-11-23T17:27:48.333Z"
   },
   {
    "duration": 197,
    "start_time": "2022-11-23T17:27:48.362Z"
   },
   {
    "duration": 5,
    "start_time": "2022-11-23T17:27:48.561Z"
   },
   {
    "duration": 1301,
    "start_time": "2022-11-23T17:27:48.568Z"
   },
   {
    "duration": 0,
    "start_time": "2022-11-23T17:27:49.870Z"
   },
   {
    "duration": 0,
    "start_time": "2022-11-23T17:27:49.872Z"
   },
   {
    "duration": 0,
    "start_time": "2022-11-23T17:27:49.874Z"
   },
   {
    "duration": 0,
    "start_time": "2022-11-23T17:27:49.875Z"
   },
   {
    "duration": 0,
    "start_time": "2022-11-23T17:27:49.876Z"
   },
   {
    "duration": 0,
    "start_time": "2022-11-23T17:27:49.877Z"
   },
   {
    "duration": 0,
    "start_time": "2022-11-23T17:27:49.879Z"
   },
   {
    "duration": 0,
    "start_time": "2022-11-23T17:27:49.880Z"
   },
   {
    "duration": 0,
    "start_time": "2022-11-23T17:27:49.882Z"
   },
   {
    "duration": 0,
    "start_time": "2022-11-23T17:27:49.883Z"
   },
   {
    "duration": 1184,
    "start_time": "2022-11-23T17:28:17.692Z"
   },
   {
    "duration": 14,
    "start_time": "2022-11-23T17:28:34.676Z"
   },
   {
    "duration": 2384,
    "start_time": "2022-11-23T17:29:13.971Z"
   },
   {
    "duration": 1168,
    "start_time": "2022-11-23T17:31:21.457Z"
   },
   {
    "duration": 136,
    "start_time": "2022-11-23T17:31:37.227Z"
   },
   {
    "duration": 198,
    "start_time": "2022-11-23T17:31:46.953Z"
   },
   {
    "duration": 138,
    "start_time": "2022-11-23T17:33:56.832Z"
   },
   {
    "duration": 163,
    "start_time": "2022-11-23T17:35:01.041Z"
   },
   {
    "duration": 168,
    "start_time": "2022-11-23T17:35:07.361Z"
   },
   {
    "duration": 158,
    "start_time": "2022-11-23T17:35:13.584Z"
   },
   {
    "duration": 161,
    "start_time": "2022-11-23T17:35:20.265Z"
   },
   {
    "duration": 162,
    "start_time": "2022-11-23T17:35:24.552Z"
   },
   {
    "duration": 153,
    "start_time": "2022-11-23T17:35:31.592Z"
   },
   {
    "duration": 144,
    "start_time": "2022-11-23T17:35:39.311Z"
   },
   {
    "duration": 153,
    "start_time": "2022-11-23T17:35:41.871Z"
   },
   {
    "duration": 155,
    "start_time": "2022-11-23T17:38:48.414Z"
   },
   {
    "duration": 14,
    "start_time": "2022-11-23T17:39:54.967Z"
   },
   {
    "duration": 232,
    "start_time": "2022-11-23T17:41:28.182Z"
   },
   {
    "duration": 158,
    "start_time": "2022-11-23T17:41:38.861Z"
   },
   {
    "duration": 1228,
    "start_time": "2022-11-23T17:43:48.244Z"
   },
   {
    "duration": 162,
    "start_time": "2022-11-23T17:44:01.980Z"
   },
   {
    "duration": 1234,
    "start_time": "2022-11-23T17:44:05.636Z"
   },
   {
    "duration": 1263,
    "start_time": "2022-11-23T17:44:44.819Z"
   },
   {
    "duration": 171,
    "start_time": "2022-11-23T17:45:11.852Z"
   },
   {
    "duration": 1341,
    "start_time": "2022-11-23T17:45:22.952Z"
   },
   {
    "duration": 1358,
    "start_time": "2022-11-23T17:45:33.116Z"
   },
   {
    "duration": 167,
    "start_time": "2022-11-23T17:45:42.011Z"
   },
   {
    "duration": 157,
    "start_time": "2022-11-23T17:45:54.588Z"
   },
   {
    "duration": 264,
    "start_time": "2022-11-23T17:46:02.588Z"
   },
   {
    "duration": 162,
    "start_time": "2022-11-23T17:46:27.002Z"
   },
   {
    "duration": 177,
    "start_time": "2022-11-23T17:46:42.730Z"
   },
   {
    "duration": 280,
    "start_time": "2022-11-23T17:47:06.612Z"
   },
   {
    "duration": 180,
    "start_time": "2022-11-23T17:47:14.828Z"
   },
   {
    "duration": 166,
    "start_time": "2022-11-23T17:47:34.586Z"
   },
   {
    "duration": 281,
    "start_time": "2022-11-23T17:47:47.954Z"
   },
   {
    "duration": 215,
    "start_time": "2022-11-23T17:47:59.666Z"
   },
   {
    "duration": 276,
    "start_time": "2022-11-23T17:48:27.154Z"
   },
   {
    "duration": 193,
    "start_time": "2022-11-23T17:49:44.801Z"
   },
   {
    "duration": 154,
    "start_time": "2022-11-23T17:49:57.106Z"
   },
   {
    "duration": 374,
    "start_time": "2022-11-23T17:50:32.080Z"
   },
   {
    "duration": 291,
    "start_time": "2022-11-23T17:50:39.497Z"
   },
   {
    "duration": 1296,
    "start_time": "2022-11-23T17:52:06.457Z"
   },
   {
    "duration": 259,
    "start_time": "2022-11-23T17:52:34.457Z"
   },
   {
    "duration": 163,
    "start_time": "2022-11-23T17:52:44.664Z"
   },
   {
    "duration": 238,
    "start_time": "2022-11-23T17:52:48.889Z"
   },
   {
    "duration": 287,
    "start_time": "2022-11-23T17:53:25.607Z"
   },
   {
    "duration": 161,
    "start_time": "2022-11-23T17:53:39.356Z"
   },
   {
    "duration": 283,
    "start_time": "2022-11-23T17:53:44.727Z"
   },
   {
    "duration": 270,
    "start_time": "2022-11-23T17:54:15.495Z"
   },
   {
    "duration": 1287,
    "start_time": "2022-11-23T17:54:27.449Z"
   },
   {
    "duration": 444,
    "start_time": "2022-11-23T17:54:41.337Z"
   },
   {
    "duration": 368,
    "start_time": "2022-11-23T17:54:55.495Z"
   },
   {
    "duration": 441,
    "start_time": "2022-11-23T17:55:01.983Z"
   },
   {
    "duration": 15,
    "start_time": "2022-11-23T17:57:11.607Z"
   },
   {
    "duration": 361,
    "start_time": "2022-11-23T17:57:20.783Z"
   },
   {
    "duration": 288,
    "start_time": "2022-11-23T17:57:31.165Z"
   },
   {
    "duration": 189,
    "start_time": "2022-11-23T17:57:42.861Z"
   },
   {
    "duration": 210,
    "start_time": "2022-11-23T17:57:46.918Z"
   },
   {
    "duration": 193,
    "start_time": "2022-11-23T17:57:51.381Z"
   },
   {
    "duration": 259,
    "start_time": "2022-11-23T17:58:01.816Z"
   },
   {
    "duration": 308,
    "start_time": "2022-11-23T17:58:33.729Z"
   },
   {
    "duration": 287,
    "start_time": "2022-11-23T17:58:40.457Z"
   },
   {
    "duration": 398,
    "start_time": "2022-11-23T17:58:45.133Z"
   },
   {
    "duration": 375,
    "start_time": "2022-11-23T17:58:53.591Z"
   },
   {
    "duration": 253,
    "start_time": "2022-11-23T18:00:13.708Z"
   },
   {
    "duration": 147,
    "start_time": "2022-11-23T18:00:22.551Z"
   },
   {
    "duration": 134,
    "start_time": "2022-11-23T18:00:28.572Z"
   },
   {
    "duration": 90,
    "start_time": "2022-11-23T18:01:55.132Z"
   },
   {
    "duration": 735,
    "start_time": "2022-11-23T18:03:10.337Z"
   },
   {
    "duration": 170,
    "start_time": "2022-11-23T18:03:11.074Z"
   },
   {
    "duration": 26,
    "start_time": "2022-11-23T18:03:11.246Z"
   },
   {
    "duration": 2073,
    "start_time": "2022-11-23T18:03:11.275Z"
   },
   {
    "duration": 5,
    "start_time": "2022-11-23T18:03:13.350Z"
   },
   {
    "duration": 9,
    "start_time": "2022-11-23T18:03:13.356Z"
   },
   {
    "duration": 16,
    "start_time": "2022-11-23T18:03:13.367Z"
   },
   {
    "duration": 7,
    "start_time": "2022-11-23T18:03:13.385Z"
   },
   {
    "duration": 6,
    "start_time": "2022-11-23T18:03:13.394Z"
   },
   {
    "duration": 4,
    "start_time": "2022-11-23T18:03:13.403Z"
   },
   {
    "duration": 45,
    "start_time": "2022-11-23T18:03:13.408Z"
   },
   {
    "duration": 8,
    "start_time": "2022-11-23T18:03:13.455Z"
   },
   {
    "duration": 5,
    "start_time": "2022-11-23T18:03:13.465Z"
   },
   {
    "duration": 15,
    "start_time": "2022-11-23T18:03:13.472Z"
   },
   {
    "duration": 113,
    "start_time": "2022-11-23T18:03:13.489Z"
   },
   {
    "duration": 9,
    "start_time": "2022-11-23T18:03:13.604Z"
   },
   {
    "duration": 25,
    "start_time": "2022-11-23T18:03:13.614Z"
   },
   {
    "duration": 15,
    "start_time": "2022-11-23T18:03:13.641Z"
   },
   {
    "duration": 10,
    "start_time": "2022-11-23T18:03:13.658Z"
   },
   {
    "duration": 243,
    "start_time": "2022-11-23T18:03:13.670Z"
   },
   {
    "duration": 6,
    "start_time": "2022-11-23T18:03:13.915Z"
   },
   {
    "duration": 34,
    "start_time": "2022-11-23T18:03:13.923Z"
   },
   {
    "duration": 4,
    "start_time": "2022-11-23T18:03:13.959Z"
   },
   {
    "duration": 36,
    "start_time": "2022-11-23T18:03:13.964Z"
   },
   {
    "duration": 22,
    "start_time": "2022-11-23T18:03:14.002Z"
   },
   {
    "duration": 8,
    "start_time": "2022-11-23T18:03:14.026Z"
   },
   {
    "duration": 146,
    "start_time": "2022-11-23T18:03:14.036Z"
   },
   {
    "duration": 144,
    "start_time": "2022-11-23T18:03:14.188Z"
   },
   {
    "duration": 6,
    "start_time": "2022-11-23T18:03:14.334Z"
   },
   {
    "duration": 8,
    "start_time": "2022-11-23T18:03:14.350Z"
   },
   {
    "duration": 132,
    "start_time": "2022-11-23T18:03:14.359Z"
   },
   {
    "duration": 6,
    "start_time": "2022-11-23T18:03:14.492Z"
   },
   {
    "duration": 10,
    "start_time": "2022-11-23T18:03:14.499Z"
   },
   {
    "duration": 128,
    "start_time": "2022-11-23T18:03:14.511Z"
   },
   {
    "duration": 13,
    "start_time": "2022-11-23T18:03:14.641Z"
   },
   {
    "duration": 10,
    "start_time": "2022-11-23T18:03:14.656Z"
   },
   {
    "duration": 6,
    "start_time": "2022-11-23T18:03:14.668Z"
   },
   {
    "duration": 13,
    "start_time": "2022-11-23T18:03:14.676Z"
   },
   {
    "duration": 17,
    "start_time": "2022-11-23T18:03:14.691Z"
   },
   {
    "duration": 7,
    "start_time": "2022-11-23T18:03:14.709Z"
   },
   {
    "duration": 5,
    "start_time": "2022-11-23T18:03:14.718Z"
   },
   {
    "duration": 447,
    "start_time": "2022-11-23T18:03:14.725Z"
   },
   {
    "duration": 5,
    "start_time": "2022-11-23T18:03:15.174Z"
   },
   {
    "duration": 180,
    "start_time": "2022-11-23T18:03:15.181Z"
   },
   {
    "duration": 168,
    "start_time": "2022-11-23T18:03:15.363Z"
   },
   {
    "duration": 178,
    "start_time": "2022-11-23T18:03:15.534Z"
   },
   {
    "duration": 186,
    "start_time": "2022-11-23T18:03:15.714Z"
   },
   {
    "duration": 156,
    "start_time": "2022-11-23T18:03:15.902Z"
   },
   {
    "duration": 219,
    "start_time": "2022-11-23T18:03:16.059Z"
   },
   {
    "duration": 172,
    "start_time": "2022-11-23T18:03:16.280Z"
   },
   {
    "duration": 130,
    "start_time": "2022-11-23T18:03:16.454Z"
   },
   {
    "duration": 202,
    "start_time": "2022-11-23T18:03:16.586Z"
   },
   {
    "duration": 235,
    "start_time": "2022-11-23T18:03:16.790Z"
   },
   {
    "duration": 246,
    "start_time": "2022-11-23T18:03:17.028Z"
   },
   {
    "duration": 168,
    "start_time": "2022-11-23T18:03:17.276Z"
   },
   {
    "duration": 150,
    "start_time": "2022-11-23T18:03:17.446Z"
   },
   {
    "duration": 137,
    "start_time": "2022-11-23T18:03:17.598Z"
   },
   {
    "duration": 186,
    "start_time": "2022-11-23T18:03:17.737Z"
   },
   {
    "duration": 6,
    "start_time": "2022-11-23T18:03:17.925Z"
   },
   {
    "duration": 22,
    "start_time": "2022-11-23T18:03:17.932Z"
   },
   {
    "duration": 218,
    "start_time": "2022-11-23T18:03:17.955Z"
   },
   {
    "duration": 7,
    "start_time": "2022-11-23T18:03:18.184Z"
   },
   {
    "duration": 221,
    "start_time": "2022-11-23T18:03:18.192Z"
   },
   {
    "duration": 9,
    "start_time": "2022-11-23T18:03:18.415Z"
   },
   {
    "duration": 230,
    "start_time": "2022-11-23T18:03:18.426Z"
   },
   {
    "duration": 8,
    "start_time": "2022-11-23T18:03:18.658Z"
   },
   {
    "duration": 253,
    "start_time": "2022-11-23T18:03:18.667Z"
   },
   {
    "duration": 185,
    "start_time": "2022-11-23T18:03:18.922Z"
   },
   {
    "duration": 326,
    "start_time": "2022-11-23T18:03:19.109Z"
   },
   {
    "duration": 449,
    "start_time": "2022-11-23T18:03:19.437Z"
   },
   {
    "duration": 166,
    "start_time": "2022-11-23T18:03:19.888Z"
   },
   {
    "duration": 26,
    "start_time": "2022-11-23T18:03:20.056Z"
   },
   {
    "duration": 8,
    "start_time": "2022-11-23T18:03:20.084Z"
   },
   {
    "duration": 13,
    "start_time": "2022-11-23T18:03:20.093Z"
   },
   {
    "duration": 25,
    "start_time": "2022-11-23T18:03:20.108Z"
   },
   {
    "duration": 12,
    "start_time": "2022-11-23T18:04:08.698Z"
   },
   {
    "duration": 230,
    "start_time": "2022-11-23T18:06:02.460Z"
   },
   {
    "duration": 275,
    "start_time": "2022-11-23T18:06:30.090Z"
   },
   {
    "duration": 180,
    "start_time": "2022-11-23T18:06:57.818Z"
   },
   {
    "duration": 173,
    "start_time": "2022-11-23T18:07:02.787Z"
   },
   {
    "duration": 81,
    "start_time": "2022-11-23T18:09:46.977Z"
   },
   {
    "duration": 699,
    "start_time": "2022-11-23T18:10:01.227Z"
   },
   {
    "duration": 136,
    "start_time": "2022-11-23T18:10:01.929Z"
   },
   {
    "duration": 25,
    "start_time": "2022-11-23T18:10:02.070Z"
   },
   {
    "duration": 2127,
    "start_time": "2022-11-23T18:10:02.097Z"
   },
   {
    "duration": 5,
    "start_time": "2022-11-23T18:10:04.227Z"
   },
   {
    "duration": 20,
    "start_time": "2022-11-23T18:10:04.234Z"
   },
   {
    "duration": 33,
    "start_time": "2022-11-23T18:10:04.256Z"
   },
   {
    "duration": 29,
    "start_time": "2022-11-23T18:10:04.291Z"
   },
   {
    "duration": 6,
    "start_time": "2022-11-23T18:10:04.324Z"
   },
   {
    "duration": 9,
    "start_time": "2022-11-23T18:10:04.332Z"
   },
   {
    "duration": 16,
    "start_time": "2022-11-23T18:10:04.344Z"
   },
   {
    "duration": 21,
    "start_time": "2022-11-23T18:10:04.362Z"
   },
   {
    "duration": 8,
    "start_time": "2022-11-23T18:10:04.385Z"
   },
   {
    "duration": 15,
    "start_time": "2022-11-23T18:10:04.395Z"
   },
   {
    "duration": 102,
    "start_time": "2022-11-23T18:10:04.412Z"
   },
   {
    "duration": 9,
    "start_time": "2022-11-23T18:10:04.516Z"
   },
   {
    "duration": 29,
    "start_time": "2022-11-23T18:10:04.526Z"
   },
   {
    "duration": 9,
    "start_time": "2022-11-23T18:10:04.557Z"
   },
   {
    "duration": 9,
    "start_time": "2022-11-23T18:10:04.568Z"
   },
   {
    "duration": 269,
    "start_time": "2022-11-23T18:10:04.579Z"
   },
   {
    "duration": 6,
    "start_time": "2022-11-23T18:10:04.851Z"
   },
   {
    "duration": 35,
    "start_time": "2022-11-23T18:10:04.859Z"
   },
   {
    "duration": 4,
    "start_time": "2022-11-23T18:10:04.896Z"
   },
   {
    "duration": 54,
    "start_time": "2022-11-23T18:10:04.901Z"
   },
   {
    "duration": 9,
    "start_time": "2022-11-23T18:10:04.957Z"
   },
   {
    "duration": 14,
    "start_time": "2022-11-23T18:10:04.967Z"
   },
   {
    "duration": 144,
    "start_time": "2022-11-23T18:10:04.985Z"
   },
   {
    "duration": 144,
    "start_time": "2022-11-23T18:10:05.131Z"
   },
   {
    "duration": 6,
    "start_time": "2022-11-23T18:10:05.277Z"
   },
   {
    "duration": 23,
    "start_time": "2022-11-23T18:10:05.284Z"
   },
   {
    "duration": 126,
    "start_time": "2022-11-23T18:10:05.309Z"
   },
   {
    "duration": 15,
    "start_time": "2022-11-23T18:10:05.437Z"
   },
   {
    "duration": 17,
    "start_time": "2022-11-23T18:10:05.454Z"
   },
   {
    "duration": 116,
    "start_time": "2022-11-23T18:10:05.473Z"
   },
   {
    "duration": 6,
    "start_time": "2022-11-23T18:10:05.591Z"
   },
   {
    "duration": 14,
    "start_time": "2022-11-23T18:10:05.599Z"
   },
   {
    "duration": 4,
    "start_time": "2022-11-23T18:10:05.615Z"
   },
   {
    "duration": 31,
    "start_time": "2022-11-23T18:10:05.621Z"
   },
   {
    "duration": 28,
    "start_time": "2022-11-23T18:10:05.654Z"
   },
   {
    "duration": 9,
    "start_time": "2022-11-23T18:10:05.684Z"
   },
   {
    "duration": 6,
    "start_time": "2022-11-23T18:10:05.695Z"
   },
   {
    "duration": 423,
    "start_time": "2022-11-23T18:10:05.703Z"
   },
   {
    "duration": 5,
    "start_time": "2022-11-23T18:10:06.127Z"
   },
   {
    "duration": 182,
    "start_time": "2022-11-23T18:10:06.134Z"
   },
   {
    "duration": 162,
    "start_time": "2022-11-23T18:10:06.318Z"
   },
   {
    "duration": 178,
    "start_time": "2022-11-23T18:10:06.481Z"
   },
   {
    "duration": 201,
    "start_time": "2022-11-23T18:10:06.661Z"
   },
   {
    "duration": 163,
    "start_time": "2022-11-23T18:10:06.864Z"
   },
   {
    "duration": 190,
    "start_time": "2022-11-23T18:10:07.029Z"
   },
   {
    "duration": 192,
    "start_time": "2022-11-23T18:10:07.221Z"
   },
   {
    "duration": 141,
    "start_time": "2022-11-23T18:10:07.414Z"
   },
   {
    "duration": 173,
    "start_time": "2022-11-23T18:10:07.557Z"
   },
   {
    "duration": 227,
    "start_time": "2022-11-23T18:10:07.734Z"
   },
   {
    "duration": 278,
    "start_time": "2022-11-23T18:10:07.963Z"
   },
   {
    "duration": 206,
    "start_time": "2022-11-23T18:10:08.243Z"
   },
   {
    "duration": 161,
    "start_time": "2022-11-23T18:10:08.451Z"
   },
   {
    "duration": 159,
    "start_time": "2022-11-23T18:10:08.614Z"
   },
   {
    "duration": 168,
    "start_time": "2022-11-23T18:10:08.774Z"
   },
   {
    "duration": 10,
    "start_time": "2022-11-23T18:10:08.944Z"
   },
   {
    "duration": 36,
    "start_time": "2022-11-23T18:10:08.956Z"
   },
   {
    "duration": 212,
    "start_time": "2022-11-23T18:10:08.994Z"
   },
   {
    "duration": 7,
    "start_time": "2022-11-23T18:10:09.209Z"
   },
   {
    "duration": 222,
    "start_time": "2022-11-23T18:10:09.218Z"
   },
   {
    "duration": 12,
    "start_time": "2022-11-23T18:10:09.442Z"
   },
   {
    "duration": 242,
    "start_time": "2022-11-23T18:10:09.456Z"
   },
   {
    "duration": 8,
    "start_time": "2022-11-23T18:10:09.700Z"
   },
   {
    "duration": 215,
    "start_time": "2022-11-23T18:10:09.710Z"
   },
   {
    "duration": 148,
    "start_time": "2022-11-23T18:10:09.928Z"
   },
   {
    "duration": 247,
    "start_time": "2022-11-23T18:10:10.078Z"
   },
   {
    "duration": 414,
    "start_time": "2022-11-23T18:10:10.327Z"
   },
   {
    "duration": 170,
    "start_time": "2022-11-23T18:10:10.743Z"
   },
   {
    "duration": 39,
    "start_time": "2022-11-23T18:10:10.914Z"
   },
   {
    "duration": 8,
    "start_time": "2022-11-23T18:10:10.955Z"
   },
   {
    "duration": 10,
    "start_time": "2022-11-23T18:10:10.965Z"
   },
   {
    "duration": 201,
    "start_time": "2022-11-23T18:10:10.976Z"
   },
   {
    "duration": 86,
    "start_time": "2022-11-23T18:10:11.179Z"
   },
   {
    "duration": 9,
    "start_time": "2022-11-23T18:11:08.448Z"
   },
   {
    "duration": 23,
    "start_time": "2022-11-23T18:11:49.519Z"
   },
   {
    "duration": 19,
    "start_time": "2022-11-23T18:13:12.471Z"
   },
   {
    "duration": 12,
    "start_time": "2022-11-23T18:13:52.343Z"
   },
   {
    "duration": 22,
    "start_time": "2022-11-23T18:14:40.751Z"
   },
   {
    "duration": 21,
    "start_time": "2022-11-23T18:14:59.887Z"
   },
   {
    "duration": 21,
    "start_time": "2022-11-23T18:15:02.448Z"
   },
   {
    "duration": 19,
    "start_time": "2022-11-23T18:16:05.141Z"
   },
   {
    "duration": 20,
    "start_time": "2022-11-23T18:16:17.631Z"
   },
   {
    "duration": 959,
    "start_time": "2022-11-23T18:16:47.903Z"
   },
   {
    "duration": 1067,
    "start_time": "2022-11-23T18:17:24.317Z"
   },
   {
    "duration": 29,
    "start_time": "2022-11-23T18:18:04.253Z"
   },
   {
    "duration": 1221,
    "start_time": "2022-11-23T18:18:09.044Z"
   },
   {
    "duration": 936,
    "start_time": "2022-11-23T18:18:16.197Z"
   },
   {
    "duration": 2011,
    "start_time": "2022-11-23T18:18:32.118Z"
   },
   {
    "duration": 1789,
    "start_time": "2022-11-23T18:19:19.826Z"
   },
   {
    "duration": 1059,
    "start_time": "2022-11-23T18:20:37.404Z"
   },
   {
    "duration": 2051,
    "start_time": "2022-11-23T18:20:49.620Z"
   },
   {
    "duration": 1727,
    "start_time": "2022-11-23T18:20:56.806Z"
   },
   {
    "duration": 1919,
    "start_time": "2022-11-23T18:21:03.884Z"
   },
   {
    "duration": 2536,
    "start_time": "2022-11-23T18:21:31.868Z"
   },
   {
    "duration": 2426,
    "start_time": "2022-11-23T18:21:51.267Z"
   },
   {
    "duration": 2620,
    "start_time": "2022-11-23T18:22:00.252Z"
   },
   {
    "duration": 2361,
    "start_time": "2022-11-23T18:22:24.109Z"
   },
   {
    "duration": 2073,
    "start_time": "2022-11-23T18:22:33.836Z"
   },
   {
    "duration": 2074,
    "start_time": "2022-11-23T18:22:47.386Z"
   },
   {
    "duration": 1815,
    "start_time": "2022-11-23T18:23:12.739Z"
   },
   {
    "duration": 1925,
    "start_time": "2022-11-23T18:23:26.817Z"
   },
   {
    "duration": 379,
    "start_time": "2022-11-23T18:25:00.778Z"
   },
   {
    "duration": 221,
    "start_time": "2022-11-23T18:25:25.059Z"
   },
   {
    "duration": 197,
    "start_time": "2022-11-23T18:25:42.010Z"
   },
   {
    "duration": 172,
    "start_time": "2022-11-23T18:26:02.859Z"
   },
   {
    "duration": 138,
    "start_time": "2022-11-23T18:26:25.819Z"
   },
   {
    "duration": 271,
    "start_time": "2022-11-23T18:28:00.754Z"
   },
   {
    "duration": 304,
    "start_time": "2022-11-23T18:29:28.554Z"
   },
   {
    "duration": 302,
    "start_time": "2022-11-23T18:30:21.104Z"
   },
   {
    "duration": 153,
    "start_time": "2022-11-23T18:30:37.905Z"
   },
   {
    "duration": 208,
    "start_time": "2022-11-23T18:31:48.969Z"
   },
   {
    "duration": 2266,
    "start_time": "2022-11-23T18:34:28.062Z"
   },
   {
    "duration": 1937,
    "start_time": "2022-11-23T18:34:53.454Z"
   },
   {
    "duration": 1914,
    "start_time": "2022-11-23T18:35:13.039Z"
   },
   {
    "duration": 325,
    "start_time": "2022-11-23T18:40:46.032Z"
   },
   {
    "duration": 719,
    "start_time": "2022-11-23T18:41:02.715Z"
   },
   {
    "duration": 138,
    "start_time": "2022-11-23T18:41:03.436Z"
   },
   {
    "duration": 19,
    "start_time": "2022-11-23T18:41:03.576Z"
   },
   {
    "duration": 2248,
    "start_time": "2022-11-23T18:41:03.597Z"
   },
   {
    "duration": 6,
    "start_time": "2022-11-23T18:41:05.847Z"
   },
   {
    "duration": 36,
    "start_time": "2022-11-23T18:41:05.855Z"
   },
   {
    "duration": 32,
    "start_time": "2022-11-23T18:41:05.893Z"
   },
   {
    "duration": 30,
    "start_time": "2022-11-23T18:41:05.927Z"
   },
   {
    "duration": 23,
    "start_time": "2022-11-23T18:41:05.960Z"
   },
   {
    "duration": 39,
    "start_time": "2022-11-23T18:41:05.987Z"
   },
   {
    "duration": 36,
    "start_time": "2022-11-23T18:41:06.029Z"
   },
   {
    "duration": 25,
    "start_time": "2022-11-23T18:41:06.068Z"
   },
   {
    "duration": 67,
    "start_time": "2022-11-23T18:41:06.096Z"
   },
   {
    "duration": 20,
    "start_time": "2022-11-23T18:41:06.165Z"
   },
   {
    "duration": 118,
    "start_time": "2022-11-23T18:41:06.187Z"
   },
   {
    "duration": 10,
    "start_time": "2022-11-23T18:41:06.307Z"
   },
   {
    "duration": 25,
    "start_time": "2022-11-23T18:41:06.318Z"
   },
   {
    "duration": 22,
    "start_time": "2022-11-23T18:41:06.351Z"
   },
   {
    "duration": 27,
    "start_time": "2022-11-23T18:41:06.375Z"
   },
   {
    "duration": 240,
    "start_time": "2022-11-23T18:41:06.405Z"
   },
   {
    "duration": 20,
    "start_time": "2022-11-23T18:41:06.650Z"
   },
   {
    "duration": 56,
    "start_time": "2022-11-23T18:41:06.672Z"
   },
   {
    "duration": 6,
    "start_time": "2022-11-23T18:41:06.730Z"
   },
   {
    "duration": 65,
    "start_time": "2022-11-23T18:41:06.738Z"
   },
   {
    "duration": 10,
    "start_time": "2022-11-23T18:41:06.805Z"
   },
   {
    "duration": 72,
    "start_time": "2022-11-23T18:41:06.817Z"
   },
   {
    "duration": 154,
    "start_time": "2022-11-23T18:41:06.891Z"
   },
   {
    "duration": 135,
    "start_time": "2022-11-23T18:41:07.050Z"
   },
   {
    "duration": 7,
    "start_time": "2022-11-23T18:41:07.187Z"
   },
   {
    "duration": 55,
    "start_time": "2022-11-23T18:41:07.195Z"
   },
   {
    "duration": 183,
    "start_time": "2022-11-23T18:41:07.252Z"
   },
   {
    "duration": 14,
    "start_time": "2022-11-23T18:41:07.437Z"
   },
   {
    "duration": 20,
    "start_time": "2022-11-23T18:41:07.454Z"
   },
   {
    "duration": 187,
    "start_time": "2022-11-23T18:41:07.477Z"
   },
   {
    "duration": 6,
    "start_time": "2022-11-23T18:41:07.666Z"
   },
   {
    "duration": 23,
    "start_time": "2022-11-23T18:41:07.674Z"
   },
   {
    "duration": 41,
    "start_time": "2022-11-23T18:41:07.699Z"
   },
   {
    "duration": 21,
    "start_time": "2022-11-23T18:41:07.742Z"
   },
   {
    "duration": 31,
    "start_time": "2022-11-23T18:41:07.765Z"
   },
   {
    "duration": 27,
    "start_time": "2022-11-23T18:41:07.799Z"
   },
   {
    "duration": 23,
    "start_time": "2022-11-23T18:41:07.828Z"
   },
   {
    "duration": 470,
    "start_time": "2022-11-23T18:41:07.853Z"
   },
   {
    "duration": 4,
    "start_time": "2022-11-23T18:41:08.325Z"
   },
   {
    "duration": 188,
    "start_time": "2022-11-23T18:41:08.331Z"
   },
   {
    "duration": 168,
    "start_time": "2022-11-23T18:41:08.521Z"
   },
   {
    "duration": 218,
    "start_time": "2022-11-23T18:41:08.691Z"
   },
   {
    "duration": 236,
    "start_time": "2022-11-23T18:41:08.912Z"
   },
   {
    "duration": 161,
    "start_time": "2022-11-23T18:41:09.151Z"
   },
   {
    "duration": 184,
    "start_time": "2022-11-23T18:41:09.314Z"
   },
   {
    "duration": 198,
    "start_time": "2022-11-23T18:41:09.500Z"
   },
   {
    "duration": 185,
    "start_time": "2022-11-23T18:41:09.700Z"
   },
   {
    "duration": 155,
    "start_time": "2022-11-23T18:41:09.887Z"
   },
   {
    "duration": 213,
    "start_time": "2022-11-23T18:41:10.045Z"
   },
   {
    "duration": 261,
    "start_time": "2022-11-23T18:41:10.260Z"
   },
   {
    "duration": 204,
    "start_time": "2022-11-23T18:41:10.523Z"
   },
   {
    "duration": 170,
    "start_time": "2022-11-23T18:41:10.729Z"
   },
   {
    "duration": 153,
    "start_time": "2022-11-23T18:41:10.902Z"
   },
   {
    "duration": 171,
    "start_time": "2022-11-23T18:41:11.056Z"
   },
   {
    "duration": 5,
    "start_time": "2022-11-23T18:41:11.228Z"
   },
   {
    "duration": 17,
    "start_time": "2022-11-23T18:41:11.235Z"
   },
   {
    "duration": 217,
    "start_time": "2022-11-23T18:41:11.254Z"
   },
   {
    "duration": 7,
    "start_time": "2022-11-23T18:41:11.472Z"
   },
   {
    "duration": 216,
    "start_time": "2022-11-23T18:41:11.480Z"
   },
   {
    "duration": 5,
    "start_time": "2022-11-23T18:41:11.698Z"
   },
   {
    "duration": 220,
    "start_time": "2022-11-23T18:41:11.705Z"
   },
   {
    "duration": 6,
    "start_time": "2022-11-23T18:41:11.927Z"
   },
   {
    "duration": 172,
    "start_time": "2022-11-23T18:41:11.950Z"
   },
   {
    "duration": 151,
    "start_time": "2022-11-23T18:41:12.124Z"
   },
   {
    "duration": 248,
    "start_time": "2022-11-23T18:41:12.277Z"
   },
   {
    "duration": 429,
    "start_time": "2022-11-23T18:41:12.527Z"
   },
   {
    "duration": 153,
    "start_time": "2022-11-23T18:41:12.958Z"
   },
   {
    "duration": 26,
    "start_time": "2022-11-23T18:41:13.113Z"
   },
   {
    "duration": 17,
    "start_time": "2022-11-23T18:41:13.140Z"
   },
   {
    "duration": 13,
    "start_time": "2022-11-23T18:41:13.159Z"
   },
   {
    "duration": 204,
    "start_time": "2022-11-23T18:41:13.174Z"
   },
   {
    "duration": 1943,
    "start_time": "2022-11-23T18:41:13.380Z"
   },
   {
    "duration": 681,
    "start_time": "2022-11-23T18:43:57.635Z"
   },
   {
    "duration": 121,
    "start_time": "2022-11-23T18:43:58.318Z"
   },
   {
    "duration": 25,
    "start_time": "2022-11-23T18:43:58.440Z"
   },
   {
    "duration": 2097,
    "start_time": "2022-11-23T18:43:58.467Z"
   },
   {
    "duration": 6,
    "start_time": "2022-11-23T18:44:00.567Z"
   },
   {
    "duration": 17,
    "start_time": "2022-11-23T18:44:00.575Z"
   },
   {
    "duration": 47,
    "start_time": "2022-11-23T18:44:00.594Z"
   },
   {
    "duration": 13,
    "start_time": "2022-11-23T18:44:00.643Z"
   },
   {
    "duration": 34,
    "start_time": "2022-11-23T18:44:00.658Z"
   },
   {
    "duration": 27,
    "start_time": "2022-11-23T18:44:00.696Z"
   },
   {
    "duration": 13,
    "start_time": "2022-11-23T18:44:00.725Z"
   },
   {
    "duration": 6,
    "start_time": "2022-11-23T18:44:00.740Z"
   },
   {
    "duration": 12,
    "start_time": "2022-11-23T18:44:00.748Z"
   },
   {
    "duration": 19,
    "start_time": "2022-11-23T18:44:00.762Z"
   },
   {
    "duration": 89,
    "start_time": "2022-11-23T18:44:00.783Z"
   },
   {
    "duration": 9,
    "start_time": "2022-11-23T18:44:00.873Z"
   },
   {
    "duration": 29,
    "start_time": "2022-11-23T18:44:00.883Z"
   },
   {
    "duration": 9,
    "start_time": "2022-11-23T18:44:00.913Z"
   },
   {
    "duration": 12,
    "start_time": "2022-11-23T18:44:00.924Z"
   },
   {
    "duration": 249,
    "start_time": "2022-11-23T18:44:00.938Z"
   },
   {
    "duration": 7,
    "start_time": "2022-11-23T18:44:01.189Z"
   },
   {
    "duration": 35,
    "start_time": "2022-11-23T18:44:01.198Z"
   },
   {
    "duration": 5,
    "start_time": "2022-11-23T18:44:01.235Z"
   },
   {
    "duration": 47,
    "start_time": "2022-11-23T18:44:01.241Z"
   },
   {
    "duration": 10,
    "start_time": "2022-11-23T18:44:01.290Z"
   },
   {
    "duration": 11,
    "start_time": "2022-11-23T18:44:01.302Z"
   },
   {
    "duration": 151,
    "start_time": "2022-11-23T18:44:01.315Z"
   },
   {
    "duration": 149,
    "start_time": "2022-11-23T18:44:01.471Z"
   },
   {
    "duration": 8,
    "start_time": "2022-11-23T18:44:01.622Z"
   },
   {
    "duration": 25,
    "start_time": "2022-11-23T18:44:01.632Z"
   },
   {
    "duration": 135,
    "start_time": "2022-11-23T18:44:01.659Z"
   },
   {
    "duration": 7,
    "start_time": "2022-11-23T18:44:01.796Z"
   },
   {
    "duration": 10,
    "start_time": "2022-11-23T18:44:01.805Z"
   },
   {
    "duration": 139,
    "start_time": "2022-11-23T18:44:01.816Z"
   },
   {
    "duration": 7,
    "start_time": "2022-11-23T18:44:01.957Z"
   },
   {
    "duration": 26,
    "start_time": "2022-11-23T18:44:01.966Z"
   },
   {
    "duration": 7,
    "start_time": "2022-11-23T18:44:01.994Z"
   },
   {
    "duration": 19,
    "start_time": "2022-11-23T18:44:02.003Z"
   },
   {
    "duration": 21,
    "start_time": "2022-11-23T18:44:02.024Z"
   },
   {
    "duration": 19,
    "start_time": "2022-11-23T18:44:02.047Z"
   },
   {
    "duration": 16,
    "start_time": "2022-11-23T18:44:02.067Z"
   },
   {
    "duration": 430,
    "start_time": "2022-11-23T18:44:02.084Z"
   },
   {
    "duration": 5,
    "start_time": "2022-11-23T18:44:02.515Z"
   },
   {
    "duration": 176,
    "start_time": "2022-11-23T18:44:02.522Z"
   },
   {
    "duration": 177,
    "start_time": "2022-11-23T18:44:02.700Z"
   },
   {
    "duration": 181,
    "start_time": "2022-11-23T18:44:02.879Z"
   },
   {
    "duration": 184,
    "start_time": "2022-11-23T18:44:03.061Z"
   },
   {
    "duration": 146,
    "start_time": "2022-11-23T18:44:03.250Z"
   },
   {
    "duration": 176,
    "start_time": "2022-11-23T18:44:03.398Z"
   },
   {
    "duration": 158,
    "start_time": "2022-11-23T18:44:03.576Z"
   },
   {
    "duration": 146,
    "start_time": "2022-11-23T18:44:03.735Z"
   },
   {
    "duration": 140,
    "start_time": "2022-11-23T18:44:03.883Z"
   },
   {
    "duration": 184,
    "start_time": "2022-11-23T18:44:04.026Z"
   },
   {
    "duration": 245,
    "start_time": "2022-11-23T18:44:04.212Z"
   },
   {
    "duration": 166,
    "start_time": "2022-11-23T18:44:04.460Z"
   },
   {
    "duration": 158,
    "start_time": "2022-11-23T18:44:04.628Z"
   },
   {
    "duration": 147,
    "start_time": "2022-11-23T18:44:04.788Z"
   },
   {
    "duration": 159,
    "start_time": "2022-11-23T18:44:04.937Z"
   },
   {
    "duration": 5,
    "start_time": "2022-11-23T18:44:05.098Z"
   },
   {
    "duration": 25,
    "start_time": "2022-11-23T18:44:05.105Z"
   },
   {
    "duration": 212,
    "start_time": "2022-11-23T18:44:05.132Z"
   },
   {
    "duration": 6,
    "start_time": "2022-11-23T18:44:05.346Z"
   },
   {
    "duration": 206,
    "start_time": "2022-11-23T18:44:05.354Z"
   },
   {
    "duration": 6,
    "start_time": "2022-11-23T18:44:05.562Z"
   },
   {
    "duration": 209,
    "start_time": "2022-11-23T18:44:05.570Z"
   },
   {
    "duration": 6,
    "start_time": "2022-11-23T18:44:05.782Z"
   },
   {
    "duration": 186,
    "start_time": "2022-11-23T18:44:05.790Z"
   },
   {
    "duration": 142,
    "start_time": "2022-11-23T18:44:05.978Z"
   },
   {
    "duration": 283,
    "start_time": "2022-11-23T18:44:06.122Z"
   },
   {
    "duration": 419,
    "start_time": "2022-11-23T18:44:06.407Z"
   },
   {
    "duration": 155,
    "start_time": "2022-11-23T18:44:06.828Z"
   },
   {
    "duration": 25,
    "start_time": "2022-11-23T18:44:06.985Z"
   },
   {
    "duration": 8,
    "start_time": "2022-11-23T18:44:07.012Z"
   },
   {
    "duration": 30,
    "start_time": "2022-11-23T18:44:07.022Z"
   },
   {
    "duration": 188,
    "start_time": "2022-11-23T18:44:07.054Z"
   },
   {
    "duration": 1903,
    "start_time": "2022-11-23T18:44:07.243Z"
   },
   {
    "duration": 593,
    "start_time": "2022-11-23T19:31:17.355Z"
   },
   {
    "duration": 102,
    "start_time": "2022-11-23T19:31:17.949Z"
   },
   {
    "duration": 23,
    "start_time": "2022-11-23T19:31:18.053Z"
   },
   {
    "duration": 1782,
    "start_time": "2022-11-23T19:31:18.078Z"
   },
   {
    "duration": 4,
    "start_time": "2022-11-23T19:31:19.861Z"
   },
   {
    "duration": 21,
    "start_time": "2022-11-23T19:31:19.867Z"
   },
   {
    "duration": 10,
    "start_time": "2022-11-23T19:31:19.890Z"
   },
   {
    "duration": 27,
    "start_time": "2022-11-23T19:31:19.901Z"
   },
   {
    "duration": 21,
    "start_time": "2022-11-23T19:31:19.929Z"
   },
   {
    "duration": 43,
    "start_time": "2022-11-23T19:31:19.953Z"
   },
   {
    "duration": 22,
    "start_time": "2022-11-23T19:31:19.997Z"
   },
   {
    "duration": 30,
    "start_time": "2022-11-23T19:31:20.021Z"
   },
   {
    "duration": 20,
    "start_time": "2022-11-23T19:31:20.053Z"
   },
   {
    "duration": 31,
    "start_time": "2022-11-23T19:31:20.075Z"
   },
   {
    "duration": 90,
    "start_time": "2022-11-23T19:31:20.107Z"
   },
   {
    "duration": 7,
    "start_time": "2022-11-23T19:31:20.199Z"
   },
   {
    "duration": 27,
    "start_time": "2022-11-23T19:31:20.208Z"
   },
   {
    "duration": 25,
    "start_time": "2022-11-23T19:31:20.238Z"
   },
   {
    "duration": 14,
    "start_time": "2022-11-23T19:31:20.264Z"
   },
   {
    "duration": 227,
    "start_time": "2022-11-23T19:31:20.279Z"
   },
   {
    "duration": 6,
    "start_time": "2022-11-23T19:31:20.507Z"
   },
   {
    "duration": 48,
    "start_time": "2022-11-23T19:31:20.515Z"
   },
   {
    "duration": 18,
    "start_time": "2022-11-23T19:31:20.565Z"
   },
   {
    "duration": 39,
    "start_time": "2022-11-23T19:31:20.584Z"
   },
   {
    "duration": 8,
    "start_time": "2022-11-23T19:31:20.625Z"
   },
   {
    "duration": 11,
    "start_time": "2022-11-23T19:31:20.634Z"
   },
   {
    "duration": 119,
    "start_time": "2022-11-23T19:31:20.646Z"
   },
   {
    "duration": 121,
    "start_time": "2022-11-23T19:31:20.769Z"
   },
   {
    "duration": 5,
    "start_time": "2022-11-23T19:31:20.892Z"
   },
   {
    "duration": 8,
    "start_time": "2022-11-23T19:31:20.898Z"
   },
   {
    "duration": 119,
    "start_time": "2022-11-23T19:31:20.907Z"
   },
   {
    "duration": 5,
    "start_time": "2022-11-23T19:31:21.028Z"
   },
   {
    "duration": 12,
    "start_time": "2022-11-23T19:31:21.034Z"
   },
   {
    "duration": 104,
    "start_time": "2022-11-23T19:31:21.047Z"
   },
   {
    "duration": 5,
    "start_time": "2022-11-23T19:31:21.153Z"
   },
   {
    "duration": 17,
    "start_time": "2022-11-23T19:31:21.160Z"
   },
   {
    "duration": 4,
    "start_time": "2022-11-23T19:31:21.178Z"
   },
   {
    "duration": 6,
    "start_time": "2022-11-23T19:31:21.183Z"
   },
   {
    "duration": 13,
    "start_time": "2022-11-23T19:31:21.190Z"
   },
   {
    "duration": 6,
    "start_time": "2022-11-23T19:31:21.204Z"
   },
   {
    "duration": 5,
    "start_time": "2022-11-23T19:31:21.211Z"
   },
   {
    "duration": 408,
    "start_time": "2022-11-23T19:31:21.218Z"
   },
   {
    "duration": 5,
    "start_time": "2022-11-23T19:31:21.627Z"
   },
   {
    "duration": 147,
    "start_time": "2022-11-23T19:31:21.633Z"
   },
   {
    "duration": 141,
    "start_time": "2022-11-23T19:31:21.781Z"
   },
   {
    "duration": 146,
    "start_time": "2022-11-23T19:31:21.923Z"
   },
   {
    "duration": 148,
    "start_time": "2022-11-23T19:31:22.071Z"
   },
   {
    "duration": 123,
    "start_time": "2022-11-23T19:31:22.221Z"
   },
   {
    "duration": 154,
    "start_time": "2022-11-23T19:31:22.346Z"
   },
   {
    "duration": 135,
    "start_time": "2022-11-23T19:31:22.501Z"
   },
   {
    "duration": 109,
    "start_time": "2022-11-23T19:31:22.638Z"
   },
   {
    "duration": 117,
    "start_time": "2022-11-23T19:31:22.749Z"
   },
   {
    "duration": 141,
    "start_time": "2022-11-23T19:31:22.875Z"
   },
   {
    "duration": 225,
    "start_time": "2022-11-23T19:31:23.018Z"
   },
   {
    "duration": 150,
    "start_time": "2022-11-23T19:31:23.245Z"
   },
   {
    "duration": 142,
    "start_time": "2022-11-23T19:31:23.396Z"
   },
   {
    "duration": 125,
    "start_time": "2022-11-23T19:31:23.540Z"
   },
   {
    "duration": 146,
    "start_time": "2022-11-23T19:31:23.666Z"
   },
   {
    "duration": 4,
    "start_time": "2022-11-23T19:31:23.813Z"
   },
   {
    "duration": 6,
    "start_time": "2022-11-23T19:31:23.819Z"
   },
   {
    "duration": 186,
    "start_time": "2022-11-23T19:31:23.826Z"
   },
   {
    "duration": 5,
    "start_time": "2022-11-23T19:31:24.014Z"
   },
   {
    "duration": 177,
    "start_time": "2022-11-23T19:31:24.020Z"
   },
   {
    "duration": 5,
    "start_time": "2022-11-23T19:31:24.199Z"
   },
   {
    "duration": 188,
    "start_time": "2022-11-23T19:31:24.205Z"
   },
   {
    "duration": 5,
    "start_time": "2022-11-23T19:31:24.394Z"
   },
   {
    "duration": 160,
    "start_time": "2022-11-23T19:31:24.401Z"
   },
   {
    "duration": 129,
    "start_time": "2022-11-23T19:31:24.563Z"
   },
   {
    "duration": 269,
    "start_time": "2022-11-23T19:31:24.693Z"
   },
   {
    "duration": 378,
    "start_time": "2022-11-23T19:31:24.964Z"
   },
   {
    "duration": 133,
    "start_time": "2022-11-23T19:31:25.344Z"
   },
   {
    "duration": 21,
    "start_time": "2022-11-23T19:31:25.479Z"
   },
   {
    "duration": 7,
    "start_time": "2022-11-23T19:31:25.501Z"
   },
   {
    "duration": 11,
    "start_time": "2022-11-23T19:31:25.509Z"
   },
   {
    "duration": 174,
    "start_time": "2022-11-23T19:31:25.522Z"
   },
   {
    "duration": 1623,
    "start_time": "2022-11-23T19:31:25.697Z"
   },
   {
    "duration": 86,
    "start_time": "2022-11-23T19:31:40.666Z"
   },
   {
    "duration": 13,
    "start_time": "2022-11-23T19:31:44.211Z"
   },
   {
    "duration": 46,
    "start_time": "2022-11-24T05:48:13.806Z"
   },
   {
    "duration": 743,
    "start_time": "2022-11-24T05:48:33.073Z"
   },
   {
    "duration": 165,
    "start_time": "2022-11-24T05:48:33.818Z"
   },
   {
    "duration": 17,
    "start_time": "2022-11-24T05:48:33.984Z"
   },
   {
    "duration": 2026,
    "start_time": "2022-11-24T05:48:34.002Z"
   },
   {
    "duration": 4,
    "start_time": "2022-11-24T05:48:36.029Z"
   },
   {
    "duration": 9,
    "start_time": "2022-11-24T05:48:36.035Z"
   },
   {
    "duration": 9,
    "start_time": "2022-11-24T05:48:36.046Z"
   },
   {
    "duration": 6,
    "start_time": "2022-11-24T05:48:36.056Z"
   },
   {
    "duration": 6,
    "start_time": "2022-11-24T05:48:36.063Z"
   },
   {
    "duration": 10,
    "start_time": "2022-11-24T05:48:36.072Z"
   },
   {
    "duration": 12,
    "start_time": "2022-11-24T05:48:36.084Z"
   },
   {
    "duration": 30,
    "start_time": "2022-11-24T05:48:36.097Z"
   },
   {
    "duration": 14,
    "start_time": "2022-11-24T05:48:36.129Z"
   },
   {
    "duration": 14,
    "start_time": "2022-11-24T05:48:36.145Z"
   },
   {
    "duration": 84,
    "start_time": "2022-11-24T05:48:36.160Z"
   },
   {
    "duration": 8,
    "start_time": "2022-11-24T05:48:36.246Z"
   },
   {
    "duration": 28,
    "start_time": "2022-11-24T05:48:36.256Z"
   },
   {
    "duration": 8,
    "start_time": "2022-11-24T05:48:36.286Z"
   },
   {
    "duration": 23,
    "start_time": "2022-11-24T05:48:36.295Z"
   },
   {
    "duration": 210,
    "start_time": "2022-11-24T05:48:36.319Z"
   },
   {
    "duration": 6,
    "start_time": "2022-11-24T05:48:36.531Z"
   },
   {
    "duration": 42,
    "start_time": "2022-11-24T05:48:36.538Z"
   },
   {
    "duration": 4,
    "start_time": "2022-11-24T05:48:36.582Z"
   },
   {
    "duration": 53,
    "start_time": "2022-11-24T05:48:36.588Z"
   },
   {
    "duration": 7,
    "start_time": "2022-11-24T05:48:36.643Z"
   },
   {
    "duration": 16,
    "start_time": "2022-11-24T05:48:36.651Z"
   },
   {
    "duration": 130,
    "start_time": "2022-11-24T05:48:36.668Z"
   },
   {
    "duration": 144,
    "start_time": "2022-11-24T05:48:36.802Z"
   },
   {
    "duration": 7,
    "start_time": "2022-11-24T05:48:36.948Z"
   },
   {
    "duration": 20,
    "start_time": "2022-11-24T05:48:36.957Z"
   },
   {
    "duration": 119,
    "start_time": "2022-11-24T05:48:36.979Z"
   },
   {
    "duration": 6,
    "start_time": "2022-11-24T05:48:37.099Z"
   },
   {
    "duration": 19,
    "start_time": "2022-11-24T05:48:37.106Z"
   },
   {
    "duration": 122,
    "start_time": "2022-11-24T05:48:37.127Z"
   },
   {
    "duration": 6,
    "start_time": "2022-11-24T05:48:37.251Z"
   },
   {
    "duration": 26,
    "start_time": "2022-11-24T05:48:37.259Z"
   },
   {
    "duration": 17,
    "start_time": "2022-11-24T05:48:37.287Z"
   },
   {
    "duration": 20,
    "start_time": "2022-11-24T05:48:37.306Z"
   },
   {
    "duration": 37,
    "start_time": "2022-11-24T05:48:37.328Z"
   },
   {
    "duration": 23,
    "start_time": "2022-11-24T05:48:37.366Z"
   },
   {
    "duration": 26,
    "start_time": "2022-11-24T05:48:37.391Z"
   },
   {
    "duration": 435,
    "start_time": "2022-11-24T05:48:37.419Z"
   },
   {
    "duration": 5,
    "start_time": "2022-11-24T05:48:37.856Z"
   },
   {
    "duration": 178,
    "start_time": "2022-11-24T05:48:37.863Z"
   },
   {
    "duration": 156,
    "start_time": "2022-11-24T05:48:38.043Z"
   },
   {
    "duration": 163,
    "start_time": "2022-11-24T05:48:38.201Z"
   },
   {
    "duration": 173,
    "start_time": "2022-11-24T05:48:38.365Z"
   },
   {
    "duration": 135,
    "start_time": "2022-11-24T05:48:38.540Z"
   },
   {
    "duration": 394,
    "start_time": "2022-11-24T05:48:38.676Z"
   },
   {
    "duration": 145,
    "start_time": "2022-11-24T05:48:39.072Z"
   },
   {
    "duration": 114,
    "start_time": "2022-11-24T05:48:39.219Z"
   },
   {
    "duration": 135,
    "start_time": "2022-11-24T05:48:39.334Z"
   },
   {
    "duration": 168,
    "start_time": "2022-11-24T05:48:39.471Z"
   },
   {
    "duration": 240,
    "start_time": "2022-11-24T05:48:39.641Z"
   },
   {
    "duration": 162,
    "start_time": "2022-11-24T05:48:39.883Z"
   },
   {
    "duration": 140,
    "start_time": "2022-11-24T05:48:40.047Z"
   },
   {
    "duration": 139,
    "start_time": "2022-11-24T05:48:40.189Z"
   },
   {
    "duration": 154,
    "start_time": "2022-11-24T05:48:40.330Z"
   },
   {
    "duration": 4,
    "start_time": "2022-11-24T05:48:40.486Z"
   },
   {
    "duration": 20,
    "start_time": "2022-11-24T05:48:40.492Z"
   },
   {
    "duration": 198,
    "start_time": "2022-11-24T05:48:40.513Z"
   },
   {
    "duration": 12,
    "start_time": "2022-11-24T05:48:40.713Z"
   },
   {
    "duration": 204,
    "start_time": "2022-11-24T05:48:40.727Z"
   },
   {
    "duration": 5,
    "start_time": "2022-11-24T05:48:40.933Z"
   },
   {
    "duration": 200,
    "start_time": "2022-11-24T05:48:40.940Z"
   },
   {
    "duration": 6,
    "start_time": "2022-11-24T05:48:41.142Z"
   },
   {
    "duration": 167,
    "start_time": "2022-11-24T05:48:41.149Z"
   },
   {
    "duration": 133,
    "start_time": "2022-11-24T05:48:41.318Z"
   },
   {
    "duration": 273,
    "start_time": "2022-11-24T05:48:41.453Z"
   },
   {
    "duration": 377,
    "start_time": "2022-11-24T05:48:41.728Z"
   },
   {
    "duration": 140,
    "start_time": "2022-11-24T05:48:42.107Z"
   },
   {
    "duration": 302,
    "start_time": "2022-11-24T05:48:42.249Z"
   },
   {
    "duration": 7,
    "start_time": "2022-11-24T05:48:42.553Z"
   },
   {
    "duration": 10,
    "start_time": "2022-11-24T05:48:42.562Z"
   },
   {
    "duration": 168,
    "start_time": "2022-11-24T05:48:42.573Z"
   },
   {
    "duration": 100,
    "start_time": "2022-11-24T05:48:42.742Z"
   },
   {
    "duration": 661,
    "start_time": "2022-11-24T05:49:11.921Z"
   },
   {
    "duration": 575,
    "start_time": "2022-11-24T05:56:01.167Z"
   },
   {
    "duration": 120,
    "start_time": "2022-11-24T05:56:01.744Z"
   },
   {
    "duration": 21,
    "start_time": "2022-11-24T05:56:01.865Z"
   },
   {
    "duration": 1863,
    "start_time": "2022-11-24T05:56:01.888Z"
   },
   {
    "duration": 4,
    "start_time": "2022-11-24T05:56:03.753Z"
   },
   {
    "duration": 32,
    "start_time": "2022-11-24T05:56:03.759Z"
   },
   {
    "duration": 18,
    "start_time": "2022-11-24T05:56:03.792Z"
   },
   {
    "duration": 33,
    "start_time": "2022-11-24T05:56:03.812Z"
   },
   {
    "duration": 21,
    "start_time": "2022-11-24T05:56:03.847Z"
   },
   {
    "duration": 16,
    "start_time": "2022-11-24T05:56:03.871Z"
   },
   {
    "duration": 27,
    "start_time": "2022-11-24T05:56:03.888Z"
   },
   {
    "duration": 16,
    "start_time": "2022-11-24T05:56:03.916Z"
   },
   {
    "duration": 26,
    "start_time": "2022-11-24T05:56:03.933Z"
   },
   {
    "duration": 27,
    "start_time": "2022-11-24T05:56:03.961Z"
   },
   {
    "duration": 104,
    "start_time": "2022-11-24T05:56:03.989Z"
   },
   {
    "duration": 10,
    "start_time": "2022-11-24T05:56:04.094Z"
   },
   {
    "duration": 32,
    "start_time": "2022-11-24T05:56:04.106Z"
   },
   {
    "duration": 21,
    "start_time": "2022-11-24T05:56:04.141Z"
   },
   {
    "duration": 35,
    "start_time": "2022-11-24T05:56:04.164Z"
   },
   {
    "duration": 240,
    "start_time": "2022-11-24T05:56:04.201Z"
   },
   {
    "duration": 7,
    "start_time": "2022-11-24T05:56:04.442Z"
   },
   {
    "duration": 44,
    "start_time": "2022-11-24T05:56:04.451Z"
   },
   {
    "duration": 11,
    "start_time": "2022-11-24T05:56:04.497Z"
   },
   {
    "duration": 46,
    "start_time": "2022-11-24T05:56:04.509Z"
   },
   {
    "duration": 8,
    "start_time": "2022-11-24T05:56:04.556Z"
   },
   {
    "duration": 30,
    "start_time": "2022-11-24T05:56:04.565Z"
   },
   {
    "duration": 128,
    "start_time": "2022-11-24T05:56:04.597Z"
   },
   {
    "duration": 121,
    "start_time": "2022-11-24T05:56:04.729Z"
   },
   {
    "duration": 6,
    "start_time": "2022-11-24T05:56:04.852Z"
   },
   {
    "duration": 27,
    "start_time": "2022-11-24T05:56:04.859Z"
   },
   {
    "duration": 136,
    "start_time": "2022-11-24T05:56:04.888Z"
   },
   {
    "duration": 5,
    "start_time": "2022-11-24T05:56:05.026Z"
   },
   {
    "duration": 28,
    "start_time": "2022-11-24T05:56:05.032Z"
   },
   {
    "duration": 119,
    "start_time": "2022-11-24T05:56:05.062Z"
   },
   {
    "duration": 6,
    "start_time": "2022-11-24T05:56:05.182Z"
   },
   {
    "duration": 27,
    "start_time": "2022-11-24T05:56:05.190Z"
   },
   {
    "duration": 11,
    "start_time": "2022-11-24T05:56:05.219Z"
   },
   {
    "duration": 30,
    "start_time": "2022-11-24T05:56:05.232Z"
   },
   {
    "duration": 40,
    "start_time": "2022-11-24T05:56:05.263Z"
   },
   {
    "duration": 24,
    "start_time": "2022-11-24T05:56:05.305Z"
   },
   {
    "duration": 29,
    "start_time": "2022-11-24T05:56:05.331Z"
   },
   {
    "duration": 403,
    "start_time": "2022-11-24T05:56:05.361Z"
   },
   {
    "duration": 4,
    "start_time": "2022-11-24T05:56:05.765Z"
   },
   {
    "duration": 193,
    "start_time": "2022-11-24T05:56:05.771Z"
   },
   {
    "duration": 148,
    "start_time": "2022-11-24T05:56:05.965Z"
   },
   {
    "duration": 156,
    "start_time": "2022-11-24T05:56:06.115Z"
   },
   {
    "duration": 166,
    "start_time": "2022-11-24T05:56:06.273Z"
   },
   {
    "duration": 136,
    "start_time": "2022-11-24T05:56:06.440Z"
   },
   {
    "duration": 159,
    "start_time": "2022-11-24T05:56:06.578Z"
   },
   {
    "duration": 142,
    "start_time": "2022-11-24T05:56:06.739Z"
   },
   {
    "duration": 121,
    "start_time": "2022-11-24T05:56:06.882Z"
   },
   {
    "duration": 130,
    "start_time": "2022-11-24T05:56:07.005Z"
   },
   {
    "duration": 152,
    "start_time": "2022-11-24T05:56:07.136Z"
   },
   {
    "duration": 253,
    "start_time": "2022-11-24T05:56:07.290Z"
   },
   {
    "duration": 153,
    "start_time": "2022-11-24T05:56:07.545Z"
   },
   {
    "duration": 132,
    "start_time": "2022-11-24T05:56:07.700Z"
   },
   {
    "duration": 132,
    "start_time": "2022-11-24T05:56:07.834Z"
   },
   {
    "duration": 154,
    "start_time": "2022-11-24T05:56:07.968Z"
   },
   {
    "duration": 5,
    "start_time": "2022-11-24T05:56:08.124Z"
   },
   {
    "duration": 7,
    "start_time": "2022-11-24T05:56:08.130Z"
   },
   {
    "duration": 192,
    "start_time": "2022-11-24T05:56:08.139Z"
   },
   {
    "duration": 6,
    "start_time": "2022-11-24T05:56:08.333Z"
   },
   {
    "duration": 189,
    "start_time": "2022-11-24T05:56:08.341Z"
   },
   {
    "duration": 5,
    "start_time": "2022-11-24T05:56:08.532Z"
   },
   {
    "duration": 198,
    "start_time": "2022-11-24T05:56:08.538Z"
   },
   {
    "duration": 6,
    "start_time": "2022-11-24T05:56:08.738Z"
   },
   {
    "duration": 161,
    "start_time": "2022-11-24T05:56:08.745Z"
   },
   {
    "duration": 133,
    "start_time": "2022-11-24T05:56:08.907Z"
   },
   {
    "duration": 247,
    "start_time": "2022-11-24T05:56:09.042Z"
   },
   {
    "duration": 379,
    "start_time": "2022-11-24T05:56:09.291Z"
   },
   {
    "duration": 137,
    "start_time": "2022-11-24T05:56:09.672Z"
   },
   {
    "duration": 35,
    "start_time": "2022-11-24T05:56:09.810Z"
   },
   {
    "duration": 8,
    "start_time": "2022-11-24T05:56:09.847Z"
   },
   {
    "duration": 11,
    "start_time": "2022-11-24T05:56:09.857Z"
   },
   {
    "duration": 187,
    "start_time": "2022-11-24T05:56:09.870Z"
   },
   {
    "duration": 599,
    "start_time": "2022-11-24T05:56:10.059Z"
   },
   {
    "duration": 635,
    "start_time": "2022-11-24T06:09:21.894Z"
   },
   {
    "duration": 113,
    "start_time": "2022-11-24T06:09:22.531Z"
   },
   {
    "duration": 18,
    "start_time": "2022-11-24T06:09:22.646Z"
   },
   {
    "duration": 2001,
    "start_time": "2022-11-24T06:09:22.667Z"
   },
   {
    "duration": 4,
    "start_time": "2022-11-24T06:09:24.669Z"
   },
   {
    "duration": 8,
    "start_time": "2022-11-24T06:09:24.675Z"
   },
   {
    "duration": 10,
    "start_time": "2022-11-24T06:09:24.685Z"
   },
   {
    "duration": 9,
    "start_time": "2022-11-24T06:09:24.696Z"
   },
   {
    "duration": 19,
    "start_time": "2022-11-24T06:09:24.707Z"
   },
   {
    "duration": 8,
    "start_time": "2022-11-24T06:09:24.729Z"
   },
   {
    "duration": 17,
    "start_time": "2022-11-24T06:09:24.739Z"
   },
   {
    "duration": 16,
    "start_time": "2022-11-24T06:09:24.757Z"
   },
   {
    "duration": 22,
    "start_time": "2022-11-24T06:09:24.775Z"
   },
   {
    "duration": 23,
    "start_time": "2022-11-24T06:09:24.799Z"
   },
   {
    "duration": 93,
    "start_time": "2022-11-24T06:09:24.824Z"
   },
   {
    "duration": 8,
    "start_time": "2022-11-24T06:09:24.919Z"
   },
   {
    "duration": 22,
    "start_time": "2022-11-24T06:09:24.928Z"
   },
   {
    "duration": 14,
    "start_time": "2022-11-24T06:09:24.951Z"
   },
   {
    "duration": 10,
    "start_time": "2022-11-24T06:09:24.966Z"
   },
   {
    "duration": 245,
    "start_time": "2022-11-24T06:09:24.979Z"
   },
   {
    "duration": 6,
    "start_time": "2022-11-24T06:09:25.226Z"
   },
   {
    "duration": 32,
    "start_time": "2022-11-24T06:09:25.233Z"
   },
   {
    "duration": 14,
    "start_time": "2022-11-24T06:09:25.267Z"
   },
   {
    "duration": 54,
    "start_time": "2022-11-24T06:09:25.283Z"
   },
   {
    "duration": 8,
    "start_time": "2022-11-24T06:09:25.339Z"
   },
   {
    "duration": 29,
    "start_time": "2022-11-24T06:09:25.348Z"
   },
   {
    "duration": 146,
    "start_time": "2022-11-24T06:09:25.379Z"
   },
   {
    "duration": 125,
    "start_time": "2022-11-24T06:09:25.529Z"
   },
   {
    "duration": 7,
    "start_time": "2022-11-24T06:09:25.655Z"
   },
   {
    "duration": 8,
    "start_time": "2022-11-24T06:09:25.663Z"
   },
   {
    "duration": 128,
    "start_time": "2022-11-24T06:09:25.673Z"
   },
   {
    "duration": 6,
    "start_time": "2022-11-24T06:09:25.803Z"
   },
   {
    "duration": 18,
    "start_time": "2022-11-24T06:09:25.810Z"
   },
   {
    "duration": 132,
    "start_time": "2022-11-24T06:09:25.830Z"
   },
   {
    "duration": 6,
    "start_time": "2022-11-24T06:09:25.965Z"
   },
   {
    "duration": 9,
    "start_time": "2022-11-24T06:09:25.973Z"
   },
   {
    "duration": 7,
    "start_time": "2022-11-24T06:09:25.984Z"
   },
   {
    "duration": 6,
    "start_time": "2022-11-24T06:09:25.992Z"
   },
   {
    "duration": 35,
    "start_time": "2022-11-24T06:09:26.000Z"
   },
   {
    "duration": 7,
    "start_time": "2022-11-24T06:09:26.037Z"
   },
   {
    "duration": 10,
    "start_time": "2022-11-24T06:09:26.046Z"
   },
   {
    "duration": 426,
    "start_time": "2022-11-24T06:09:26.058Z"
   },
   {
    "duration": 5,
    "start_time": "2022-11-24T06:09:26.486Z"
   },
   {
    "duration": 185,
    "start_time": "2022-11-24T06:09:26.493Z"
   },
   {
    "duration": 173,
    "start_time": "2022-11-24T06:09:26.679Z"
   },
   {
    "duration": 183,
    "start_time": "2022-11-24T06:09:26.853Z"
   },
   {
    "duration": 175,
    "start_time": "2022-11-24T06:09:27.038Z"
   },
   {
    "duration": 149,
    "start_time": "2022-11-24T06:09:27.215Z"
   },
   {
    "duration": 168,
    "start_time": "2022-11-24T06:09:27.366Z"
   },
   {
    "duration": 154,
    "start_time": "2022-11-24T06:09:27.536Z"
   },
   {
    "duration": 117,
    "start_time": "2022-11-24T06:09:27.691Z"
   },
   {
    "duration": 138,
    "start_time": "2022-11-24T06:09:27.810Z"
   },
   {
    "duration": 168,
    "start_time": "2022-11-24T06:09:27.949Z"
   },
   {
    "duration": 277,
    "start_time": "2022-11-24T06:09:28.121Z"
   },
   {
    "duration": 179,
    "start_time": "2022-11-24T06:09:28.400Z"
   },
   {
    "duration": 158,
    "start_time": "2022-11-24T06:09:28.581Z"
   },
   {
    "duration": 152,
    "start_time": "2022-11-24T06:09:28.740Z"
   },
   {
    "duration": 160,
    "start_time": "2022-11-24T06:09:28.894Z"
   },
   {
    "duration": 6,
    "start_time": "2022-11-24T06:09:29.055Z"
   },
   {
    "duration": 11,
    "start_time": "2022-11-24T06:09:29.063Z"
   },
   {
    "duration": 213,
    "start_time": "2022-11-24T06:09:29.076Z"
   },
   {
    "duration": 6,
    "start_time": "2022-11-24T06:09:29.290Z"
   },
   {
    "duration": 209,
    "start_time": "2022-11-24T06:09:29.298Z"
   },
   {
    "duration": 13,
    "start_time": "2022-11-24T06:09:29.509Z"
   },
   {
    "duration": 204,
    "start_time": "2022-11-24T06:09:29.524Z"
   },
   {
    "duration": 6,
    "start_time": "2022-11-24T06:09:29.730Z"
   },
   {
    "duration": 189,
    "start_time": "2022-11-24T06:09:29.738Z"
   },
   {
    "duration": 146,
    "start_time": "2022-11-24T06:09:29.929Z"
   },
   {
    "duration": 293,
    "start_time": "2022-11-24T06:09:30.077Z"
   },
   {
    "duration": 375,
    "start_time": "2022-11-24T06:09:30.371Z"
   },
   {
    "duration": 150,
    "start_time": "2022-11-24T06:09:30.747Z"
   },
   {
    "duration": 38,
    "start_time": "2022-11-24T06:09:30.899Z"
   },
   {
    "duration": 8,
    "start_time": "2022-11-24T06:09:30.939Z"
   },
   {
    "duration": 28,
    "start_time": "2022-11-24T06:09:30.948Z"
   },
   {
    "duration": 176,
    "start_time": "2022-11-24T06:09:30.978Z"
   },
   {
    "duration": 650,
    "start_time": "2022-11-24T06:09:31.156Z"
   },
   {
    "duration": 545,
    "start_time": "2022-11-24T18:15:20.768Z"
   },
   {
    "duration": 106,
    "start_time": "2022-11-24T18:15:21.315Z"
   },
   {
    "duration": 14,
    "start_time": "2022-11-24T18:15:21.423Z"
   },
   {
    "duration": 1842,
    "start_time": "2022-11-24T18:15:21.438Z"
   },
   {
    "duration": 5,
    "start_time": "2022-11-24T18:15:23.281Z"
   },
   {
    "duration": 20,
    "start_time": "2022-11-24T18:15:23.287Z"
   },
   {
    "duration": 12,
    "start_time": "2022-11-24T18:15:23.308Z"
   },
   {
    "duration": 6,
    "start_time": "2022-11-24T18:15:23.322Z"
   },
   {
    "duration": 13,
    "start_time": "2022-11-24T18:15:23.329Z"
   },
   {
    "duration": 14,
    "start_time": "2022-11-24T18:15:23.344Z"
   },
   {
    "duration": 18,
    "start_time": "2022-11-24T18:15:23.359Z"
   },
   {
    "duration": 5,
    "start_time": "2022-11-24T18:15:23.378Z"
   },
   {
    "duration": 7,
    "start_time": "2022-11-24T18:15:23.385Z"
   },
   {
    "duration": 20,
    "start_time": "2022-11-24T18:15:23.394Z"
   },
   {
    "duration": 108,
    "start_time": "2022-11-24T18:15:23.415Z"
   },
   {
    "duration": 8,
    "start_time": "2022-11-24T18:15:23.524Z"
   },
   {
    "duration": 18,
    "start_time": "2022-11-24T18:15:23.533Z"
   },
   {
    "duration": 6,
    "start_time": "2022-11-24T18:15:23.553Z"
   },
   {
    "duration": 8,
    "start_time": "2022-11-24T18:15:23.560Z"
   },
   {
    "duration": 226,
    "start_time": "2022-11-24T18:15:23.569Z"
   },
   {
    "duration": 6,
    "start_time": "2022-11-24T18:15:23.796Z"
   },
   {
    "duration": 24,
    "start_time": "2022-11-24T18:15:23.816Z"
   },
   {
    "duration": 3,
    "start_time": "2022-11-24T18:15:23.841Z"
   },
   {
    "duration": 37,
    "start_time": "2022-11-24T18:15:23.846Z"
   },
   {
    "duration": 7,
    "start_time": "2022-11-24T18:15:23.884Z"
   },
   {
    "duration": 33,
    "start_time": "2022-11-24T18:15:23.892Z"
   },
   {
    "duration": 117,
    "start_time": "2022-11-24T18:15:23.926Z"
   },
   {
    "duration": 128,
    "start_time": "2022-11-24T18:15:24.047Z"
   },
   {
    "duration": 5,
    "start_time": "2022-11-24T18:15:24.177Z"
   },
   {
    "duration": 7,
    "start_time": "2022-11-24T18:15:24.184Z"
   },
   {
    "duration": 123,
    "start_time": "2022-11-24T18:15:24.193Z"
   },
   {
    "duration": 6,
    "start_time": "2022-11-24T18:15:24.317Z"
   },
   {
    "duration": 9,
    "start_time": "2022-11-24T18:15:24.324Z"
   },
   {
    "duration": 117,
    "start_time": "2022-11-24T18:15:24.334Z"
   },
   {
    "duration": 6,
    "start_time": "2022-11-24T18:15:24.452Z"
   },
   {
    "duration": 10,
    "start_time": "2022-11-24T18:15:24.459Z"
   },
   {
    "duration": 4,
    "start_time": "2022-11-24T18:15:24.470Z"
   },
   {
    "duration": 5,
    "start_time": "2022-11-24T18:15:24.476Z"
   },
   {
    "duration": 32,
    "start_time": "2022-11-24T18:15:24.483Z"
   },
   {
    "duration": 5,
    "start_time": "2022-11-24T18:15:24.517Z"
   },
   {
    "duration": 13,
    "start_time": "2022-11-24T18:15:24.523Z"
   },
   {
    "duration": 382,
    "start_time": "2022-11-24T18:15:24.537Z"
   },
   {
    "duration": 4,
    "start_time": "2022-11-24T18:15:24.921Z"
   },
   {
    "duration": 155,
    "start_time": "2022-11-24T18:15:24.926Z"
   },
   {
    "duration": 135,
    "start_time": "2022-11-24T18:15:25.082Z"
   },
   {
    "duration": 161,
    "start_time": "2022-11-24T18:15:25.219Z"
   },
   {
    "duration": 151,
    "start_time": "2022-11-24T18:15:25.381Z"
   },
   {
    "duration": 129,
    "start_time": "2022-11-24T18:15:25.534Z"
   },
   {
    "duration": 149,
    "start_time": "2022-11-24T18:15:25.664Z"
   },
   {
    "duration": 137,
    "start_time": "2022-11-24T18:15:25.815Z"
   },
   {
    "duration": 127,
    "start_time": "2022-11-24T18:15:25.953Z"
   },
   {
    "duration": 130,
    "start_time": "2022-11-24T18:15:26.081Z"
   },
   {
    "duration": 177,
    "start_time": "2022-11-24T18:15:26.216Z"
   },
   {
    "duration": 262,
    "start_time": "2022-11-24T18:15:26.395Z"
   },
   {
    "duration": 146,
    "start_time": "2022-11-24T18:15:26.659Z"
   },
   {
    "duration": 132,
    "start_time": "2022-11-24T18:15:26.806Z"
   },
   {
    "duration": 128,
    "start_time": "2022-11-24T18:15:26.940Z"
   },
   {
    "duration": 140,
    "start_time": "2022-11-24T18:15:27.069Z"
   },
   {
    "duration": 7,
    "start_time": "2022-11-24T18:15:27.210Z"
   },
   {
    "duration": 36,
    "start_time": "2022-11-24T18:15:27.219Z"
   },
   {
    "duration": 227,
    "start_time": "2022-11-24T18:15:27.257Z"
   },
   {
    "duration": 5,
    "start_time": "2022-11-24T18:15:27.486Z"
   },
   {
    "duration": 202,
    "start_time": "2022-11-24T18:15:27.492Z"
   },
   {
    "duration": 5,
    "start_time": "2022-11-24T18:15:27.695Z"
   },
   {
    "duration": 197,
    "start_time": "2022-11-24T18:15:27.702Z"
   },
   {
    "duration": 5,
    "start_time": "2022-11-24T18:15:27.901Z"
   },
   {
    "duration": 148,
    "start_time": "2022-11-24T18:15:27.915Z"
   },
   {
    "duration": 124,
    "start_time": "2022-11-24T18:15:28.065Z"
   },
   {
    "duration": 285,
    "start_time": "2022-11-24T18:15:28.190Z"
   },
   {
    "duration": 323,
    "start_time": "2022-11-24T18:15:28.476Z"
   },
   {
    "duration": 142,
    "start_time": "2022-11-24T18:15:28.800Z"
   },
   {
    "duration": 21,
    "start_time": "2022-11-24T18:15:28.943Z"
   },
   {
    "duration": 42,
    "start_time": "2022-11-24T18:15:28.965Z"
   },
   {
    "duration": 28,
    "start_time": "2022-11-24T18:15:29.008Z"
   },
   {
    "duration": 195,
    "start_time": "2022-11-24T18:15:29.038Z"
   },
   {
    "duration": 610,
    "start_time": "2022-11-24T18:15:29.235Z"
   }
  ],
  "kernelspec": {
   "display_name": "Python 3 (ipykernel)",
   "language": "python",
   "name": "python3"
  },
  "language_info": {
   "codemirror_mode": {
    "name": "ipython",
    "version": 3
   },
   "file_extension": ".py",
   "mimetype": "text/x-python",
   "name": "python",
   "nbconvert_exporter": "python",
   "pygments_lexer": "ipython3",
   "version": "3.9.12"
  },
  "toc": {
   "base_numbering": 1,
   "nav_menu": {},
   "number_sections": true,
   "sideBar": true,
   "skip_h1_title": true,
   "title_cell": "Table of Contents",
   "title_sidebar": "Contents",
   "toc_cell": false,
   "toc_position": {},
   "toc_section_display": true,
   "toc_window_display": false
  }
 },
 "nbformat": 4,
 "nbformat_minor": 2
}
